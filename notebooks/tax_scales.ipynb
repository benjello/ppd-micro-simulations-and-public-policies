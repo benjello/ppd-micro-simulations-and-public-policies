{
 "cells": [
  {
   "cell_type": "markdown",
   "id": "advisory-insurance",
   "metadata": {},
   "source": [
    "# Manipulating tax-scales"
   ]
  },
  {
   "cell_type": "code",
   "execution_count": null,
   "id": "undefined-label",
   "metadata": {},
   "outputs": [],
   "source": [
    "from openfisca_senegal import CountryTaxBenefitSystem as SenegalTaxBenefitSystem  # The Senegalese tax-benefits system\n",
    "from openfisca_core.periods import period # Needed to specify the periods to modify the parameters"
   ]
  },
  {
   "cell_type": "markdown",
   "id": "crude-diploma",
   "metadata": {},
   "source": [
    "## Extract the tax-scale"
   ]
  },
  {
   "cell_type": "code",
   "execution_count": null,
   "id": "federal-concert",
   "metadata": {},
   "outputs": [],
   "source": [
    "tax_benefit_system = SenegalTaxBenefitSystem()"
   ]
  },
  {
   "cell_type": "code",
   "execution_count": null,
   "id": "given-makeup",
   "metadata": {},
   "outputs": [],
   "source": [
    "bareme_impot_progressif = tax_benefit_system.parameters.prelevements_obligatoires.impots_directs.bareme_impot_progressif"
   ]
  },
  {
   "cell_type": "code",
   "execution_count": null,
   "id": "excessive-pocket",
   "metadata": {},
   "outputs": [],
   "source": [
    "bareme_impot_progressif"
   ]
  },
  {
   "cell_type": "markdown",
   "id": "seventh-console",
   "metadata": {},
   "source": [
    "## Analyse the tax scale"
   ]
  },
  {
   "cell_type": "code",
   "execution_count": null,
   "id": "olive-match",
   "metadata": {},
   "outputs": [],
   "source": [
    "type(bareme_impot_progressif.brackets)"
   ]
  },
  {
   "cell_type": "code",
   "execution_count": null,
   "id": "tribal-failing",
   "metadata": {},
   "outputs": [],
   "source": [
    "len(bareme_impot_progressif.brackets)"
   ]
  },
  {
   "cell_type": "markdown",
   "id": "tracked-atlas",
   "metadata": {},
   "source": [
    "It is a list of brackets."
   ]
  },
  {
   "cell_type": "markdown",
   "id": "partial-matrix",
   "metadata": {},
   "source": [
    "## Analyse a bracket"
   ]
  },
  {
   "cell_type": "code",
   "execution_count": null,
   "id": "diverse-anxiety",
   "metadata": {},
   "outputs": [],
   "source": [
    "bracket = bareme_impot_progressif.brackets[3]\n",
    "bracket"
   ]
  },
  {
   "cell_type": "markdown",
   "id": "everyday-nitrogen",
   "metadata": {},
   "source": [
    "## Create a bracket"
   ]
  },
  {
   "cell_type": "code",
   "execution_count": null,
   "id": "hazardous-islam",
   "metadata": {},
   "outputs": [],
   "source": [
    "from openfisca_core.parameters import Bracket"
   ]
  },
  {
   "cell_type": "code",
   "execution_count": null,
   "id": "adaptive-coordinator",
   "metadata": {},
   "outputs": [],
   "source": [
    "another_bracket = Bracket(\n",
    "    data = {\n",
    "        'rate': {\n",
    "            \"2015-01-01\": .1,\n",
    "            \"2013-01-01\": .05\n",
    "            },\n",
    "        'threshold': {\n",
    "            \"2013-01-01\": 1000\n",
    "            }\n",
    "        }\n",
    "    )\n",
    "another_bracket"
   ]
  },
  {
   "cell_type": "markdown",
   "id": "outside-calcium",
   "metadata": {},
   "source": [
    "## Modify the tax-scale"
   ]
  },
  {
   "cell_type": "markdown",
   "id": "physical-divorce",
   "metadata": {},
   "source": [
    "### Remove or add a bracket\n",
    "\n",
    "Since it is a list we can delete an element ..."
   ]
  },
  {
   "cell_type": "code",
   "execution_count": null,
   "id": "expected-wonder",
   "metadata": {},
   "outputs": [],
   "source": [
    "del bareme_impot_progressif.brackets[5]"
   ]
  },
  {
   "cell_type": "code",
   "execution_count": null,
   "id": "broke-mixer",
   "metadata": {},
   "outputs": [],
   "source": [
    "len(bareme_impot_progressif.brackets)"
   ]
  },
  {
   "cell_type": "code",
   "execution_count": null,
   "id": "sensitive-protection",
   "metadata": {},
   "outputs": [],
   "source": [
    "bareme_impot_progressif.brackets"
   ]
  },
  {
   "cell_type": "markdown",
   "id": "romantic-richardson",
   "metadata": {},
   "source": [
    "... or add a bracket"
   ]
  },
  {
   "cell_type": "code",
   "execution_count": null,
   "id": "oriented-oakland",
   "metadata": {},
   "outputs": [],
   "source": [
    "bareme_impot_progressif.brackets.insert(1, another_bracket)"
   ]
  },
  {
   "cell_type": "code",
   "execution_count": null,
   "id": "elementary-wesley",
   "metadata": {},
   "outputs": [],
   "source": [
    "bareme_impot_progressif"
   ]
  },
  {
   "cell_type": "markdown",
   "id": "instant-bradford",
   "metadata": {},
   "source": [
    "### Modify a bracket of the tax-scale "
   ]
  },
  {
   "cell_type": "code",
   "execution_count": null,
   "id": "ancient-growth",
   "metadata": {},
   "outputs": [],
   "source": [
    "bracket"
   ]
  },
  {
   "cell_type": "code",
   "execution_count": null,
   "id": "hybrid-innocent",
   "metadata": {},
   "outputs": [],
   "source": [
    "bareme_impot_progressif.brackets"
   ]
  },
  {
   "cell_type": "code",
   "execution_count": null,
   "id": "overhead-float",
   "metadata": {},
   "outputs": [],
   "source": [
    "bracket.rate.update(start = period(\"2014-01-01\"), stop = period(\"2015-12-31\"), value = .33)\n",
    "bracket"
   ]
  },
  {
   "cell_type": "code",
   "execution_count": null,
   "id": "destroyed-pocket",
   "metadata": {},
   "outputs": [],
   "source": [
    "bareme_impot_progressif"
   ]
  },
  {
   "cell_type": "code",
   "execution_count": null,
   "id": "apart-privacy",
   "metadata": {},
   "outputs": [],
   "source": [
    "bracket.threshold.update(start = period(\"2014-01-01\"), stop = period(\"2015-12-31\"), value = 5000000)"
   ]
  },
  {
   "cell_type": "code",
   "execution_count": null,
   "id": "communist-forestry",
   "metadata": {},
   "outputs": [],
   "source": [
    "bracket"
   ]
  },
  {
   "cell_type": "code",
   "execution_count": null,
   "id": "continent-chambers",
   "metadata": {},
   "outputs": [],
   "source": [
    "bareme_impot_progressif"
   ]
  },
  {
   "cell_type": "code",
   "execution_count": null,
   "id": "frequent-ferry",
   "metadata": {},
   "outputs": [],
   "source": []
  }
 ],
 "metadata": {
  "kernelspec": {
   "display_name": "Python 3 (ipykernel)",
   "language": "python",
   "name": "python3"
  },
  "language_info": {
   "codemirror_mode": {
    "name": "ipython",
    "version": 3
   },
   "file_extension": ".py",
   "mimetype": "text/x-python",
   "name": "python",
   "nbconvert_exporter": "python",
   "pygments_lexer": "ipython3",
   "version": "3.11.3"
  }
 },
 "nbformat": 4,
 "nbformat_minor": 5
}
