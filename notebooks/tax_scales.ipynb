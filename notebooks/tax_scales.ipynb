{
 "cells": [
  {
   "cell_type": "markdown",
   "id": "advisory-insurance",
   "metadata": {},
   "source": [
    "# Manipulating tax-scales"
   ]
  },
  {
   "cell_type": "code",
   "execution_count": 1,
   "id": "undefined-label",
   "metadata": {},
   "outputs": [],
   "source": [
    "from openfisca_senegal import CountryTaxBenefitSystem as SenegalTaxBenefitSystem  # The Senegalese tax-benefits system\n",
    "from openfisca_core.periods import period # Needed to specify the periods to modify the parameters"
   ]
  },
  {
   "cell_type": "markdown",
   "id": "crude-diploma",
   "metadata": {},
   "source": [
    "## Extract the tax-scale"
   ]
  },
  {
   "cell_type": "code",
   "execution_count": 2,
   "id": "federal-concert",
   "metadata": {},
   "outputs": [],
   "source": [
    "tax_benefit_system = SenegalTaxBenefitSystem()"
   ]
  },
  {
   "cell_type": "code",
   "execution_count": 3,
   "id": "given-makeup",
   "metadata": {},
   "outputs": [],
   "source": [
    "bareme_impot_progressif = tax_benefit_system.parameters.prelevements_obligatoires.impots_directs.bareme_impot_progressif"
   ]
  },
  {
   "cell_type": "code",
   "execution_count": 4,
   "id": "excessive-pocket",
   "metadata": {},
   "outputs": [
    {
     "data": {
      "text/plain": [
       "brackets:\n",
       "  - rate:\n",
       "      2013-01-01: 0.0\n",
       "    threshold:\n",
       "      2013-01-01: 0.0\n",
       "  - rate:\n",
       "      2013-01-01: 0.2\n",
       "    threshold:\n",
       "      2013-01-01: 630000.0\n",
       "  - rate:\n",
       "      2013-01-01: 0.3\n",
       "    threshold:\n",
       "      2013-01-01: 1500000.0\n",
       "  - rate:\n",
       "      2013-01-01: 0.35\n",
       "    threshold:\n",
       "      2013-01-01: 4000000.0\n",
       "  - rate:\n",
       "      2013-01-01: 0.37\n",
       "    threshold:\n",
       "      2013-01-01: 8000000.0\n",
       "  - rate:\n",
       "      2013-01-01: 0.4\n",
       "    threshold:\n",
       "      2013-01-01: 13500000.0"
      ]
     },
     "execution_count": 4,
     "metadata": {},
     "output_type": "execute_result"
    }
   ],
   "source": [
    "bareme_impot_progressif"
   ]
  },
  {
   "cell_type": "markdown",
   "id": "seventh-console",
   "metadata": {},
   "source": [
    "## Analyse the tax scale"
   ]
  },
  {
   "cell_type": "code",
   "execution_count": 5,
   "id": "olive-match",
   "metadata": {},
   "outputs": [
    {
     "data": {
      "text/plain": [
       "list"
      ]
     },
     "execution_count": 5,
     "metadata": {},
     "output_type": "execute_result"
    }
   ],
   "source": [
    "type(bareme_impot_progressif.brackets)"
   ]
  },
  {
   "cell_type": "code",
   "execution_count": 6,
   "id": "tribal-failing",
   "metadata": {},
   "outputs": [
    {
     "data": {
      "text/plain": [
       "6"
      ]
     },
     "execution_count": 6,
     "metadata": {},
     "output_type": "execute_result"
    }
   ],
   "source": [
    "len(bareme_impot_progressif.brackets)"
   ]
  },
  {
   "cell_type": "markdown",
   "id": "tracked-atlas",
   "metadata": {},
   "source": [
    "It is a list of brackets."
   ]
  },
  {
   "cell_type": "markdown",
   "id": "partial-matrix",
   "metadata": {},
   "source": [
    "## Analyse a bracket"
   ]
  },
  {
   "cell_type": "code",
   "execution_count": 7,
   "id": "diverse-anxiety",
   "metadata": {},
   "outputs": [
    {
     "data": {
      "text/plain": [
       "rate:\n",
       "  2013-01-01: 0.35\n",
       "threshold:\n",
       "  2013-01-01: 4000000.0"
      ]
     },
     "execution_count": 7,
     "metadata": {},
     "output_type": "execute_result"
    }
   ],
   "source": [
    "bracket = bareme_impot_progressif.brackets[3]\n",
    "bracket"
   ]
  },
  {
   "cell_type": "markdown",
   "id": "everyday-nitrogen",
   "metadata": {},
   "source": [
    "## Create a bracket"
   ]
  },
  {
   "cell_type": "code",
   "execution_count": 8,
   "id": "hazardous-islam",
   "metadata": {},
   "outputs": [],
   "source": [
    "from openfisca_core.parameters import Bracket"
   ]
  },
  {
   "cell_type": "code",
   "execution_count": 9,
   "id": "adaptive-coordinator",
   "metadata": {},
   "outputs": [
    {
     "data": {
      "text/plain": [
       "rate:\n",
       "  2015-01-01: 0.1\n",
       "  2013-01-01: 0.05\n",
       "threshold:\n",
       "  2013-01-01: 1000"
      ]
     },
     "execution_count": 9,
     "metadata": {},
     "output_type": "execute_result"
    }
   ],
   "source": [
    "another_bracket = Bracket(\n",
    "    data = {\n",
    "        'rate': {\n",
    "            \"2015-01-01\": .1,\n",
    "            \"2013-01-01\": .05\n",
    "            },\n",
    "        'threshold': {\n",
    "            \"2013-01-01\": 1000\n",
    "            }\n",
    "        }\n",
    "    )\n",
    "another_bracket"
   ]
  },
  {
   "cell_type": "markdown",
   "id": "outside-calcium",
   "metadata": {},
   "source": [
    "## Modify the tax-scale"
   ]
  },
  {
   "cell_type": "markdown",
   "id": "physical-divorce",
   "metadata": {},
   "source": [
    "### Remove or add a bracket\n",
    "\n",
    "Since it is a list we can delete an element ..."
   ]
  },
  {
   "cell_type": "code",
   "execution_count": 10,
   "id": "expected-wonder",
   "metadata": {},
   "outputs": [],
   "source": [
    "del bareme_impot_progressif.brackets[5]"
   ]
  },
  {
   "cell_type": "code",
   "execution_count": 11,
   "id": "broke-mixer",
   "metadata": {},
   "outputs": [
    {
     "data": {
      "text/plain": [
       "5"
      ]
     },
     "execution_count": 11,
     "metadata": {},
     "output_type": "execute_result"
    }
   ],
   "source": [
    "len(bareme_impot_progressif.brackets)"
   ]
  },
  {
   "cell_type": "code",
   "execution_count": 12,
   "id": "sensitive-protection",
   "metadata": {},
   "outputs": [
    {
     "data": {
      "text/plain": [
       "[rate:\n",
       "   2013-01-01: 0.0\n",
       " threshold:\n",
       "   2013-01-01: 0.0,\n",
       " rate:\n",
       "   2013-01-01: 0.2\n",
       " threshold:\n",
       "   2013-01-01: 630000.0,\n",
       " rate:\n",
       "   2013-01-01: 0.3\n",
       " threshold:\n",
       "   2013-01-01: 1500000.0,\n",
       " rate:\n",
       "   2013-01-01: 0.35\n",
       " threshold:\n",
       "   2013-01-01: 4000000.0,\n",
       " rate:\n",
       "   2013-01-01: 0.37\n",
       " threshold:\n",
       "   2013-01-01: 8000000.0]"
      ]
     },
     "execution_count": 12,
     "metadata": {},
     "output_type": "execute_result"
    }
   ],
   "source": [
    "bareme_impot_progressif.brackets"
   ]
  },
  {
   "cell_type": "markdown",
   "id": "romantic-richardson",
   "metadata": {},
   "source": [
    "... or add a bracket"
   ]
  },
  {
   "cell_type": "code",
   "execution_count": 13,
   "id": "oriented-oakland",
   "metadata": {},
   "outputs": [],
   "source": [
    "bareme_impot_progressif.brackets.insert(1, another_bracket)"
   ]
  },
  {
   "cell_type": "code",
   "execution_count": 14,
   "id": "elementary-wesley",
   "metadata": {},
   "outputs": [
    {
     "data": {
      "text/plain": [
       "brackets:\n",
       "  - rate:\n",
       "      2013-01-01: 0.0\n",
       "    threshold:\n",
       "      2013-01-01: 0.0\n",
       "  - rate:\n",
       "      2015-01-01: 0.1\n",
       "      2013-01-01: 0.05\n",
       "    threshold:\n",
       "      2013-01-01: 1000\n",
       "  - rate:\n",
       "      2013-01-01: 0.2\n",
       "    threshold:\n",
       "      2013-01-01: 630000.0\n",
       "  - rate:\n",
       "      2013-01-01: 0.3\n",
       "    threshold:\n",
       "      2013-01-01: 1500000.0\n",
       "  - rate:\n",
       "      2013-01-01: 0.35\n",
       "    threshold:\n",
       "      2013-01-01: 4000000.0\n",
       "  - rate:\n",
       "      2013-01-01: 0.37\n",
       "    threshold:\n",
       "      2013-01-01: 8000000.0"
      ]
     },
     "execution_count": 14,
     "metadata": {},
     "output_type": "execute_result"
    }
   ],
   "source": [
    "bareme_impot_progressif"
   ]
  },
  {
   "cell_type": "markdown",
   "id": "instant-bradford",
   "metadata": {},
   "source": [
    "### Modify a bracket of the tax-scale "
   ]
  },
  {
   "cell_type": "code",
   "execution_count": 15,
   "id": "ancient-growth",
   "metadata": {},
   "outputs": [
    {
     "data": {
      "text/plain": [
       "rate:\n",
       "  2013-01-01: 0.35\n",
       "threshold:\n",
       "  2013-01-01: 4000000.0"
      ]
     },
     "execution_count": 15,
     "metadata": {},
     "output_type": "execute_result"
    }
   ],
   "source": [
    "bracket"
   ]
  },
  {
   "cell_type": "code",
   "execution_count": 16,
   "id": "hybrid-innocent",
   "metadata": {},
   "outputs": [
    {
     "data": {
      "text/plain": [
       "[rate:\n",
       "   2013-01-01: 0.0\n",
       " threshold:\n",
       "   2013-01-01: 0.0,\n",
       " rate:\n",
       "   2015-01-01: 0.1\n",
       "   2013-01-01: 0.05\n",
       " threshold:\n",
       "   2013-01-01: 1000,\n",
       " rate:\n",
       "   2013-01-01: 0.2\n",
       " threshold:\n",
       "   2013-01-01: 630000.0,\n",
       " rate:\n",
       "   2013-01-01: 0.3\n",
       " threshold:\n",
       "   2013-01-01: 1500000.0,\n",
       " rate:\n",
       "   2013-01-01: 0.35\n",
       " threshold:\n",
       "   2013-01-01: 4000000.0,\n",
       " rate:\n",
       "   2013-01-01: 0.37\n",
       " threshold:\n",
       "   2013-01-01: 8000000.0]"
      ]
     },
     "execution_count": 16,
     "metadata": {},
     "output_type": "execute_result"
    }
   ],
   "source": [
    "bareme_impot_progressif.brackets"
   ]
  },
  {
   "cell_type": "code",
   "execution_count": 17,
   "id": "overhead-float",
   "metadata": {},
   "outputs": [
    {
     "data": {
      "text/plain": [
       "rate:\n",
       "  2016-01-01: 0.35\n",
       "  2014-01-01: 0.33\n",
       "  2013-01-01: 0.35\n",
       "threshold:\n",
       "  2013-01-01: 4000000.0"
      ]
     },
     "execution_count": 17,
     "metadata": {},
     "output_type": "execute_result"
    }
   ],
   "source": [
    "bracket.rate.update(start = period(\"2014-01-01\"), stop = period(\"2015-12-31\"), value = .33)\n",
    "bracket"
   ]
  },
  {
   "cell_type": "code",
   "execution_count": 18,
   "id": "destroyed-pocket",
   "metadata": {},
   "outputs": [
    {
     "data": {
      "text/plain": [
       "brackets:\n",
       "  - rate:\n",
       "      2013-01-01: 0.0\n",
       "    threshold:\n",
       "      2013-01-01: 0.0\n",
       "  - rate:\n",
       "      2015-01-01: 0.1\n",
       "      2013-01-01: 0.05\n",
       "    threshold:\n",
       "      2013-01-01: 1000\n",
       "  - rate:\n",
       "      2013-01-01: 0.2\n",
       "    threshold:\n",
       "      2013-01-01: 630000.0\n",
       "  - rate:\n",
       "      2013-01-01: 0.3\n",
       "    threshold:\n",
       "      2013-01-01: 1500000.0\n",
       "  - rate:\n",
       "      2016-01-01: 0.35\n",
       "      2014-01-01: 0.33\n",
       "      2013-01-01: 0.35\n",
       "    threshold:\n",
       "      2013-01-01: 4000000.0\n",
       "  - rate:\n",
       "      2013-01-01: 0.37\n",
       "    threshold:\n",
       "      2013-01-01: 8000000.0"
      ]
     },
     "execution_count": 18,
     "metadata": {},
     "output_type": "execute_result"
    }
   ],
   "source": [
    "bareme_impot_progressif"
   ]
  },
  {
   "cell_type": "code",
   "execution_count": 19,
   "id": "apart-privacy",
   "metadata": {},
   "outputs": [],
   "source": [
    "bracket.threshold.update(start = period(\"2014-01-01\"), stop = period(\"2015-12-31\"), value = 5000000)"
   ]
  },
  {
   "cell_type": "code",
   "execution_count": 20,
   "id": "communist-forestry",
   "metadata": {},
   "outputs": [
    {
     "data": {
      "text/plain": [
       "rate:\n",
       "  2016-01-01: 0.35\n",
       "  2014-01-01: 0.33\n",
       "  2013-01-01: 0.35\n",
       "threshold:\n",
       "  2016-01-01: 4000000.0\n",
       "  2014-01-01: 5000000\n",
       "  2013-01-01: 4000000.0"
      ]
     },
     "execution_count": 20,
     "metadata": {},
     "output_type": "execute_result"
    }
   ],
   "source": [
    "bracket"
   ]
  },
  {
   "cell_type": "code",
   "execution_count": 21,
   "id": "continent-chambers",
   "metadata": {},
   "outputs": [
    {
     "data": {
      "text/plain": [
       "brackets:\n",
       "  - rate:\n",
       "      2013-01-01: 0.0\n",
       "    threshold:\n",
       "      2013-01-01: 0.0\n",
       "  - rate:\n",
       "      2015-01-01: 0.1\n",
       "      2013-01-01: 0.05\n",
       "    threshold:\n",
       "      2013-01-01: 1000\n",
       "  - rate:\n",
       "      2013-01-01: 0.2\n",
       "    threshold:\n",
       "      2013-01-01: 630000.0\n",
       "  - rate:\n",
       "      2013-01-01: 0.3\n",
       "    threshold:\n",
       "      2013-01-01: 1500000.0\n",
       "  - rate:\n",
       "      2016-01-01: 0.35\n",
       "      2014-01-01: 0.33\n",
       "      2013-01-01: 0.35\n",
       "    threshold:\n",
       "      2016-01-01: 4000000.0\n",
       "      2014-01-01: 5000000\n",
       "      2013-01-01: 4000000.0\n",
       "  - rate:\n",
       "      2013-01-01: 0.37\n",
       "    threshold:\n",
       "      2013-01-01: 8000000.0"
      ]
     },
     "execution_count": 21,
     "metadata": {},
     "output_type": "execute_result"
    }
   ],
   "source": [
    "bareme_impot_progressif"
   ]
  },
  {
   "cell_type": "code",
   "execution_count": null,
   "id": "frequent-ferry",
   "metadata": {},
   "outputs": [],
   "source": []
  }
 ],
 "metadata": {
  "kernelspec": {
   "display_name": "Python 3 (ipykernel)",
   "language": "python",
   "name": "python3"
  },
  "language_info": {
   "codemirror_mode": {
    "name": "ipython",
    "version": 3
   },
   "file_extension": ".py",
   "mimetype": "text/x-python",
   "name": "python",
   "nbconvert_exporter": "python",
   "pygments_lexer": "ipython3",
   "version": "3.9.2"
  }
 },
 "nbformat": 4,
 "nbformat_minor": 5
}
