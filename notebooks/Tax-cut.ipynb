{
 "cells": [
  {
   "cell_type": "markdown",
   "metadata": {
    "colab_type": "text",
    "id": "pDoHdufoe6km"
   },
   "source": [
    "# Microsimulation of public policies -- Exam : Tax cut subject\n",
    "\n",
    "#### Professors: Brice Fabre and Sylvain Duchesne\n",
    "\n",
    "You work as an economist at the Hipeepee Institute, in the country of Peehesseeland. Your job consists in producing ex ante evaluations of fiscal reforms in this country. We are in elections period, and several proposals are made by different parties regarding the tax and benefit system, and you have to provide to the public debate elements related to these proposals."
   ]
  },
  {
   "cell_type": "code",
   "execution_count": null,
   "metadata": {
    "colab": {
     "base_uri": "https://localhost:8080/",
     "height": 598
    },
    "colab_type": "code",
    "collapsed": false,
    "executionInfo": {
     "elapsed": 4576,
     "status": "ok",
     "timestamp": 1553612904267,
     "user": {
      "displayName": "Mahdi Ben Jelloul",
      "photoUrl": "",
      "userId": "11724656978735306084"
     },
     "user_tz": -60
    },
    "id": "97uY54ape8hD",
    "jupyter": {
     "outputs_hidden": false
    },
    "outputId": "2c826387-8c6e-4ea7-898c-792324055865"
   },
   "outputs": [],
   "source": [
    "#!pip install OpenFisca-PPDLand == 0.3.3 ## YOU NEED TO UNCOMMENT AND RUN THIS LINE ONLY ONCE"
   ]
  },
  {
   "cell_type": "code",
   "execution_count": null,
   "metadata": {
    "colab": {
     "base_uri": "https://localhost:8080/",
     "height": 71
    },
    "colab_type": "code",
    "collapsed": false,
    "executionInfo": {
     "elapsed": 577,
     "status": "ok",
     "timestamp": 1553612907932,
     "user": {
      "displayName": "Mahdi Ben Jelloul",
      "photoUrl": "",
      "userId": "11724656978735306084"
     },
     "user_tz": -60
    },
    "id": "EQxfQt0Ie6ko",
    "jupyter": {
     "outputs_hidden": false
    },
    "outputId": "ecce320b-cb55-4d13-e2db-efc30dcb664d"
   },
   "outputs": [],
   "source": [
    "import matplotlib.pyplot as plt  # For graphics\n",
    "%matplotlib inline\n",
    "\n",
    "import inspect\n",
    "import numpy as np  # linear algebra and math\n",
    "import pandas as pd  # data frames_\n",
    "\n",
    "from ppdland import CountryTaxBenefitSystem as PSELandTaxBenefitSystem\n",
    "from ppdland.scenarios import PPDLandSurveyScenario as PSELandSurveyScenario\n",
    "from ppdland.scenarios import init_single_entity\n",
    "from ppdland.data import create_input_dataframe\n",
    "\n",
    "from openfisca_core.model_api import max_\n",
    "from openfisca_core.rates import marginal_rate\n",
    "\n",
    "from scipy.optimize import fsolve\n",
    "\n",
    "from openfisca_core.model_api import *\n",
    "from ppdland.entities import Individu\n",
    "\n",
    "\n",
    "\n",
    "%config Completer.use_jedi = False"
   ]
  },
  {
   "cell_type": "markdown",
   "metadata": {
    "colab_type": "text",
    "id": "ihJVH54he6kr"
   },
   "source": [
    "## 1. Explore the current system"
   ]
  },
  {
   "cell_type": "markdown",
   "metadata": {},
   "source": [
    "You anticipate that you will have to make soon evaluations in small windows of time. In order to be operational at the right moment, you decide to refresh your memory on what the current system looks like."
   ]
  },
  {
   "cell_type": "markdown",
   "metadata": {
    "colab_type": "text",
    "id": "UiT8_PFLe6k-"
   },
   "source": [
    "We create an input dataframe that we will use later on"
   ]
  },
  {
   "cell_type": "markdown",
   "metadata": {
    "colab_type": "text",
    "id": "B3S6JEm3e6ks"
   },
   "source": [
    "For the whole exercise the period concerned is `period = 2020`"
   ]
  },
  {
   "cell_type": "markdown",
   "metadata": {
    "colab_type": "text",
    "id": "usAiWre4e6kt"
   },
   "source": [
    "### 1.1 What are the main components of the existing tax and benefit system ?"
   ]
  },
  {
   "cell_type": "code",
   "execution_count": null,
   "metadata": {
    "colab": {
     "base_uri": "https://localhost:8080/",
     "height": 34
    },
    "colab_type": "code",
    "collapsed": false,
    "executionInfo": {
     "elapsed": 584,
     "status": "ok",
     "timestamp": 1553612910741,
     "user": {
      "displayName": "Mahdi Ben Jelloul",
      "photoUrl": "",
      "userId": "11724656978735306084"
     },
     "user_tz": -60
    },
    "id": "939RBPzoe6kt",
    "jupyter": {
     "outputs_hidden": false
    },
    "outputId": "bb2dadd3-5b71-4d4b-ee9f-4ea58c34b0e9"
   },
   "outputs": [],
   "source": [
    "tax_benefit_system = PSELandTaxBenefitSystem()\n",
    "TODO\n",
    "print(variables)"
   ]
  },
  {
   "cell_type": "code",
   "execution_count": null,
   "metadata": {
    "colab": {
     "base_uri": "https://localhost:8080/",
     "height": 204
    },
    "colab_type": "code",
    "collapsed": false,
    "executionInfo": {
     "elapsed": 749,
     "status": "ok",
     "timestamp": 1553612911138,
     "user": {
      "displayName": "Mahdi Ben Jelloul",
      "photoUrl": "",
      "userId": "11724656978735306084"
     },
     "user_tz": -60
    },
    "id": "-Mp0xoD_e6kz",
    "jupyter": {
     "outputs_hidden": false
    },
    "outputId": "603df0b1-35c4-4e49-e011-7a783698a0b1"
   },
   "outputs": [],
   "source": [
    "for variable_name in variables:\n",
    "    TODO\n",
    "    try:\n",
    "        print(variable.name, \":\", variable.label)\n",
    "        TODO\n",
    "    except Exception:\n",
    "        # No formula\n",
    "        pass\n"
   ]
  },
  {
   "cell_type": "markdown",
   "metadata": {},
   "source": [
    "### 1.2 Display the features of the existing income tax (tax base, tax schedule)."
   ]
  },
  {
   "cell_type": "code",
   "execution_count": null,
   "metadata": {},
   "outputs": [],
   "source": [
    "from ppdland.variables import variables\n",
    "TODO"
   ]
  },
  {
   "cell_type": "code",
   "execution_count": null,
   "metadata": {},
   "outputs": [],
   "source": [
    "print(TODO.tax_scale)"
   ]
  },
  {
   "cell_type": "markdown",
   "metadata": {
    "colab_type": "text",
    "id": "LHIF5RmTe6k2"
   },
   "source": [
    "### 1.3 Represent budget constraints: draw the net disposable income by pre-tax income for a wage earner. Display also in each graph the first bisector."
   ]
  },
  {
   "cell_type": "code",
   "execution_count": null,
   "metadata": {
    "colab": {
     "base_uri": "https://localhost:8080/",
     "height": 296
    },
    "colab_type": "code",
    "collapsed": false,
    "executionInfo": {
     "elapsed": 931,
     "status": "ok",
     "timestamp": 1553612913692,
     "user": {
      "displayName": "Mahdi Ben Jelloul",
      "photoUrl": "",
      "userId": "11724656978735306084"
     },
     "user_tz": -60
    },
    "id": "d02BRG9Re6k3",
    "jupyter": {
     "outputs_hidden": false
    },
    "outputId": "444e8c6c-0092-4c85-e433-e37062250f7e"
   },
   "outputs": [],
   "source": [
    "scenario = PSELandTaxBenefitSystem().new_scenario()\n",
    "scenario = init_single_entity(\n",
    "    scenario,\n",
    "    parent1 = {},\n",
    "    period = '2020',\n",
    "    axes = [[\n",
    "        {\n",
    "            'count': 100,\n",
    "            'min': 0,\n",
    "            'max': 9000,\n",
    "            'name': 'salary',\n",
    "            }\n",
    "        ]],\n",
    "    )\n",
    "simulation = TODO\n",
    "TODO\n",
    "plt.plot(TODO, label = 'disposable_income')\n",
    "plt.plot(TODO, label = 'first bisector')\n",
    "plt.xlabel('salary')\n",
    "plt.legend()"
   ]
  },
  {
   "cell_type": "markdown",
   "metadata": {},
   "source": [
    "### 1.4 Compute the labour force participation rate (assumption : no unemployment; i.e. every individual finds a job related to her labour supply)."
   ]
  },
  {
   "cell_type": "code",
   "execution_count": null,
   "metadata": {
    "colab": {},
    "colab_type": "code",
    "id": "wDvn4PXYe6k_"
   },
   "outputs": [],
   "source": [
    "input_data_frame = create_input_dataframe()\n",
    "scenario = PSELandSurveyScenario(\n",
    "    data = dict(input_data_frame = input_data_frame),\n",
    "    tax_benefit_system = PSELandTaxBenefitSystem(),\n",
    "    year = 2020,\n",
    "    )"
   ]
  },
  {
   "cell_type": "code",
   "execution_count": null,
   "metadata": {},
   "outputs": [],
   "source": [
    "participation_rate = TODO\n",
    "print('Participation rate = {} %'.format(100 * participation_rate))"
   ]
  },
  {
   "cell_type": "markdown",
   "metadata": {
    "colab_type": "text",
    "id": "FwJAh02De6lK"
   },
   "source": [
    "### 1.5 Compute and represent graphically the mean disposable income by decile of pre-tax income."
   ]
  },
  {
   "cell_type": "code",
   "execution_count": null,
   "metadata": {
    "colab": {
     "base_uri": "https://localhost:8080/",
     "height": 298
    },
    "colab_type": "code",
    "collapsed": false,
    "executionInfo": {
     "elapsed": 1225,
     "status": "ok",
     "timestamp": 1553612930738,
     "user": {
      "displayName": "Mahdi Ben Jelloul",
      "photoUrl": "",
      "userId": "11724656978735306084"
     },
     "user_tz": -60
    },
    "id": "FW_zphT6e6lL",
    "jupyter": {
     "outputs_hidden": false
    },
    "outputId": "2eeeca00-68af-4621-d6b2-d14e85da15f9"
   },
   "outputs": [],
   "source": [
    "df = scenario.compute_pivot_table(\n",
    "    TODO,\n",
    "    period = 2020,\n",
    "    )\n",
    "df.stack().reset_index().plot(x = 'pre_tax_income_decile', kind = 'bar')"
   ]
  },
  {
   "cell_type": "code",
   "execution_count": null,
   "metadata": {},
   "outputs": [],
   "source": []
  },
  {
   "cell_type": "markdown",
   "metadata": {
    "colab_type": "text",
    "id": "A8IUFncZe6lO"
   },
   "source": [
    "## 2. Reducing income tax through a reform\n"
   ]
  },
  {
   "cell_type": "markdown",
   "metadata": {},
   "source": [
    "The elections get close, and there are some protests of low-income people. The government wants to reduce taxes for these people by reforming the income tax. The tax schedule is unchanged. However, every individual whose income tax is lower than 25 euros will benefit from a tax reduction equals to 18.75-0.75*(income tax before reduction)."
   ]
  },
  {
   "cell_type": "markdown",
   "metadata": {},
   "source": [
    "### 2.1 Represent the change in income tax implied by this policy: produce a graph showing two curves: the income tax before the reform by pre-tax income level for the case of a single individual wage earner, and the income tax after the reform."
   ]
  },
  {
   "cell_type": "markdown",
   "metadata": {
    "colab_type": "text",
    "id": "dPVjBbPne6lQ"
   },
   "source": [
    "* Write the function that build the reform by completing the cell template\n",
    "\n"
   ]
  },
  {
   "cell_type": "code",
   "execution_count": null,
   "metadata": {
    "colab": {},
    "colab_type": "code",
    "id": "LM53bbaGe6lR"
   },
   "outputs": [],
   "source": [
    "def build_reform_with_tax_reduction():    \n",
    "    tax_benefit_system = PSELandTaxBenefitSystem()\n",
    "    \n",
    "    class income_tax(Variable):\n",
    "        def formula(individu, period, parameters):\n",
    "            salary = individu('salary', period)\n",
    "            pension = individu('pension', period)\n",
    "            taxable_income = salary + pension\n",
    "            tax_scale = parameters(period).tax_scale\n",
    "            income_tax_before_reduction = tax_scale.calc(taxable_income)\n",
    "            tax_reduction = TODO\n",
    "            income_tax_after_reduction = TODO  # you can use max_ to get element-wise maximum of array elements.\n",
    "            return income_tax_after_reduction\n",
    "    \n",
    "    class reformed_tbs(Reform):\n",
    "        name = u\"Adding a tax deduction\"\n",
    "\n",
    "        def apply(self):\n",
    "            self.update_variable(income_tax)\n",
    "\n",
    "    return reformed_tbs(tax_benefit_system)"
   ]
  },
  {
   "cell_type": "code",
   "execution_count": null,
   "metadata": {},
   "outputs": [],
   "source": [
    "baseline_scenario = PSELandTaxBenefitSystem().new_scenario()\n",
    "baseline_scenario = init_single_entity(\n",
    "    baseline_scenario,\n",
    "    parent1 = {},\n",
    "    period = '2020',\n",
    "    axes = [[\n",
    "        {\n",
    "            'count': 10000,\n",
    "            'min': 0,\n",
    "            'max': 2000,\n",
    "            'name': 'salary',\n",
    "            }\n",
    "        ]],\n",
    "    )\n",
    "\n",
    "reformed_tax_benefit_system = build_reform_with_tax_reduction()\n",
    "reformed_scenario = reformed_tax_benefit_system.new_scenario()\n",
    "reformed_scenario = init_single_entity(\n",
    "    reformed_scenario,\n",
    "    parent1 = {},\n",
    "    period = '2020',\n",
    "    axes = [[\n",
    "        {\n",
    "            'count': 10000,\n",
    "            'min': 0,\n",
    "            'max': 2000,\n",
    "            'name': 'salary',\n",
    "            }\n",
    "        ]],\n",
    "    )\n",
    "\n",
    "TODO"
   ]
  },
  {
   "cell_type": "markdown",
   "metadata": {
    "colab_type": "text",
    "id": "iMuLQdKpe6mJ"
   },
   "source": [
    "### 2.2 Compute the cost of this reform (in million euros)"
   ]
  },
  {
   "cell_type": "markdown",
   "metadata": {
    "colab_type": "text",
    "id": "g-6y_Gnee6mL"
   },
   "source": [
    "Define a more general `cost` function"
   ]
  },
  {
   "cell_type": "code",
   "execution_count": null,
   "metadata": {
    "colab": {},
    "colab_type": "code",
    "id": "NdwOWRste6mR"
   },
   "outputs": [],
   "source": [
    "def cost():\n",
    "    reformed_tax_benefit_system = add_bracket_reform()\n",
    "    scenario = PSELandSurveyScenario(\n",
    "        data = dict(input_data_frame = input_data_frame),\n",
    "        TODO,\n",
    "        year = 2020,\n",
    "        )\n",
    "\n",
    "    amount = (\n",
    "        TODO\n",
    "        )\n",
    "    return TODO / 1e6"
   ]
  },
  {
   "cell_type": "code",
   "execution_count": null,
   "metadata": {
    "colab": {
     "base_uri": "https://localhost:8080/",
     "height": 34
    },
    "colab_type": "code",
    "collapsed": false,
    "executionInfo": {
     "elapsed": 619,
     "status": "ok",
     "timestamp": 1553612945624,
     "user": {
      "displayName": "Mahdi Ben Jelloul",
      "photoUrl": "",
      "userId": "11724656978735306084"
     },
     "user_tz": -60
    },
    "id": "j-IpJQ1Qe6mW",
    "jupyter": {
     "outputs_hidden": false
    },
    "outputId": "58e43b69-aa20-411a-aeb2-b3585f843a51"
   },
   "outputs": [],
   "source": [
    "cost()"
   ]
  },
  {
   "cell_type": "markdown",
   "metadata": {},
   "source": [
    "### 2.3 Compute the redistributive effects of the reform: draw a graph showing the mean variation in disposable income by decile of pre-reform pre-tax income"
   ]
  },
  {
   "cell_type": "code",
   "execution_count": null,
   "metadata": {},
   "outputs": [],
   "source": [
    "reformed_tax_benefit_system = build_reform_with_tax_reduction()\n",
    "scenario = PSELandSurveyScenario(\n",
    "    data = dict(input_data_frame = input_data_frame),\n",
    "    TODO,\n",
    "    year = 2020,\n",
    "    )\n",
    "# disposable_income difference after - before by decile\n",
    "df = scenario.compute_pivot_table(\n",
    "    TODO\n",
    "    period = 2020,\n",
    "    )\n",
    "df.transpose().reset_index().plot(x = 'pre_tax_income_decile', kind = 'bar')"
   ]
  },
  {
   "cell_type": "markdown",
   "metadata": {},
   "source": [
    "### 2.4 Interpret the results"
   ]
  },
  {
   "cell_type": "markdown",
   "metadata": {},
   "source": [
    "Write your answer here"
   ]
  },
  {
   "cell_type": "markdown",
   "metadata": {},
   "source": [
    "### 2.5 Is there a drawback to this reform ? Describe it if yes"
   ]
  },
  {
   "cell_type": "markdown",
   "metadata": {},
   "source": [
    "Write your answer here"
   ]
  },
  {
   "cell_type": "markdown",
   "metadata": {},
   "source": [
    "### 2.6 Your boss asks you whether this figure is the only way to represent the redistributive effects of this reform. What would you answer her/him about other potential representations, the underlying trade-off between these different possibilities, and information you would need to draw such alternative representations?"
   ]
  },
  {
   "cell_type": "markdown",
   "metadata": {},
   "source": [
    "Write your answer here"
   ]
  },
  {
   "cell_type": "markdown",
   "metadata": {},
   "source": [
    "## 3. Making the reform budget neutral"
   ]
  },
  {
   "cell_type": "markdown",
   "metadata": {},
   "source": [
    "Following the publication of your work, some citizens complain that there will be a deficit, and that we do not know in the end who will pay for it. Under pressure, the government decides to increase the top marginal tax rate."
   ]
  },
  {
   "cell_type": "markdown",
   "metadata": {},
   "source": [
    "### 3.1 Compute the top-marginal tax rate which makes the reform budget neutral.  "
   ]
  },
  {
   "cell_type": "code",
   "execution_count": null,
   "metadata": {},
   "outputs": [],
   "source": [
    "def build_reform(top_marginal_rate):\n",
    "    tax_benefit_system = build_reform_with_tax_reduction()\n",
    "    def modify_top_rate(parameters):\n",
    "        TODO\n",
    "        return parameters\n",
    "\n",
    "    class reformed_tbs(Reform):\n",
    "        name = u\"Setting the top marginal rate to {}\".format(top_marginal_rate)\n",
    "        def apply(self):\n",
    "            self.modify_parameters(modifier_function = modify_top_rate)\n",
    "\n",
    "    return reformed_tbs(tax_benefit_system)"
   ]
  },
  {
   "cell_type": "code",
   "execution_count": null,
   "metadata": {},
   "outputs": [],
   "source": [
    "def cost(top_marginal_rate):\n",
    "    top_marginal_rate = float(top_marginal_rate)\n",
    "    reformed_tax_benefit_system = TODO\n",
    "    scenario = PSELandSurveyScenario(\n",
    "        data = dict(input_data_frame = input_data_frame),\n",
    "        TODO,\n",
    "        year = 2020,\n",
    "        )\n",
    "\n",
    "    amount = (\n",
    "        TODO\n",
    "        )\n",
    "    return TODO / 1e6"
   ]
  },
  {
   "cell_type": "code",
   "execution_count": null,
   "metadata": {},
   "outputs": [],
   "source": [
    "cost(.5)\n",
    "budget_balancing_top_marginal_rate = TODO  # you can use fsolve\n",
    "print(f\"The budget-balancing top marginal tax rate is {budget_balancing_top_marginal_rate}\")"
   ]
  },
  {
   "cell_type": "markdown",
   "metadata": {},
   "source": [
    "### 3.2 Represent the change in income tax implied by this policy: produce a graph showing two curves: the income tax before the reform by pre-tax income level for the case of a single individual wage earner, and the income tax after the reform (reform = the new tax reduction + the new top tax rate)."
   ]
  },
  {
   "cell_type": "code",
   "execution_count": null,
   "metadata": {},
   "outputs": [],
   "source": [
    "baseline_scenario = PSELandTaxBenefitSystem().new_scenario()\n",
    "baseline_scenario = init_single_entity(\n",
    "    baseline_scenario,\n",
    "    parent1 = {},\n",
    "    period = '2020',\n",
    "    axes = [[\n",
    "        {\n",
    "            'count': 10000,\n",
    "            'min': 0,\n",
    "            'max': 2000,\n",
    "            'name': 'salary',\n",
    "            }\n",
    "        ]],\n",
    "    )\n",
    "\n",
    "TODO"
   ]
  },
  {
   "cell_type": "markdown",
   "metadata": {},
   "source": [
    "### 3.3 Compute the redistributive effects of the reform: draw a graph showing the mean variation in disposable income by decile of pre-reform pre-tax income."
   ]
  },
  {
   "cell_type": "code",
   "execution_count": null,
   "metadata": {},
   "outputs": [],
   "source": [
    "TODO"
   ]
  },
  {
   "cell_type": "markdown",
   "metadata": {},
   "source": [
    "## 4. Labour supply behavioural responses along the extensive margin"
   ]
  },
  {
   "cell_type": "markdown",
   "metadata": {
    "tags": []
   },
   "source": [
    "Now, your boss says you that behavioural responses are, according to the recent papers, mainly along the extensive margin. Your boss asks you to evaluate the impact of this reform by taking into account only responses at the extensive margin, taking an elasticity of 0.6. Reminder: this elasticity is equal to the variation of the probability to work when the difference of disposable income between working and not working increases by 1%. For simplicity, we assume that the initial probability to work is the same for all individuals and equal to the share of workers in the labour force."
   ]
  },
  {
   "cell_type": "markdown",
   "metadata": {},
   "source": [
    "### 4.1 What do you think about this strategy (the extensive margin is the most relevant) regarding the existing literature?"
   ]
  },
  {
   "cell_type": "markdown",
   "metadata": {},
   "source": [
    "Write your answer here"
   ]
  },
  {
   "cell_type": "markdown",
   "metadata": {},
   "source": [
    "### 4.2 Explain in plain English in which direction behavioural responses in this setting will go."
   ]
  },
  {
   "cell_type": "markdown",
   "metadata": {},
   "source": [
    "Write your answer here"
   ]
  },
  {
   "cell_type": "markdown",
   "metadata": {},
   "source": [
    "### 4.3 Implement the reform that takes into account behavioural responses. Produce summary statistics on the variation in participation: the share of former non-participants who participate now (if some) and the share of former participant who still participate (if some)"
   ]
  },
  {
   "cell_type": "code",
   "execution_count": null,
   "metadata": {},
   "outputs": [],
   "source": [
    "def participation_extension(top_marginal_rate):\n",
    "    tax_benefit_system = build_reform(top_marginal_rate)\n",
    "\n",
    "    class disposable_income_participation_variation(Variable):\n",
    "        definition_period = YEAR\n",
    "        entity = Individu\n",
    "        value_type = float\n",
    "\n",
    "        def formula(individu, period, parameters):\n",
    "            # If an individual starts working, she is supposed to earn her potential salary\n",
    "            # it is nonzero only for potential and actual wage earners\n",
    "            # salary is nonzero only for actual wage earners\n",
    "            potential_salary = individu('potential_salary', period)\n",
    "\n",
    "            def compute_income_tax_after_reduction(salary_):\n",
    "                TODO\n",
    "                return TODO\n",
    "\n",
    "            disposable_income_participation_variation = where(\n",
    "                potential_salary > 0,\n",
    "                TODO,\n",
    "                0\n",
    "                )\n",
    "            return disposable_income_participation_variation\n",
    "\n",
    "    class participation_adjusted_salary(Variable):\n",
    "        definition_period = YEAR\n",
    "        entity = Individu\n",
    "        value_type = float\n",
    "\n",
    "        def formula_2020(individu, period, parameters):\n",
    "            np.random.seed(seed = 42)\n",
    "            salary = individu('salary', period)\n",
    "            potential_salary = individu('potential_salary', period)\n",
    "\n",
    "            disposable_income_participation_variation = individu('disposable_income_participation_variation', period)\n",
    "            pre_reform_disposable_income_participation_variation = where(\n",
    "                potential_salary > 0,\n",
    "                TODO,\n",
    "                0\n",
    "                )\n",
    "            eta = .6\n",
    "            delta_DIPV_over_DIPV = where(\n",
    "                potential_salary > 0,\n",
    "                TODO,\n",
    "                0,\n",
    "                )\n",
    "            initial_participation_probability = sum(salary > 0) / sum(potential_salary > 0)\n",
    "            delta_participation_probability = eta * TODO * TODO\n",
    "            new_participation_probability = initial_participation_probability + delta_participation_probability\n",
    "            probability_still_in_work_among_initial_workers = TODO\n",
    "            still_in_work = (\n",
    "                (salary > 0)\n",
    "                * (np.random.uniform(size = len(salary)) < probability_still_in_work_among_initial_workers)\n",
    "                )\n",
    "            print(\"Share of initial workers still working: \", sum(still_in_work) / sum(salary > 0))\n",
    "\n",
    "            probability_newly_employed = TODO\n",
    "            newly_employed = (\n",
    "                (salary == 0) * (potential_salary > 0)\n",
    "                * (np.random.uniform(size = len((salary == 0) * (potential_salary > 0))) < probability_newly_employed)\n",
    "                )\n",
    "            print(\"Share of initial non-participants entering into participation: \", sum(newly_employed) / sum((salary == 0) * (potential_salary > 0)))\n",
    "\n",
    "\n",
    "            return where(\n",
    "                still_in_work + newly_employed,  # + is or for boolean\n",
    "                potential_salary,\n",
    "                0\n",
    "                )\n",
    "\n",
    "    class income_tax(Variable):\n",
    "        definition_period = YEAR\n",
    "        entity = Individu\n",
    "        value_type = float\n",
    "\n",
    "        def formula(individu, period, parameters):\n",
    "            TODO\n",
    "\n",
    "    class disposable_income(Variable):\n",
    "        definition_period = YEAR\n",
    "        entity = Individu\n",
    "        value_type = float\n",
    "\n",
    "        def formula_2020(individu, period):\n",
    "            TODO\n",
    "\n",
    "    class reformed_tbs(Reform):\n",
    "        name = \"Reformed tax benefit system\"\n",
    "\n",
    "        def apply(self):\n",
    "            self.add_variable(TODO)\n",
    "            self.add_variable(TODO)\n",
    "            self.update_variable(TODO)\n",
    "            self.update_variable(TODO)\n",
    "\n",
    "    return reformed_tbs(tax_benefit_system)"
   ]
  },
  {
   "cell_type": "code",
   "execution_count": null,
   "metadata": {},
   "outputs": [],
   "source": [
    "participation_adjusted_reformed_tax_benefit_system = TODO\n",
    "scenario = PSELandSurveyScenario(\n",
    "    data = dict(input_data_frame = input_data_frame),\n",
    "    TODO,\n",
    "    TODO,\n",
    "    year = 2020,\n",
    "    )"
   ]
  },
  {
   "cell_type": "code",
   "execution_count": null,
   "metadata": {},
   "outputs": [],
   "source": [
    "salary = scenario.calculate_variable(\"salary\", period = 2020)\n",
    "potential_salary = scenario.calculate_variable(\"potential_salary\", period = 2020)\n",
    "participation_adjusted_salary = scenario.calculate_variable(\"participation_adjusted_salary\", period = 2020)\n",
    "print(\"Share of initial non-participants entering into participation: {} %\".format(\n",
    "    100 * TODO\n",
    "    ))\n",
    "print(\"Share of initial participants who still participate:  {} %\".format(\n",
    "    100 * TODO\n",
    "    ))\n"
   ]
  },
  {
   "cell_type": "markdown",
   "metadata": {},
   "source": [
    "### 4.4 Compute the cost of the reform after taking into account these behavioural responses."
   ]
  },
  {
   "cell_type": "code",
   "execution_count": null,
   "metadata": {},
   "outputs": [],
   "source": [
    "TODO"
   ]
  },
  {
   "cell_type": "markdown",
   "metadata": {
    "colab_type": "text",
    "id": "9-gQ7j2ce6nj"
   },
   "source": [
    "### 4.5 Compute the new labour force participation rate."
   ]
  },
  {
   "cell_type": "code",
   "execution_count": null,
   "metadata": {
    "colab": {
     "base_uri": "https://localhost:8080/",
     "height": 51
    },
    "colab_type": "code",
    "collapsed": false,
    "executionInfo": {
     "elapsed": 814,
     "status": "ok",
     "timestamp": 1553613058299,
     "user": {
      "displayName": "Mahdi Ben Jelloul",
      "photoUrl": "",
      "userId": "11724656978735306084"
     },
     "user_tz": -60
    },
    "id": "GQUsf774e6nk",
    "jupyter": {
     "outputs_hidden": false
    },
    "outputId": "ad5a8e3e-891a-4df7-f0ad-5abff2b37f85"
   },
   "outputs": [],
   "source": [
    "previous_participation_rate = (\n",
    "    TODO\n",
    "    )\n",
    "print('Initial participation rate = {} %'.format(100 * participation_rate))"
   ]
  },
  {
   "cell_type": "code",
   "execution_count": null,
   "metadata": {},
   "outputs": [],
   "source": [
    "participation_rate = (\n",
    "    TODO\n",
    "    )\n",
    "print('Participation rate = {} %'.format(100 * participation_rate))"
   ]
  },
  {
   "cell_type": "markdown",
   "metadata": {},
   "source": [
    "### 4.6 Compute the redistributive effects of the reform: draw a graph showing the mean variation in disposable income by decile of pre-reform pre-tax income."
   ]
  },
  {
   "cell_type": "code",
   "execution_count": null,
   "metadata": {},
   "outputs": [],
   "source": [
    "TODO"
   ]
  },
  {
   "cell_type": "markdown",
   "metadata": {},
   "source": [
    "### 4.7 Comment all these results."
   ]
  },
  {
   "cell_type": "markdown",
   "metadata": {},
   "source": [
    "Write your answer here"
   ]
  },
  {
   "cell_type": "markdown",
   "metadata": {},
   "source": [
    "# 5. About the future"
   ]
  },
  {
   "cell_type": "markdown",
   "metadata": {},
   "source": [
    "### Your boss says that now, you have to publish all your work, because journalists are getting crazy for not having the results of your evaluation. However, he suggests that you need to have together a meeting to talk about other ways to microsimulate the impacts of reforms of these kinds, in order to anticipate for future work.\n"
   ]
  },
  {
   "cell_type": "markdown",
   "metadata": {},
   "source": [
    "Write your answer here"
   ]
  }
 ],
 "metadata": {
  "colab": {
   "collapsed_sections": [],
   "name": "Exam.ipynb",
   "provenance": [],
   "version": "0.3.2"
  },
  "kernelspec": {
   "display_name": "Python 3 (ipykernel)",
   "language": "python",
   "name": "python3"
  },
  "language_info": {
   "codemirror_mode": {
    "name": "ipython",
    "version": 3
   },
   "file_extension": ".py",
   "mimetype": "text/x-python",
   "name": "python",
   "nbconvert_exporter": "python",
   "pygments_lexer": "ipython3",
   "version": "3.9.18"
  }
 },
 "nbformat": 4,
 "nbformat_minor": 4
}
