{
 "cells": [
  {
   "cell_type": "markdown",
   "id": "advisory-insurance",
   "metadata": {},
   "source": [
    "# Manipulating tax-scales"
   ]
  },
  {
   "cell_type": "code",
   "execution_count": null,
   "id": "undefined-label",
   "metadata": {},
   "outputs": [],
   "source": [
    "from openfisca_senegal import CountryTaxBenefitSystem as SenegalTaxBenefitSystem  # The Senegalese tax-benefits system\n",
    "from openfisca_core.periods import period # Needed to specify the periods to modify the parameters"
   ]
  },
  {
   "cell_type": "markdown",
   "id": "crude-diploma",
   "metadata": {},
   "source": [
    "## Extract the tax-scale"
   ]
  },
  {
   "cell_type": "code",
   "execution_count": null,
   "id": "federal-concert",
   "metadata": {},
   "outputs": [],
   "source": [
    "tax_benefit_system = SenegalTaxBenefitSystem()"
   ]
  },
  {
   "cell_type": "code",
   "execution_count": null,
   "id": "given-makeup",
   "metadata": {},
   "outputs": [],
   "source": [
    "bareme_impot_progressif = tax_benefit_system.parameters.prelevements_obligatoires.impots_directs.bareme_impot_progressif"
   ]
  },
  {
   "cell_type": "code",
   "execution_count": null,
   "id": "excessive-pocket",
   "metadata": {},
   "outputs": [],
   "source": [
    "bareme_impot_progressif"
   ]
  },
  {
   "cell_type": "markdown",
   "id": "seventh-console",
   "metadata": {},
   "source": [
    "## Analyse the tax scale"
   ]
  },
  {
   "cell_type": "code",
   "execution_count": null,
   "id": "olive-match",
   "metadata": {},
   "outputs": [],
   "source": [
    "type(bareme_impot_progressif.brackets)"
   ]
  },
  {
   "cell_type": "code",
   "execution_count": null,
   "id": "tribal-failing",
   "metadata": {},
   "outputs": [],
   "source": [
    "len(bareme_impot_progressif.brackets)"
   ]
  },
  {
   "cell_type": "markdown",
   "id": "tracked-atlas",
   "metadata": {},
   "source": [
    "It is a list of brackets."
   ]
  },
  {
   "cell_type": "markdown",
   "id": "partial-matrix",
   "metadata": {},
   "source": [
    "## Analyse a bracket"
   ]
  },
  {
   "cell_type": "code",
   "execution_count": null,
   "id": "diverse-anxiety",
   "metadata": {},
   "outputs": [],
   "source": [
    "bracket = bareme_impot_progressif.brackets[3]\n",
    "bracket"
   ]
  },
  {
   "cell_type": "markdown",
   "id": "everyday-nitrogen",
   "metadata": {},
   "source": [
    "## Create a bracket"
   ]
  },
  {
   "cell_type": "code",
   "execution_count": null,
   "id": "hazardous-islam",
   "metadata": {},
   "outputs": [],
   "source": [
    "from openfisca_core.parameters import Bracket"
   ]
  },
  {
   "cell_type": "code",
   "execution_count": null,
   "id": "adaptive-coordinator",
   "metadata": {},
   "outputs": [],
   "source": [
    "another_bracket = Bracket(\n",
    "    data = {\n",
    "        'rate': {\n",
    "            \"2015-01-01\": .1,\n",
    "            \"2013-01-01\": .05\n",
    "            },\n",
    "        'threshold': {\n",
    "            \"2013-01-01\": 1000\n",
    "            }\n",
    "        }\n",
    "    )\n",
    "another_bracket"
   ]
  },
  {
   "cell_type": "markdown",
   "id": "outside-calcium",
   "metadata": {},
   "source": [
    "## Modify the tax-scale"
   ]
  },
  {
   "cell_type": "markdown",
   "id": "physical-divorce",
   "metadata": {},
   "source": [
    "### Remove or add a bracket\n",
    "\n",
    "Since it is a list we can delete an element ..."
   ]
  },
  {
   "cell_type": "code",
   "execution_count": null,
   "id": "expected-wonder",
   "metadata": {},
   "outputs": [],
   "source": [
    "del bareme_impot_progressif.brackets[5]"
   ]
  },
  {
   "cell_type": "code",
   "execution_count": null,
   "id": "broke-mixer",
   "metadata": {},
   "outputs": [],
   "source": [
    "len(bareme_impot_progressif.brackets)"
   ]
  },
  {
   "cell_type": "code",
   "execution_count": null,
   "id": "sensitive-protection",
   "metadata": {},
   "outputs": [],
   "source": [
    "bareme_impot_progressif.brackets"
   ]
  },
  {
   "cell_type": "markdown",
   "id": "romantic-richardson",
   "metadata": {},
   "source": [
    "... or add a bracket"
   ]
  },
  {
   "cell_type": "code",
   "execution_count": null,
   "id": "oriented-oakland",
   "metadata": {},
   "outputs": [],
   "source": [
    "bareme_impot_progressif.brackets.insert(1, another_bracket)"
   ]
  },
  {
   "cell_type": "code",
   "execution_count": null,
   "id": "elementary-wesley",
   "metadata": {},
   "outputs": [],
   "source": [
    "bareme_impot_progressif"
   ]
  },
  {
   "cell_type": "markdown",
   "id": "instant-bradford",
   "metadata": {},
   "source": [
    "### Modify a bracket of the tax-scale "
   ]
  },
  {
   "cell_type": "code",
   "execution_count": null,
   "id": "ancient-growth",
   "metadata": {},
   "outputs": [],
   "source": [
    "bracket"
   ]
  },
  {
   "cell_type": "code",
   "execution_count": null,
   "id": "hybrid-innocent",
   "metadata": {},
   "outputs": [],
   "source": [
    "bareme_impot_progressif.brackets"
   ]
  },
  {
   "cell_type": "code",
   "execution_count": null,
   "id": "overhead-float",
   "metadata": {},
   "outputs": [],
   "source": [
    "bracket.rate.update(start = period(\"2014-01-01\"), stop = period(\"2015-12-31\"), value = .33)\n",
    "bracket"
   ]
  },
  {
   "cell_type": "code",
   "execution_count": null,
   "id": "destroyed-pocket",
   "metadata": {},
   "outputs": [],
   "source": [
    "bareme_impot_progressif"
   ]
  },
  {
   "cell_type": "code",
   "execution_count": null,
   "id": "apart-privacy",
   "metadata": {},
   "outputs": [],
   "source": [
    "bracket.threshold.update(start = period(\"2014-01-01\"), stop = period(\"2015-12-31\"), value = 5000000)"
   ]
  },
  {
   "cell_type": "code",
   "execution_count": null,
   "id": "communist-forestry",
   "metadata": {},
   "outputs": [],
   "source": [
    "bracket"
   ]
  },
  {
   "cell_type": "code",
   "execution_count": null,
   "id": "continent-chambers",
   "metadata": {},
   "outputs": [],
   "source": [
    "bareme_impot_progressif"
   ]
  },
  {
   "cell_type": "markdown",
   "id": "2cf37c22",
   "metadata": {
    "slideshow": {
     "slide_type": "slide"
    }
   },
   "source": [
    "# Microsimulation with artificial survey data "
   ]
  },
  {
   "cell_type": "code",
   "execution_count": 2,
   "id": "3dea146c",
   "metadata": {
    "slideshow": {
     "slide_type": "subslide"
    }
   },
   "outputs": [],
   "source": [
    "import matplotlib.pyplot as plt  # For graphics\n",
    "%matplotlib inline\n",
    "\n",
    "import numpy as np  # linear algebra and math\n",
    "import pandas as pd  # data frames\n",
    "\n",
    "from openfisca_core.model_api import *\n",
    "from openfisca_senegal import CountryTaxBenefitSystem as SenegalTaxBenefitSystem  # The Senegalese tax-benefits system\n",
    "\n",
    "from openfisca_senegal.survey_scenarios import SenegalSurveyScenario"
   ]
  },
  {
   "cell_type": "code",
   "execution_count": 3,
   "id": "04cfdfb4",
   "metadata": {
    "slideshow": {
     "slide_type": "skip"
    }
   },
   "outputs": [],
   "source": [
    "%config Completer.use_jedi = False"
   ]
  },
  {
   "cell_type": "markdown",
   "id": "f78ebc76",
   "metadata": {
    "slideshow": {
     "slide_type": "slide"
    }
   },
   "source": [
    "## Building the artificial data"
   ]
  },
  {
   "cell_type": "markdown",
   "id": "e4ae0988",
   "metadata": {
    "slideshow": {
     "slide_type": "subslide"
    }
   },
   "source": [
    "Sénégal is composed by almost 15 millions people dispatched in around 1.6 million household"
   ]
  },
  {
   "cell_type": "code",
   "execution_count": 4,
   "id": "6753640d",
   "metadata": {
    "slideshow": {
     "slide_type": "fragment"
    }
   },
   "outputs": [
    {
     "name": "stdout",
     "output_type": "stream",
     "text": [
      "Size of the sample: 16000\n"
     ]
    }
   ],
   "source": [
    "household_weight = 100\n",
    "size = int(1.6e6 / household_weight)\n",
    "print(f\"Size of the sample: {size}\")\n",
    "np.random.seed(seed = 42)"
   ]
  },
  {
   "cell_type": "markdown",
   "id": "cbfc99be",
   "metadata": {
    "slideshow": {
     "slide_type": "fragment"
    }
   },
   "source": [
    "We assume that 2/3 of the household heads are married and that only married households do have children. The mean number of children per household is 5 and is normally distributed"
   ]
  },
  {
   "cell_type": "code",
   "execution_count": 5,
   "id": "3d60fe56",
   "metadata": {
    "slideshow": {
     "slide_type": "fragment"
    }
   },
   "outputs": [],
   "source": [
    "est_marie = np.random.binomial(1, .66, size = size)\n",
    "est_celibataire = np.logical_not(est_marie)\n",
    "nombre_enfants = np.maximum(\n",
    "    est_marie * np.round(np.random.normal(5, scale = 3, size = size)),\n",
    "    0,\n",
    "    )"
   ]
  },
  {
   "cell_type": "markdown",
   "id": "1926f52b",
   "metadata": {
    "slideshow": {
     "slide_type": "slide"
    }
   },
   "source": [
    "We assume that 80% of the population are wage earners.\n",
    "We choose a mean wage of 5,000,000 CFA with a log normal ditribution.\n",
    "Since \n",
    "$$ \\text{mean wage}  = e^{\\mu + \\frac{\\sigma ^ 2}{2}} $$ \n",
    "and\n",
    "$$ \\text{median wage} = e^\\mu $$\n",
    "we can compute the distribution according to the following expressions."
   ]
  },
  {
   "cell_type": "code",
   "execution_count": 6,
   "id": "bc057995",
   "metadata": {
    "slideshow": {
     "slide_type": "fragment"
    }
   },
   "outputs": [],
   "source": [
    "mean_wage = 5e6\n",
    "median_wage = .75 * mean_wage\n",
    "est_salarie = np.random.binomial(1, .8, size = size)\n",
    "mu = np.log(median_wage)\n",
    "sigma = np.sqrt(2 * np.log(mean_wage / median_wage))\n",
    "salaire = (\n",
    "    est_salarie * \n",
    "    np.random.lognormal(mean = mu, sigma = sigma, size = int(size))\n",
    "    )\n"
   ]
  },
  {
   "cell_type": "markdown",
   "id": "3571d084",
   "metadata": {
    "slideshow": {
     "slide_type": "fragment"
    }
   },
   "source": [
    "We choose a mean pension of 2 500 000 CFA"
   ]
  },
  {
   "cell_type": "code",
   "execution_count": 7,
   "id": "59fcf013",
   "metadata": {
    "slideshow": {
     "slide_type": "fragment"
    }
   },
   "outputs": [],
   "source": [
    "mean_pension = 2.5e6\n",
    "median_pension = .9 * mean_pension"
   ]
  },
  {
   "cell_type": "code",
   "execution_count": 8,
   "id": "b45ed558",
   "metadata": {
    "slideshow": {
     "slide_type": "fragment"
    }
   },
   "outputs": [],
   "source": [
    "mu = np.log(median_pension)\n",
    "sigma = np.sqrt(2 * np.log(mean_pension / median_pension))\n",
    "pension_retraite = (\n",
    "    np.logical_not(est_salarie) *\n",
    "    np.random.lognormal(mean = mu, sigma = sigma, size = int(size))\n",
    "    )"
   ]
  },
  {
   "cell_type": "code",
   "execution_count": 9,
   "id": "8fbf03f2",
   "metadata": {
    "slideshow": {
     "slide_type": "subslide"
    }
   },
   "outputs": [],
   "source": [
    "input_data_frame = pd.DataFrame({\n",
    "    'est_marie': est_marie,\n",
    "    'est_celibataire': est_celibataire,\n",
    "    'nombre_enfants': nombre_enfants,\n",
    "    'pension_retraite': pension_retraite,\n",
    "    'salaire': salaire,\n",
    "    'household_id': range(size),\n",
    "    'household_role_index': 0,\n",
    "    'household_weight': household_weight,\n",
    "    'person_weight': household_weight,\n",
    "    })"
   ]
  },
  {
   "cell_type": "code",
   "execution_count": 10,
   "id": "0c0909d8",
   "metadata": {
    "slideshow": {
     "slide_type": "skip"
    }
   },
   "outputs": [
    {
     "data": {
      "text/plain": [
       "4008298.953776269"
      ]
     },
     "execution_count": 10,
     "metadata": {},
     "output_type": "execute_result"
    }
   ],
   "source": [
    "input_data_frame.salaire.mean()"
   ]
  },
  {
   "cell_type": "code",
   "execution_count": 11,
   "id": "bca9cfe8",
   "metadata": {
    "slideshow": {
     "slide_type": "skip"
    }
   },
   "outputs": [
    {
     "data": {
      "text/plain": [
       "est_marie  nombre_enfants\n",
       "0          0.0               4.871784e+07\n",
       "1          0.0               4.291143e+07\n",
       "           1.0               3.606132e+07\n",
       "           2.0               3.648407e+07\n",
       "           3.0               3.293302e+07\n",
       "           4.0               4.195000e+07\n",
       "           5.0               3.075793e+07\n",
       "           6.0               5.483413e+07\n",
       "           7.0               6.424664e+07\n",
       "           8.0               3.203148e+07\n",
       "           9.0               3.570505e+07\n",
       "           10.0              4.950989e+07\n",
       "           11.0              2.456670e+07\n",
       "           12.0              1.746923e+07\n",
       "           13.0              1.304396e+07\n",
       "           14.0              2.211995e+07\n",
       "           15.0              6.620455e+06\n",
       "           16.0              0.000000e+00\n",
       "           18.0              0.000000e+00\n",
       "Name: salaire, dtype: float64"
      ]
     },
     "execution_count": 11,
     "metadata": {},
     "output_type": "execute_result"
    }
   ],
   "source": [
    "input_data_frame.groupby(['est_marie', 'nombre_enfants'])['salaire'].max()"
   ]
  },
  {
   "cell_type": "code",
   "execution_count": 12,
   "id": "13ead039",
   "metadata": {
    "slideshow": {
     "slide_type": "skip"
    }
   },
   "outputs": [
    {
     "data": {
      "text/plain": [
       "<Axes: >"
      ]
     },
     "execution_count": 12,
     "metadata": {},
     "output_type": "execute_result"
    },
    {
     "data": {
      "image/png": "[encoded data removed]",
      "text/plain": [
       "<Figure size 640x480 with 1 Axes>"
      ]
     },
     "metadata": {},
     "output_type": "display_data"
    }
   ],
   "source": [
    "input_data_frame.salaire.hist()"
   ]
  },
  {
   "cell_type": "code",
   "execution_count": 13,
   "id": "66523af1",
   "metadata": {
    "slideshow": {
     "slide_type": "fragment"
    }
   },
   "outputs": [
    {
     "data": {
      "text/plain": [
       "<Axes: >"
      ]
     },
     "execution_count": 13,
     "metadata": {},
     "output_type": "execute_result"
    },
    {
     "data": {
      "image/png": "[encoded data removed]",
      "text/plain": [
       "<Figure size 640x480 with 1 Axes>"
      ]
     },
     "metadata": {},
     "output_type": "display_data"
    }
   ],
   "source": [
    "input_data_frame.salaire.hist(bins = 100)"
   ]
  },
  {
   "cell_type": "code",
   "execution_count": 14,
   "id": "4a124746",
   "metadata": {
    "slideshow": {
     "slide_type": "fragment"
    }
   },
   "outputs": [
    {
     "data": {
      "text/plain": [
       "<Axes: >"
      ]
     },
     "execution_count": 14,
     "metadata": {},
     "output_type": "execute_result"
    },
    {
     "data": {
      "image/png": "[encoded data removed]",
      "text/plain": [
       "<Figure size 640x480 with 1 Axes>"
      ]
     },
     "metadata": {},
     "output_type": "display_data"
    }
   ],
   "source": [
    "input_data_frame.pension_retraite.hist(bins=100, range = [.0001, 1e7])"
   ]
  },
  {
   "cell_type": "markdown",
   "id": "fa2a0cb4",
   "metadata": {
    "slideshow": {
     "slide_type": "slide"
    }
   },
   "source": [
    "## Microsimulation "
   ]
  },
  {
   "cell_type": "markdown",
   "id": "a5984005",
   "metadata": {
    "slideshow": {
     "slide_type": "slide"
    }
   },
   "source": [
    "### Scenario"
   ]
  },
  {
   "cell_type": "markdown",
   "id": "174c946f",
   "metadata": {
    "slideshow": {
     "slide_type": "fragment"
    }
   },
   "source": [
    "As with test case, we can build a scenario with survey data"
   ]
  },
  {
   "cell_type": "code",
   "execution_count": 15,
   "id": "2781a23d",
   "metadata": {
    "slideshow": {
     "slide_type": "fragment"
    }
   },
   "outputs": [],
   "source": [
    "data = dict(input_data_frame = input_data_frame)\n",
    "scenario = SenegalSurveyScenario(\n",
    "    data = data,\n",
    "    year = 2017,\n",
    "    )"
   ]
  },
  {
   "cell_type": "code",
   "execution_count": 16,
   "id": "c569bc35",
   "metadata": {
    "slideshow": {
     "slide_type": "skip"
    }
   },
   "outputs": [
    {
     "data": {
      "text/plain": [
       "dict_keys(['age', 'date_naissance', 'est_celibataire', 'est_divorce', 'est_marie', 'est_veuf', 'nombre_enfants', 'statut_marital', 'benefices_non_salarie', 'conjoint_a_des_revenus', 'pension_retraite', 'salaire', 'household_weight', 'person_weight', 'impot_avant_reduction_famille', 'impot_revenus', 'nombre_de_parts', 'reduction_impots_pour_charge_famille', 'impots_indirects'])"
      ]
     },
     "execution_count": 16,
     "metadata": {},
     "output_type": "execute_result"
    }
   ],
   "source": [
    "scenario.tax_benefit_system.variables.keys()"
   ]
  },
  {
   "cell_type": "markdown",
   "id": "754885bb",
   "metadata": {
    "slideshow": {
     "slide_type": "subslide"
    }
   },
   "source": [
    "We can compute the value of any variable for the whole population and draw distributions"
   ]
  },
  {
   "cell_type": "code",
   "execution_count": 17,
   "id": "ff26acbb",
   "metadata": {
    "slideshow": {
     "slide_type": "fragment"
    }
   },
   "outputs": [
    {
     "data": {
      "text/plain": [
       "array([     0., 221100., 974400., ..., 233100., 933800., 309600.],\n",
       "      dtype=float32)"
      ]
     },
     "execution_count": 17,
     "metadata": {},
     "output_type": "execute_result"
    }
   ],
   "source": [
    "scenario.simulation.calculate('impot_revenus', period = 2017)"
   ]
  },
  {
   "cell_type": "code",
   "execution_count": 18,
   "id": "4f330ed3",
   "metadata": {
    "slideshow": {
     "slide_type": "fragment"
    }
   },
   "outputs": [],
   "source": [
    "df = pd.DataFrame(\n",
    "    {'impot_revenus': scenario.simulation.calculate('impot_revenus', period = 2017)}\n",
    ")"
   ]
  },
  {
   "cell_type": "code",
   "execution_count": 19,
   "id": "15e9cd19",
   "metadata": {
    "slideshow": {
     "slide_type": "fragment"
    }
   },
   "outputs": [
    {
     "data": {
      "text/plain": [
       "array([[<Axes: title={'center': 'impot_revenus'}>]], dtype=object)"
      ]
     },
     "execution_count": 19,
     "metadata": {},
     "output_type": "execute_result"
    },
    {
     "data": {
      "image/png": "[encoded data removed]",
      "text/plain": [
       "<Figure size 640x480 with 1 Axes>"
      ]
     },
     "metadata": {},
     "output_type": "display_data"
    }
   ],
   "source": [
    "df.hist(bins = 100, range = [.00001, 2.5e7])"
   ]
  },
  {
   "cell_type": "markdown",
   "id": "5d296e68",
   "metadata": {
    "slideshow": {
     "slide_type": "slide"
    }
   },
   "source": [
    "### Special scenario methods allow access to aggregates and pivot tables"
   ]
  },
  {
   "cell_type": "code",
   "execution_count": 20,
   "id": "caa550be",
   "metadata": {
    "slideshow": {
     "slide_type": "skip"
    }
   },
   "outputs": [],
   "source": [
    "scenario.weight_variable_by_entity = {'person': 'person_weight', 'household': 'household_weight'}"
   ]
  },
  {
   "cell_type": "code",
   "execution_count": 21,
   "id": "15e49c42",
   "metadata": {
    "slideshow": {
     "slide_type": "subslide"
    }
   },
   "outputs": [
    {
     "data": {
      "text/plain": [
       "967.3534237"
      ]
     },
     "execution_count": 21,
     "metadata": {},
     "output_type": "execute_result"
    }
   ],
   "source": [
    "scenario.compute_aggregate('impot_revenus', period = 2017) / 1e9"
   ]
  },
  {
   "cell_type": "code",
   "execution_count": 22,
   "id": "fa8bc459",
   "metadata": {
    "slideshow": {
     "slide_type": "subslide"
    }
   },
   "outputs": [
    {
     "data": {
      "text/html": [
       "<div>\n",
       "<style scoped>\n",
       "    .dataframe tbody tr th:only-of-type {\n",
       "        vertical-align: middle;\n",
       "    }\n",
       "\n",
       "    .dataframe tbody tr th {\n",
       "        vertical-align: top;\n",
       "    }\n",
       "\n",
       "    .dataframe thead th {\n",
       "        text-align: right;\n",
       "    }\n",
       "</style>\n",
       "<table border=\"1\" class=\"dataframe\">\n",
       "  <thead>\n",
       "    <tr style=\"text-align: right;\">\n",
       "      <th>nombre_enfants</th>\n",
       "      <th>0</th>\n",
       "      <th>1</th>\n",
       "      <th>2</th>\n",
       "      <th>3</th>\n",
       "      <th>4</th>\n",
       "      <th>5</th>\n",
       "      <th>6</th>\n",
       "      <th>7</th>\n",
       "      <th>8</th>\n",
       "      <th>9</th>\n",
       "      <th>10</th>\n",
       "      <th>11</th>\n",
       "      <th>12</th>\n",
       "      <th>13</th>\n",
       "      <th>14</th>\n",
       "      <th>15</th>\n",
       "      <th>16</th>\n",
       "      <th>18</th>\n",
       "    </tr>\n",
       "  </thead>\n",
       "  <tbody>\n",
       "    <tr>\n",
       "      <th>impot_revenus</th>\n",
       "      <td>5.126755e+11</td>\n",
       "      <td>4.151655e+10</td>\n",
       "      <td>4.884427e+10</td>\n",
       "      <td>5.980575e+10</td>\n",
       "      <td>6.326998e+10</td>\n",
       "      <td>6.258805e+10</td>\n",
       "      <td>5.272029e+10</td>\n",
       "      <td>4.296910e+10</td>\n",
       "      <td>2.898208e+10</td>\n",
       "      <td>2.275353e+10</td>\n",
       "      <td>1.807866e+10</td>\n",
       "      <td>6.529531e+09</td>\n",
       "      <td>4.070463e+09</td>\n",
       "      <td>1.557763e+09</td>\n",
       "      <td>919261504.0</td>\n",
       "      <td>72600000.0</td>\n",
       "      <td>0.0</td>\n",
       "      <td>0.0</td>\n",
       "    </tr>\n",
       "  </tbody>\n",
       "</table>\n",
       "</div>"
      ],
      "text/plain": [
       "nombre_enfants            0             1             2             3   \\\n",
       "impot_revenus   5.126755e+11  4.151655e+10  4.884427e+10  5.980575e+10   \n",
       "\n",
       "nombre_enfants            4             5             6             7   \\\n",
       "impot_revenus   6.326998e+10  6.258805e+10  5.272029e+10  4.296910e+10   \n",
       "\n",
       "nombre_enfants            8             9             10            11  \\\n",
       "impot_revenus   2.898208e+10  2.275353e+10  1.807866e+10  6.529531e+09   \n",
       "\n",
       "nombre_enfants            12            13           14          15   16   18  \n",
       "impot_revenus   4.070463e+09  1.557763e+09  919261504.0  72600000.0  0.0  0.0  "
      ]
     },
     "execution_count": 22,
     "metadata": {},
     "output_type": "execute_result"
    }
   ],
   "source": [
    "df = scenario.compute_pivot_table(\n",
    "    aggfunc = 'sum', \n",
    "    values = ['impot_revenus'], \n",
    "    columns = ['nombre_enfants'],\n",
    "    period = 2017,\n",
    "    )\n",
    "df"
   ]
  },
  {
   "cell_type": "code",
   "execution_count": 23,
   "id": "0ececc74",
   "metadata": {
    "slideshow": {
     "slide_type": "fragment"
    }
   },
   "outputs": [
    {
     "data": {
      "text/html": [
       "<div>\n",
       "<style scoped>\n",
       "    .dataframe tbody tr th:only-of-type {\n",
       "        vertical-align: middle;\n",
       "    }\n",
       "\n",
       "    .dataframe tbody tr th {\n",
       "        vertical-align: top;\n",
       "    }\n",
       "\n",
       "    .dataframe thead th {\n",
       "        text-align: right;\n",
       "    }\n",
       "</style>\n",
       "<table border=\"1\" class=\"dataframe\">\n",
       "  <thead>\n",
       "    <tr style=\"text-align: right;\">\n",
       "      <th></th>\n",
       "      <th>nombre_enfants</th>\n",
       "      <th>impot_revenus</th>\n",
       "    </tr>\n",
       "  </thead>\n",
       "  <tbody>\n",
       "    <tr>\n",
       "      <th>0</th>\n",
       "      <td>0</td>\n",
       "      <td>5.126755e+11</td>\n",
       "    </tr>\n",
       "    <tr>\n",
       "      <th>1</th>\n",
       "      <td>1</td>\n",
       "      <td>4.151655e+10</td>\n",
       "    </tr>\n",
       "    <tr>\n",
       "      <th>2</th>\n",
       "      <td>2</td>\n",
       "      <td>4.884427e+10</td>\n",
       "    </tr>\n",
       "    <tr>\n",
       "      <th>3</th>\n",
       "      <td>3</td>\n",
       "      <td>5.980575e+10</td>\n",
       "    </tr>\n",
       "    <tr>\n",
       "      <th>4</th>\n",
       "      <td>4</td>\n",
       "      <td>6.326998e+10</td>\n",
       "    </tr>\n",
       "    <tr>\n",
       "      <th>5</th>\n",
       "      <td>5</td>\n",
       "      <td>6.258805e+10</td>\n",
       "    </tr>\n",
       "    <tr>\n",
       "      <th>6</th>\n",
       "      <td>6</td>\n",
       "      <td>5.272029e+10</td>\n",
       "    </tr>\n",
       "    <tr>\n",
       "      <th>7</th>\n",
       "      <td>7</td>\n",
       "      <td>4.296910e+10</td>\n",
       "    </tr>\n",
       "    <tr>\n",
       "      <th>8</th>\n",
       "      <td>8</td>\n",
       "      <td>2.898208e+10</td>\n",
       "    </tr>\n",
       "    <tr>\n",
       "      <th>9</th>\n",
       "      <td>9</td>\n",
       "      <td>2.275353e+10</td>\n",
       "    </tr>\n",
       "    <tr>\n",
       "      <th>10</th>\n",
       "      <td>10</td>\n",
       "      <td>1.807866e+10</td>\n",
       "    </tr>\n",
       "    <tr>\n",
       "      <th>11</th>\n",
       "      <td>11</td>\n",
       "      <td>6.529531e+09</td>\n",
       "    </tr>\n",
       "    <tr>\n",
       "      <th>12</th>\n",
       "      <td>12</td>\n",
       "      <td>4.070463e+09</td>\n",
       "    </tr>\n",
       "    <tr>\n",
       "      <th>13</th>\n",
       "      <td>13</td>\n",
       "      <td>1.557763e+09</td>\n",
       "    </tr>\n",
       "    <tr>\n",
       "      <th>14</th>\n",
       "      <td>14</td>\n",
       "      <td>9.192615e+08</td>\n",
       "    </tr>\n",
       "    <tr>\n",
       "      <th>15</th>\n",
       "      <td>15</td>\n",
       "      <td>7.260000e+07</td>\n",
       "    </tr>\n",
       "    <tr>\n",
       "      <th>16</th>\n",
       "      <td>16</td>\n",
       "      <td>0.000000e+00</td>\n",
       "    </tr>\n",
       "    <tr>\n",
       "      <th>17</th>\n",
       "      <td>18</td>\n",
       "      <td>0.000000e+00</td>\n",
       "    </tr>\n",
       "  </tbody>\n",
       "</table>\n",
       "</div>"
      ],
      "text/plain": [
       "    nombre_enfants  impot_revenus\n",
       "0                0   5.126755e+11\n",
       "1                1   4.151655e+10\n",
       "2                2   4.884427e+10\n",
       "3                3   5.980575e+10\n",
       "4                4   6.326998e+10\n",
       "5                5   6.258805e+10\n",
       "6                6   5.272029e+10\n",
       "7                7   4.296910e+10\n",
       "8                8   2.898208e+10\n",
       "9                9   2.275353e+10\n",
       "10              10   1.807866e+10\n",
       "11              11   6.529531e+09\n",
       "12              12   4.070463e+09\n",
       "13              13   1.557763e+09\n",
       "14              14   9.192615e+08\n",
       "15              15   7.260000e+07\n",
       "16              16   0.000000e+00\n",
       "17              18   0.000000e+00"
      ]
     },
     "execution_count": 23,
     "metadata": {},
     "output_type": "execute_result"
    }
   ],
   "source": [
    "df.transpose().reset_index()"
   ]
  },
  {
   "cell_type": "code",
   "execution_count": 24,
   "id": "0aba2ec5",
   "metadata": {
    "slideshow": {
     "slide_type": "subslide"
    }
   },
   "outputs": [
    {
     "data": {
      "text/plain": [
       "<Axes: xlabel='nombre_enfants'>"
      ]
     },
     "execution_count": 24,
     "metadata": {},
     "output_type": "execute_result"
    },
    {
     "data": {
      "image/png": "[encoded data removed]",
      "text/plain": [
       "<Figure size 640x480 with 1 Axes>"
      ]
     },
     "metadata": {},
     "output_type": "display_data"
    }
   ],
   "source": [
    "scenario.compute_pivot_table(\n",
    "    aggfunc = 'sum', \n",
    "    values = ['impot_revenus'], \n",
    "    columns = ['nombre_enfants'],\n",
    "    period = 2017,\n",
    "    ).transpose().reset_index().plot(x = 'nombre_enfants', kind = 'bar')"
   ]
  },
  {
   "cell_type": "markdown",
   "id": "98f47d24",
   "metadata": {
    "slideshow": {
     "slide_type": "slide"
    }
   },
   "source": [
    "## Evaluate the financial impact of a reform"
   ]
  },
  {
   "cell_type": "markdown",
   "id": "90bb490b",
   "metadata": {
    "slideshow": {
     "slide_type": "slide"
    }
   },
   "source": [
    "### Parametric reform\n",
    "\n",
    "Write a parametric reform that increases the top marginal tax rates and evaluate how much revenue can be collected"
   ]
  },
  {
   "cell_type": "code",
   "execution_count": 25,
   "id": "da487a4f",
   "metadata": {
    "slideshow": {
     "slide_type": "subslide"
    }
   },
   "outputs": [],
   "source": [
    "year = 2017\n",
    "def modify_parameters(parameters):\n",
    "    parameters.prelevements_obligatoires.impots_directs.bareme_impot_progressif[5].rate.update(period = period(year), value = .5)\n",
    "    return parameters\n",
    "    \n",
    "class tax_the_rich(Reform):\n",
    "    name = \"Tax last bracket at 50%\"\n",
    "\n",
    "    def apply(self):\n",
    "        self.modify_parameters(modifier_function = modify_parameters)"
   ]
  },
  {
   "cell_type": "code",
   "execution_count": 26,
   "id": "a3fc45e1",
   "metadata": {
    "slideshow": {
     "slide_type": "fragment"
    }
   },
   "outputs": [],
   "source": [
    "senegal_tax_benefit_system = SenegalTaxBenefitSystem()\n",
    "tax_the_rich_tax_benefit_system = tax_the_rich(senegal_tax_benefit_system)"
   ]
  },
  {
   "cell_type": "code",
   "execution_count": 27,
   "id": "80d778f0",
   "metadata": {
    "slideshow": {
     "slide_type": "fragment"
    }
   },
   "outputs": [],
   "source": [
    "scenario = SenegalSurveyScenario(\n",
    "    data = data,\n",
    "    tax_benefit_system = tax_the_rich_tax_benefit_system,\n",
    "    baseline_tax_benefit_system = senegal_tax_benefit_system,\n",
    "    year = 2017,\n",
    "    )"
   ]
  },
  {
   "cell_type": "code",
   "execution_count": 28,
   "id": "a827e6e3",
   "metadata": {
    "slideshow": {
     "slide_type": "fragment"
    }
   },
   "outputs": [
    {
     "name": "stdout",
     "output_type": "stream",
     "text": [
      "reform tax the rich:  993.1257657\n",
      "baseline:  967.3534237\n"
     ]
    }
   ],
   "source": [
    "print('reform tax the rich: ', scenario.compute_aggregate('impot_revenus', period = 2017) / 1e9)\n",
    "print('baseline: ', scenario.compute_aggregate('impot_revenus', period = 2017, use_baseline = True) / 1e9)"
   ]
  },
  {
   "cell_type": "code",
   "execution_count": 30,
   "id": "7cce84ab",
   "metadata": {
    "slideshow": {
     "slide_type": "fragment"
    }
   },
   "outputs": [
    {
     "data": {
      "text/plain": [
       "25.772342"
      ]
     },
     "execution_count": 30,
     "metadata": {},
     "output_type": "execute_result"
    }
   ],
   "source": [
    "scenario.compute_aggregate('impot_revenus', period = 2017, difference = True) / 1e9"
   ]
  },
  {
   "cell_type": "markdown",
   "id": "a463379e",
   "metadata": {
    "slideshow": {
     "slide_type": "slide"
    }
   },
   "source": [
    "### Structural reform"
   ]
  },
  {
   "cell_type": "code",
   "execution_count": 29,
   "id": "3e17cd41",
   "metadata": {
    "slideshow": {
     "slide_type": "subslide"
    }
   },
   "outputs": [],
   "source": [
    "from openfisca_senegal.entities import Person\n",
    "\n",
    "def build_ultimate_reform_tax_benefit_system(threshold = 0, marginal_tax_rate = .4):\n",
    "    year = 2017\n",
    "\n",
    "    senegal_tax_benefit_system = SenegalTaxBenefitSystem()\n",
    "    class impot_revenus(Variable):\n",
    "        def formula(person, period):\n",
    "            impot_avant_reduction_famille = person('impot_avant_reduction_famille', period)\n",
    "            reduction_impots_pour_charge_famille = person('reduction_impots_pour_charge_famille', period)\n",
    "            impot_apres_reduction_famille = impot_avant_reduction_famille - reduction_impots_pour_charge_famille\n",
    "            impot_revenus = max_(0, impot_apres_reduction_famille)\n",
    "            return impot_revenus * (impot_revenus > threshold)            \n",
    "\n",
    "    def modify_parameters(parameters):\n",
    "        parameters.prelevements_obligatoires.impots_directs.bareme_impot_progressif[5].rate.update(\n",
    "            period = period(year), value = marginal_tax_rate)\n",
    "        return parameters\n",
    "\n",
    "\n",
    "    class ultimate_reform(Reform):\n",
    "        name = f\"Tax the rich and save the poor taxpayers (tax < {threshold})\"\n",
    "\n",
    "        def apply(self):\n",
    "            self.update_variable(impot_revenus)\n",
    "            self.modify_parameters(modifier_function = modify_parameters)\n",
    "\n",
    "    return ultimate_reform(senegal_tax_benefit_system)"
   ]
  },
  {
   "cell_type": "code",
   "execution_count": 31,
   "id": "0bc35eba",
   "metadata": {
    "slideshow": {
     "slide_type": "subslide"
    }
   },
   "outputs": [],
   "source": [
    "reformed_tax_benefit_system = build_ultimate_reform_tax_benefit_system(\n",
    "    threshold = 100000, \n",
    "    marginal_tax_rate = .5\n",
    "    )"
   ]
  },
  {
   "cell_type": "code",
   "execution_count": 32,
   "id": "18a82f8f",
   "metadata": {
    "slideshow": {
     "slide_type": "fragment"
    }
   },
   "outputs": [],
   "source": [
    "scenario = SenegalSurveyScenario(\n",
    "    data = data,\n",
    "    tax_benefit_system = reformed_tax_benefit_system,\n",
    "    baseline_tax_benefit_system = SenegalTaxBenefitSystem(),\n",
    "    year = 2017\n",
    "    )"
   ]
  },
  {
   "cell_type": "code",
   "execution_count": 33,
   "id": "e3fe9937",
   "metadata": {
    "slideshow": {
     "slide_type": "skip"
    }
   },
   "outputs": [
    {
     "name": "stdout",
     "output_type": "stream",
     "text": [
      "reform:  988.2585557\n",
      "baseline:  967.3534237\n"
     ]
    }
   ],
   "source": [
    "print('reform: ', scenario.compute_aggregate('impot_revenus', period = 2017) / 1e9)\n",
    "print('baseline: ', scenario.compute_aggregate('impot_revenus', period = 2017, use_baseline = True) / 1e9)"
   ]
  },
  {
   "cell_type": "code",
   "execution_count": 34,
   "id": "da06ae5b",
   "metadata": {
    "slideshow": {
     "slide_type": "fragment"
    }
   },
   "outputs": [
    {
     "name": "stdout",
     "output_type": "stream",
     "text": [
      "988.2585557\n",
      "967.3534237\n",
      "-20.905132\n"
     ]
    }
   ],
   "source": [
    "scenario = SenegalSurveyScenario(\n",
    "    data = data,\n",
    "    tax_benefit_system = reformed_tax_benefit_system,\n",
    "    baseline_tax_benefit_system =  SenegalTaxBenefitSystem(),\n",
    "    year = 2017\n",
    "    )\n",
    "print(scenario.compute_aggregate('impot_revenus', period = 2017) / 1e9)\n",
    "print(scenario.compute_aggregate('impot_revenus', period = 2017, use_baseline = True) / 1e9)\n",
    "cost = - (\n",
    "    scenario.compute_aggregate('impot_revenus', period = 2017) -\n",
    "    scenario.compute_aggregate('impot_revenus', period = 2017, use_baseline = True)\n",
    "    ) / 1e9\n",
    "print(cost)"
   ]
  },
  {
   "cell_type": "markdown",
   "id": "e5cb5da3",
   "metadata": {
    "slideshow": {
     "slide_type": "slide"
    }
   },
   "source": [
    "### Budget neutral reforms"
   ]
  },
  {
   "cell_type": "code",
   "execution_count": 36,
   "id": "71c05ee4",
   "metadata": {
    "slideshow": {
     "slide_type": "subslide"
    }
   },
   "outputs": [],
   "source": [
    "def compute_reform_cost(threshold = 0, marginal_tax_rate = .4):\n",
    "    reformed_tax_benefit_system = build_ultimate_reform_tax_benefit_system(\n",
    "        threshold = threshold, \n",
    "        marginal_tax_rate = float(marginal_tax_rate)  \n",
    "        # We need to convert to float here since fsolve use numpy array which are not accepted as \n",
    "        # legislation parameters\n",
    "        )\n",
    "    scenario = SenegalSurveyScenario(\n",
    "        data = data,\n",
    "        tax_benefit_system = reformed_tax_benefit_system,\n",
    "        baseline_tax_benefit_system = SenegalTaxBenefitSystem(),\n",
    "        year = 2017\n",
    "        )\n",
    "    cost = - (\n",
    "        scenario.compute_aggregate('impot_revenus', period = 2017) - \n",
    "        scenario.compute_aggregate('impot_revenus', period = 2017, use_baseline = True)\n",
    "        ) / 1e9\n",
    "    return cost"
   ]
  },
  {
   "cell_type": "code",
   "execution_count": 37,
   "id": "4d393ffe",
   "metadata": {
    "slideshow": {
     "slide_type": "subslide"
    }
   },
   "outputs": [],
   "source": [
    "def compute_reform_cost_from_marginal_tax_rate(marginal_tax_rate = .4):\n",
    "    return compute_reform_cost(threshold = 100000, marginal_tax_rate = marginal_tax_rate)\n",
    "\n",
    "def compute_reform_cost_from_threshold(threshold = 0):\n",
    "    return compute_reform_cost(threshold = threshold, marginal_tax_rate = .41)\n"
   ]
  },
  {
   "cell_type": "code",
   "execution_count": 38,
   "id": "60190d5b",
   "metadata": {
    "slideshow": {
     "slide_type": "fragment"
    }
   },
   "outputs": [
    {
     "name": "stdout",
     "output_type": "stream",
     "text": [
      "balancing_marginal_tax_rate to finance a 100000 threshold: 0.4190198945731571\n",
      "balancing_threshold financed by an increase from 40% to 41%: 71633.97769016933\n"
     ]
    },
    {
     "name": "stderr",
     "output_type": "stream",
     "text": [
      "C:\\Users\\s.duchesne\\.conda\\envs\\ppd\\lib\\site-packages\\scipy\\optimize\\_minpack_py.py:178: RuntimeWarning: The iteration is not making good progress, as measured by the \n",
      "  improvement from the last ten iterations.\n",
      "  warnings.warn(msg, RuntimeWarning)\n"
     ]
    }
   ],
   "source": [
    "from scipy.optimize import fsolve\n",
    "balancing_marginal_tax_rate = fsolve(compute_reform_cost_from_marginal_tax_rate, .40)\n",
    "balancing_threshold = fsolve(compute_reform_cost_from_threshold, 1000)\n",
    "print(f\"balancing_marginal_tax_rate to finance a 100000 threshold: {float(balancing_marginal_tax_rate)}\")\n",
    "print(f\"balancing_threshold financed by an increase from 40% to 41%: {float(balancing_threshold)}\")"
   ]
  },
  {
   "cell_type": "code",
   "execution_count": 39,
   "id": "4d148601",
   "metadata": {
    "slideshow": {
     "slide_type": "fragment"
    }
   },
   "outputs": [
    {
     "name": "stdout",
     "output_type": "stream",
     "text": [
      "-0.0\n",
      "0.00353005\n"
     ]
    }
   ],
   "source": [
    "print(compute_reform_cost_from_marginal_tax_rate(marginal_tax_rate = balancing_marginal_tax_rate))\n",
    "print(compute_reform_cost_from_threshold(threshold = balancing_threshold))"
   ]
  },
  {
   "cell_type": "code",
   "execution_count": 40,
   "id": "228a5ad2",
   "metadata": {
    "slideshow": {
     "slide_type": "subslide"
    }
   },
   "outputs": [],
   "source": [
    "reformed_tax_benefit_system = build_ultimate_reform_tax_benefit_system(\n",
    "    threshold = balancing_threshold, \n",
    "    marginal_tax_rate = .41\n",
    "    )\n",
    "scenario = SenegalSurveyScenario(\n",
    "    data = data,\n",
    "    tax_benefit_system = reformed_tax_benefit_system,\n",
    "    baseline_tax_benefit_system = SenegalTaxBenefitSystem(),\n",
    "    year = 2017\n",
    "    )"
   ]
  },
  {
   "cell_type": "code",
   "execution_count": 41,
   "id": "73badd7d",
   "metadata": {
    "slideshow": {
     "slide_type": "fragment"
    }
   },
   "outputs": [
    {
     "data": {
      "text/plain": [
       "<Axes: xlabel='nombre_enfants'>"
      ]
     },
     "execution_count": 41,
     "metadata": {},
     "output_type": "execute_result"
    },
    {
     "data": {
      "image/png": "[encoded data removed]",
      "text/plain": [
       "<Figure size 640x480 with 1 Axes>"
      ]
     },
     "metadata": {},
     "output_type": "display_data"
    }
   ],
   "source": [
    "scenario.compute_pivot_table(\n",
    "    aggfunc = 'sum', \n",
    "    values = ['impot_revenus'], \n",
    "    columns = ['nombre_enfants'],\n",
    "    period = 2017,\n",
    "    difference = True,\n",
    "    ).stack().reset_index().plot(x = 'nombre_enfants', kind = 'bar')"
   ]
  },
  {
   "cell_type": "code",
   "execution_count": 42,
   "id": "f6e57133",
   "metadata": {
    "slideshow": {
     "slide_type": "subslide"
    }
   },
   "outputs": [
    {
     "data": {
      "text/html": [
       "<div>\n",
       "<style scoped>\n",
       "    .dataframe tbody tr th:only-of-type {\n",
       "        vertical-align: middle;\n",
       "    }\n",
       "\n",
       "    .dataframe tbody tr th {\n",
       "        vertical-align: top;\n",
       "    }\n",
       "\n",
       "    .dataframe thead th {\n",
       "        text-align: right;\n",
       "    }\n",
       "</style>\n",
       "<table border=\"1\" class=\"dataframe\">\n",
       "  <thead>\n",
       "    <tr style=\"text-align: right;\">\n",
       "      <th></th>\n",
       "      <th>level_0</th>\n",
       "      <th>nombre_enfants</th>\n",
       "      <th>0</th>\n",
       "    </tr>\n",
       "  </thead>\n",
       "  <tbody>\n",
       "    <tr>\n",
       "      <th>0</th>\n",
       "      <td>impot_revenus</td>\n",
       "      <td>0</td>\n",
       "      <td>-1086.313110</td>\n",
       "    </tr>\n",
       "    <tr>\n",
       "      <th>1</th>\n",
       "      <td>impot_revenus</td>\n",
       "      <td>1</td>\n",
       "      <td>557.724365</td>\n",
       "    </tr>\n",
       "    <tr>\n",
       "      <th>2</th>\n",
       "      <td>impot_revenus</td>\n",
       "      <td>2</td>\n",
       "      <td>105.042610</td>\n",
       "    </tr>\n",
       "    <tr>\n",
       "      <th>3</th>\n",
       "      <td>impot_revenus</td>\n",
       "      <td>3</td>\n",
       "      <td>-139.045258</td>\n",
       "    </tr>\n",
       "    <tr>\n",
       "      <th>4</th>\n",
       "      <td>impot_revenus</td>\n",
       "      <td>4</td>\n",
       "      <td>860.527100</td>\n",
       "    </tr>\n",
       "    <tr>\n",
       "      <th>5</th>\n",
       "      <td>impot_revenus</td>\n",
       "      <td>5</td>\n",
       "      <td>153.047882</td>\n",
       "    </tr>\n",
       "    <tr>\n",
       "      <th>6</th>\n",
       "      <td>impot_revenus</td>\n",
       "      <td>6</td>\n",
       "      <td>1329.935181</td>\n",
       "    </tr>\n",
       "    <tr>\n",
       "      <th>7</th>\n",
       "      <td>impot_revenus</td>\n",
       "      <td>7</td>\n",
       "      <td>1180.553833</td>\n",
       "    </tr>\n",
       "    <tr>\n",
       "      <th>8</th>\n",
       "      <td>impot_revenus</td>\n",
       "      <td>8</td>\n",
       "      <td>398.738617</td>\n",
       "    </tr>\n",
       "    <tr>\n",
       "      <th>9</th>\n",
       "      <td>impot_revenus</td>\n",
       "      <td>9</td>\n",
       "      <td>1125.223877</td>\n",
       "    </tr>\n",
       "    <tr>\n",
       "      <th>10</th>\n",
       "      <td>impot_revenus</td>\n",
       "      <td>10</td>\n",
       "      <td>2129.039551</td>\n",
       "    </tr>\n",
       "    <tr>\n",
       "      <th>11</th>\n",
       "      <td>impot_revenus</td>\n",
       "      <td>11</td>\n",
       "      <td>195.002441</td>\n",
       "    </tr>\n",
       "    <tr>\n",
       "      <th>12</th>\n",
       "      <td>impot_revenus</td>\n",
       "      <td>12</td>\n",
       "      <td>-819.269592</td>\n",
       "    </tr>\n",
       "    <tr>\n",
       "      <th>13</th>\n",
       "      <td>impot_revenus</td>\n",
       "      <td>13</td>\n",
       "      <td>-1527.777832</td>\n",
       "    </tr>\n",
       "    <tr>\n",
       "      <th>14</th>\n",
       "      <td>impot_revenus</td>\n",
       "      <td>14</td>\n",
       "      <td>7107.625000</td>\n",
       "    </tr>\n",
       "    <tr>\n",
       "      <th>15</th>\n",
       "      <td>impot_revenus</td>\n",
       "      <td>15</td>\n",
       "      <td>0.000000</td>\n",
       "    </tr>\n",
       "    <tr>\n",
       "      <th>16</th>\n",
       "      <td>impot_revenus</td>\n",
       "      <td>16</td>\n",
       "      <td>0.000000</td>\n",
       "    </tr>\n",
       "    <tr>\n",
       "      <th>17</th>\n",
       "      <td>impot_revenus</td>\n",
       "      <td>18</td>\n",
       "      <td>0.000000</td>\n",
       "    </tr>\n",
       "  </tbody>\n",
       "</table>\n",
       "</div>"
      ],
      "text/plain": [
       "          level_0  nombre_enfants            0\n",
       "0   impot_revenus               0 -1086.313110\n",
       "1   impot_revenus               1   557.724365\n",
       "2   impot_revenus               2   105.042610\n",
       "3   impot_revenus               3  -139.045258\n",
       "4   impot_revenus               4   860.527100\n",
       "5   impot_revenus               5   153.047882\n",
       "6   impot_revenus               6  1329.935181\n",
       "7   impot_revenus               7  1180.553833\n",
       "8   impot_revenus               8   398.738617\n",
       "9   impot_revenus               9  1125.223877\n",
       "10  impot_revenus              10  2129.039551\n",
       "11  impot_revenus              11   195.002441\n",
       "12  impot_revenus              12  -819.269592\n",
       "13  impot_revenus              13 -1527.777832\n",
       "14  impot_revenus              14  7107.625000\n",
       "15  impot_revenus              15     0.000000\n",
       "16  impot_revenus              16     0.000000\n",
       "17  impot_revenus              18     0.000000"
      ]
     },
     "execution_count": 42,
     "metadata": {},
     "output_type": "execute_result"
    }
   ],
   "source": [
    "scenario.compute_pivot_table(\n",
    "    aggfunc = 'mean', \n",
    "    values = ['impot_revenus'], \n",
    "    columns = ['nombre_enfants'],\n",
    "    period = 2017,\n",
    "    difference = True,\n",
    "    ).stack().reset_index()"
   ]
  },
  {
   "cell_type": "code",
   "execution_count": 43,
   "id": "206d5d0b",
   "metadata": {
    "slideshow": {
     "slide_type": "fragment"
    }
   },
   "outputs": [
    {
     "data": {
      "text/plain": [
       "-0.003530048"
      ]
     },
     "execution_count": 43,
     "metadata": {},
     "output_type": "execute_result"
    }
   ],
   "source": [
    "scenario.compute_pivot_table(\n",
    "    aggfunc = 'sum', \n",
    "    values = ['impot_revenus'], \n",
    "    columns = ['nombre_enfants'],\n",
    "    period = 2017,\n",
    "    difference = True,\n",
    "    ).stack().sum() / 1e9\n",
    "# The result is close to zero and almost equal to the one computed above"
   ]
  },
  {
   "cell_type": "code",
   "execution_count": null,
   "id": "f1ea63f8",
   "metadata": {},
   "outputs": [],
   "source": []
  }
 ],
 "metadata": {
  "celltoolbar": "Format de la Cellule Texte Brut",
  "kernelspec": {
   "display_name": "Python 3 (ipykernel)",
   "language": "python",
   "name": "python3"
  },
  "language_info": {
   "codemirror_mode": {
    "name": "ipython",
    "version": 3
   },
   "file_extension": ".py",
   "mimetype": "text/x-python",
   "name": "python",
   "nbconvert_exporter": "python",
   "pygments_lexer": "ipython3",
   "version": "3.9.18"
  }
 },
 "nbformat": 4,
 "nbformat_minor": 5
}
