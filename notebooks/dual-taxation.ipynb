{
 "cells": [
  {
   "cell_type": "markdown",
   "metadata": {},
   "source": [
    "# Microsimulation of public policies -- Exam : Dual taxation subject\n",
    "\n",
    "#### Professors: Brice Fabre and Sylvain Duchesne\n",
    "\n",
    "You work as an economist at the Hipeepee Institute, in the country of\n",
    "Peehesseeland. Your job consists in producing *ex ante* evaluations of\n",
    "fiscal reforms in this country. We are in elections period, and several\n",
    "proposals are made by different parties regarding the tax and benefit\n",
    "system, and you have to provide to the public debate elements related to\n",
    "these proposals. Your model cover households taxation, which means taxes\n",
    "\"administratively\" paid by households."
   ]
  },
  {
   "cell_type": "code",
   "execution_count": null,
   "metadata": {},
   "outputs": [],
   "source": [
    "# !pip install OpenFisca-PPDLand == 0.3.5  ## YOU NEED TO UNCOMMENT AND RUN THIS LINE ONLY ONCE"
   ]
  },
  {
   "cell_type": "code",
   "execution_count": null,
   "metadata": {},
   "outputs": [],
   "source": [
    "import matplotlib.pyplot as plt  # For graphics\n",
    "%matplotlib inline\n",
    "\n",
    "import inspect\n",
    "import numpy as np  # linear algebra and math\n",
    "import pandas as pd  # data frames_\n",
    "\n",
    "from ppdland import CountryTaxBenefitSystem as PSELandTaxBenefitSystem\n",
    "from ppdland.scenarios import PPDLandSurveyScenario as PSELandSurveyScenario\n",
    "from ppdland.scenarios import  init_single_entity\n",
    "from ppdland.data import create_input_dataframe\n",
    "\n",
    "from openfisca_core.model_api import max_\n",
    "from openfisca_core.rates import marginal_rate\n",
    "\n",
    "from openfisca_core.model_api import *\n",
    "from ppdland.entities import Individu\n",
    "\n",
    "\n",
    "%config Completer.use_jedi = False"
   ]
  },
  {
   "cell_type": "markdown",
   "metadata": {},
   "source": [
    "\n",
    "\n",
    "## Part 1: explore the current system\n",
    "\n",
    "You anticipate that you will have to make soon evaluations in small\n",
    "windows of time. In order to be operational at the right moment, you\n",
    "decide to refresh your memory on what the current system looks like. You\n",
    "will notice regarding the database that a given household can have\n",
    "maximum three kinds of income: labour income, pensions and dividends.\n",
    "\n",
    "### 1.1.  What are the main components of the existing tax and benefit system?\n"
   ]
  },
  {
   "cell_type": "code",
   "execution_count": null,
   "metadata": {},
   "outputs": [],
   "source": [
    "tax_benefit_system = PSELandTaxBenefitSystem()\n",
    "TODO"
   ]
  },
  {
   "cell_type": "code",
   "execution_count": null,
   "metadata": {},
   "outputs": [],
   "source": [
    "for variable_name in variables:\n",
    "    TODO\n",
    "    try:\n",
    "        print(variable.name, \":\", variable.label)\n",
    "        TODO\n",
    "    except Exception:\n",
    "        # No formula\n",
    "        pass\n"
   ]
  },
  {
   "cell_type": "markdown",
   "metadata": {},
   "source": [
    "\n",
    "### 1.2.  Display the features of the existing income tax (tax base, tax schedule).\n"
   ]
  },
  {
   "cell_type": "code",
   "execution_count": null,
   "metadata": {},
   "outputs": [],
   "source": [
    "from ppdland.variables import variables\n",
    "TODO"
   ]
  },
  {
   "cell_type": "code",
   "execution_count": null,
   "metadata": {},
   "outputs": [],
   "source": [
    "print(TODO.tax_scale)"
   ]
  },
  {
   "cell_type": "markdown",
   "metadata": {},
   "source": [
    "\n",
    "### 1.3.  Represent the budget constraint: draw the net disposable income by pre-tax income for a wage earner. Display also the first bisector.\n"
   ]
  },
  {
   "cell_type": "code",
   "execution_count": null,
   "metadata": {},
   "outputs": [],
   "source": [
    "scenario = PSELandTaxBenefitSystem().new_scenario()\n",
    "scenario = init_single_entity(\n",
    "    scenario,\n",
    "    parent1 = {},\n",
    "    period = '2020',\n",
    "    axes = [[\n",
    "        {\n",
    "            'count': 100,\n",
    "            'min': 0,\n",
    "            'max': 15000,\n",
    "            'name': 'labour_income',\n",
    "            }\n",
    "        ]],\n",
    "    )\n",
    "simulation = TODO\n",
    "TODO\n",
    "plt.plot(TODO, label = 'disposable_income')\n",
    "plt.plot(TODO, label = 'first bisector')\n",
    "plt.xlabel('labour_income')\n",
    "plt.legend()\n"
   ]
  },
  {
   "cell_type": "markdown",
   "metadata": {},
   "source": [
    "\n",
    "### 1.4.  Compute the labour force participation rate (assumption: no unemployment; i.e. every individual finds a job related to her labour supply).\n"
   ]
  },
  {
   "cell_type": "code",
   "execution_count": null,
   "metadata": {},
   "outputs": [],
   "source": [
    "input_data_frame = create_input_dataframe()\n",
    "scenario = PSELandSurveyScenario(\n",
    "    data = dict(input_data_frame = input_data_frame), \n",
    "    tax_benefit_system = PSELandTaxBenefitSystem(),\n",
    "    year = 2022,\n",
    "    )\n"
   ]
  },
  {
   "cell_type": "code",
   "execution_count": null,
   "metadata": {},
   "outputs": [],
   "source": [
    "participation_rate = TODO\n",
    "print('Participation rate = {} %'.format(100 * participation_rate))"
   ]
  },
  {
   "cell_type": "markdown",
   "metadata": {},
   "source": [
    "\n",
    "### 1.5.  Compute and represent graphically the mean disposable income by decile of pre-tax income.\n"
   ]
  },
  {
   "cell_type": "code",
   "execution_count": null,
   "metadata": {},
   "outputs": [],
   "source": [
    "TODO"
   ]
  },
  {
   "cell_type": "markdown",
   "metadata": {},
   "source": [
    "\n",
    "## Part 2: creating a dual taxation system\n",
    "\n",
    "The elections get close, and the economic context tends to recession. To\n",
    "boost the economy, the government announces its willingness to make a\n",
    "policy toward supply. It promises to create, in case of reelection, a\n",
    "dual taxation system. Instead of being taxed through the progressive\n",
    "income tax, dividends would be submitted to a flat tax at a rate of\n",
    "15%.\n",
    "\n",
    "### 2.1.  Represent the change in income tax implied by this policy\n",
    "\n",
    "Produce a graph showing two curves: taxes before the reform by pre-tax\n",
    "dividends level for the case of a single individual who earns only\n",
    "dividends, and the income tax after the reform.\n"
   ]
  },
  {
   "cell_type": "code",
   "execution_count": null,
   "metadata": {},
   "outputs": [],
   "source": [
    "FLAT_TAX_RATE = .15\n",
    "\n",
    "def flat_tax_reform(flat_tax_rate = FLAT_TAX_RATE):    \n",
    "    tax_benefit_system = PSELandTaxBenefitSystem()\n",
    "\n",
    "    class TODO(Variable):\n",
    "        def formula(individu, period, parameters):\n",
    "            TODO\n",
    "\n",
    "    class reformed_tbs(Reform):\n",
    "        name = f\"Using a flat-tax rate for dividends {flat_tax_rate}\"\n",
    "        def apply(self):\n",
    "            TODO\n",
    "\n",
    "    return reformed_tbs(tax_benefit_system)"
   ]
  },
  {
   "cell_type": "code",
   "execution_count": null,
   "metadata": {},
   "outputs": [],
   "source": [
    "baseline_scenario = PSELandTaxBenefitSystem().new_scenario()\n",
    "baseline_scenario = init_single_entity(\n",
    "    baseline_scenario,\n",
    "    TODO\n",
    "    )\n",
    "\n",
    "reformed_tax_benefit_system = TODO\n",
    "reformed_scenario = reformed_tax_benefit_system.new_scenario()\n",
    "reformed_scenario = init_single_entity(\n",
    "    reformed_scenario,\n",
    "    TODO\n",
    "    )\n",
    "\n",
    "baseline_simulation = baseline_scenario.new_simulation()\n",
    "TODO\n",
    "reformed_simulation = reformed_scenario.new_simulation()\n",
    "TODO\n"
   ]
  },
  {
   "cell_type": "markdown",
   "metadata": {},
   "source": [
    "### 2.2.  Compute the cost of this reform (in million euros).\n"
   ]
  },
  {
   "cell_type": "code",
   "execution_count": null,
   "metadata": {},
   "outputs": [],
   "source": [
    "def cost():\n",
    "    reformed_tax_benefit_system = TODO\n",
    "    scenario = PSELandSurveyScenario(\n",
    "        data = dict(input_data_frame = input_data_frame), \n",
    "        tax_benefit_system = TODO,\n",
    "        baseline_tax_benefit_system = TODO,\n",
    "        year = 2022,\n",
    "        )\n",
    "\n",
    "    amount = TODO\n",
    "    return - amount / 1e6\n",
    "\n",
    "cost()"
   ]
  },
  {
   "cell_type": "markdown",
   "metadata": {},
   "source": [
    "\n",
    "### 2.3.  Compute the redistributive effects of the reform.\n",
    "\n",
    "Draw a graph showing the mean variation in disposable income by decile of pre-reform pre-tax income.\n"
   ]
  },
  {
   "cell_type": "code",
   "execution_count": null,
   "metadata": {},
   "outputs": [],
   "source": [
    "scenario = PSELandSurveyScenario(\n",
    "    data = dict(input_data_frame = input_data_frame), \n",
    "    tax_benefit_system = TODO,\n",
    "    baseline_tax_benefit_system = TODO,\n",
    "    year = 2022,\n",
    "    )\n",
    "# disposable_income difference after - before by decile \n",
    "TODO"
   ]
  },
  {
   "cell_type": "markdown",
   "metadata": {},
   "source": [
    "\n",
    "### 2.4.  Interpret the results\n",
    "\n",
    "\n",
    "\n",
    "### 2.5.  Your boss asks you whether this figure is the only way to represent the redistributive effects of this reform. \n",
    "    \n",
    "What would you answer her/him about other potential representations, the underlying\n",
    "trade-off between these different possibilities, and information you\n",
    "would need to draw such alternative representations?\n",
    "\n",
    "\n",
    "\n",
    "## Part 3: Behavioural responses of dividends\n",
    "\n",
    "Following the publication of your work, some citizens complain that this\n",
    "reform goes just toward richer people, and will create a deficit. In\n",
    "reaction to this, the government answers that your work is partial,\n",
    "because it does not take into account the fact that dividends will\n",
    "increase with this reform. The prime minister calls your boss to\n",
    "\"suggest\" her/him to immediately take it into account. As you work in an\n",
    "independent institute, your boss answers that you will follow only the\n",
    "suggestions of the academic literature. After this call, you read indeed\n",
    "that most recent papers find an elasticity of dividends with respect to\n",
    "the marginal net of tax rate of 0.4. Then, you get stressed and start to\n",
    "work to modify your results as soon as possible.\n",
    "\n",
    "### 3.1.  According to you, how do you have to interpret this elasticity?\n",
    "\n",
    "\n",
    "### 3.2.  Explain in plain English in which direction behavioural responses in this setting will go.\n",
    "\n",
    "\n",
    "\n",
    "### 3.3.  Compute the variation in % in the mass of dividends.\n"
   ]
  },
  {
   "cell_type": "code",
   "execution_count": null,
   "metadata": {},
   "outputs": [],
   "source": [
    "def dividends_response(flat_tax_rate):    \n",
    "    tax_benefit_system = flat_tax_reform(flat_tax_rate)\n",
    "\n",
    "    class initial_marginal_net_of_tax_rate(Variable):         \n",
    "        definition_period = YEAR\n",
    "        entity = Individu\n",
    "        value_type = float\n",
    "\n",
    "        def formula(individu, period, parameters):\n",
    "            dividends = individu('dividends', period)\n",
    "            labour_income = individu('labour_income', period)\n",
    "            pension = individu('pension', period)\n",
    "            taxable_income = labour_income + pension + dividends\n",
    "            tax_scale = parameters(period).tax_scale\n",
    "            delta = 1\n",
    "            initial_marginal_net_of_tax_rate = TODO\n",
    "            return initial_marginal_net_of_tax_rate\n",
    "\n",
    "    class delta_marginal_net_of_tax_rate(Variable):         \n",
    "        definition_period = YEAR\n",
    "        entity = Individu\n",
    "        value_type = float\n",
    "\n",
    "        def formula(individu, period, parameters):\n",
    "            final_marginal_net_of_tax_rate = TODO\n",
    "            initial_marginal_net_of_tax_rate = individu(\"initial_marginal_net_of_tax_rate\", period)\n",
    "            return TODO\n",
    "        \n",
    "    class adjusted_dividends(Variable):         \n",
    "        definition_period = YEAR\n",
    "        entity = Individu\n",
    "        value_type = float\n",
    "        \n",
    "        def formula_2022(individu, period):\n",
    "            dividends = individu('dividends', period)  #  dividends are dividends before behavioral response\n",
    "            delta_marginal_net_of_tax_rate = individu('delta_marginal_net_of_tax_rate', period)\n",
    "            initial_marginal_net_of_tax_rate = individu('initial_marginal_net_of_tax_rate', period)\n",
    "            elasticity = .4\n",
    "            adjusted_dividends = TODO\n",
    "            return adjusted_dividends \n",
    "\n",
    "    class income_tax(Variable):         \n",
    "        definition_period = YEAR\n",
    "        entity = Individu\n",
    "        value_type = float\n",
    "    \n",
    "        def formula_2022(individu, period, parameters):\n",
    "            TODO\n",
    "\n",
    "    class disposable_income(Variable):\n",
    "        definition_period = YEAR\n",
    "        entity = Individu\n",
    "        value_type = float\n",
    "        \n",
    "        def formula_2022(individu, period):\n",
    "            TODO\n",
    "        \n",
    "    class reformed_tbs(Reform):\n",
    "        name = \"Reformed tax benefit system\"\n",
    "        \n",
    "        def apply(self):\n",
    "            TODO            \n",
    "    return reformed_tbs(tax_benefit_system)"
   ]
  },
  {
   "cell_type": "code",
   "execution_count": null,
   "metadata": {},
   "outputs": [],
   "source": [
    "reformed_tax_benefit_system = TODO\n",
    "scenario = PSELandSurveyScenario(\n",
    "    data = dict(input_data_frame = input_data_frame), \n",
    "    tax_benefit_system = reformed_tax_benefit_system,\n",
    "    baseline_tax_benefit_system = PSELandTaxBenefitSystem(),\n",
    "    year = 2022,\n",
    "    )\n",
    "\n",
    "dividends_variation = TODO\n",
    "\n",
    "print(f\"Dividends variation = + {dividends_variation * 100} %\") "
   ]
  },
  {
   "cell_type": "markdown",
   "metadata": {},
   "source": [
    "### 3.4.  Compute the cost of the reform after taking into account these behavioural responses.\n"
   ]
  },
  {
   "cell_type": "code",
   "execution_count": null,
   "metadata": {},
   "outputs": [],
   "source": [
    "def cost(flat_tax_rate = FLAT_TAX_RATE):\n",
    "    reformed_tax_benefit_system = TODO\n",
    "    scenario = PSELandSurveyScenario(\n",
    "        data = dict(input_data_frame = input_data_frame), \n",
    "        TODO\n",
    "        year = 2022,\n",
    "        )\n",
    "\n",
    "    amount = TODO\n",
    "    return - amount / 1e6\n",
    "\n",
    "cost()\n"
   ]
  },
  {
   "cell_type": "markdown",
   "metadata": {},
   "source": [
    "\n",
    "### 3.5.  Compute the redistributive effects of the reform.\n",
    "\n",
    "Draw a graph showing the mean variation in disposable income by decile of\n",
    "pre-reform pre-tax income.\n"
   ]
  },
  {
   "cell_type": "code",
   "execution_count": null,
   "metadata": {},
   "outputs": [],
   "source": [
    "reformed_tax_benefit_system = dividends_response(flat_tax_rate = FLAT_TAX_RATE)\n",
    "\n",
    "scenario = PSELandSurveyScenario(\n",
    "    data = dict(input_data_frame = input_data_frame), \n",
    "    TODO,\n",
    "    year = 2022,\n",
    "    )\n"
   ]
  },
  {
   "cell_type": "markdown",
   "metadata": {},
   "source": [
    "\n",
    "### 3.6.  Which criticism could we make to this representation?\n",
    "\n",
    "\n",
    "\n",
    "### 3.7.  Comment all these results.\n",
    "\n",
    "## Part 4: labour supply behavioural responses along the intensive margin\n",
    "\n",
    "You are now about to publish the new version of your work. But your\n",
    "boss is coming to you, saying that you have to anticipate better for\n",
    "other potential omissions. Your boss suggest you to incorporate, in\n",
    "addition of responses in terms of dividends, behavioural responses in\n",
    "terms of labour income along the intensive margin, taking an elasticity\n",
    "of 0.4. Reminder: this elasticity is the variation in percentage of\n",
    "hours of work when the marginal net of tax rate (i.e. 1 - marginal tax\n",
    "rate) increases by 1%. Here, we implicitly assume that hourly wage is\n",
    "constant for a given individual, so that the variation in % of hours of\n",
    "work is equal to the variation in % of total wage. The two kinds of\n",
    "responses (for dividends and labour supply) are made in a simultaneous\n",
    "way (which implies that responses in terms of dividends are unchanged\n",
    "compared to the previous part).\n",
    "\n",
    "### 4.1.  Explain in plain English in which direction behavioural responses in terms of labour supply will go in this setting.\n",
    "\n",
    "\n",
    "\n",
    "### 4.2.  Compute the variation in % in the mass of wages due to these behavioural responses.\n"
   ]
  },
  {
   "cell_type": "code",
   "execution_count": null,
   "metadata": {},
   "outputs": [],
   "source": [
    "def labour_income_intensive_margin_response(flat_tax_rate):    \n",
    "    tax_benefit_system = TODO\n",
    "\n",
    "    class labour_income_delta_marginal_net_of_tax_rate(Variable):         \n",
    "        definition_period = YEAR\n",
    "        entity = Individu\n",
    "        value_type = float\n",
    "\n",
    "        def formula(individu, period, parameters):\n",
    "            labour_income = individu('labour_income', period)\n",
    "            pension = individu('pension', period)\n",
    "            taxable_income = labour_income + pension\n",
    "            tax_scale = parameters(period).tax_scale\n",
    "            delta = 1\n",
    "            final_marginal_net_of_tax_rate = TODO\n",
    "\n",
    "            initial_marginal_net_of_tax_rate = individu(\"initial_marginal_net_of_tax_rate\", period)\n",
    "            return TODO\n",
    "        \n",
    "    class adjusted_labour_income(Variable):         \n",
    "        definition_period = YEAR\n",
    "        entity = Individu\n",
    "        value_type = float\n",
    "        \n",
    "        def formula_2022(individu, period):\n",
    "            labour_income = individu('labour_income', period)  #  labour_income is labour_income before behavioral response\n",
    "            labour_income_delta_marginal_net_of_tax_rate = individu('labour_income_delta_marginal_net_of_tax_rate', period)\n",
    "            initial_marginal_net_of_tax_rate = individu('initial_marginal_net_of_tax_rate', period)\n",
    "            elasticity = .4\n",
    "            adjusted_labour_income = TODO\n",
    "            return adjusted_labour_income \n",
    "\n",
    "    TODO\n",
    "\n",
    "    class reformed_tbs(Reform):\n",
    "        name = \"Reformed tax benefit system\"\n",
    "        \n",
    "        def apply(self):\n",
    "            TODO\n",
    "            \n",
    "    return reformed_tbs(tax_benefit_system)\n",
    "    "
   ]
  },
  {
   "cell_type": "code",
   "execution_count": null,
   "metadata": {},
   "outputs": [],
   "source": [
    "reformed_tax_benefit_system = TODO\n",
    "scenario = PSELandSurveyScenario(\n",
    "    data = dict(input_data_frame = input_data_frame), \n",
    "    TODO\n",
    "    year = 2022,\n",
    "    )\n",
    "\n",
    "labour_income_variation = TODO\n",
    "\n",
    "print(f\"Labour income variation = + {labour_income_variation * 100} %\") "
   ]
  },
  {
   "cell_type": "markdown",
   "metadata": {},
   "source": [
    "### 4.3.  Compute the cost of the reform after taking into account these behavioural responses.\n"
   ]
  },
  {
   "cell_type": "code",
   "execution_count": null,
   "metadata": {},
   "outputs": [],
   "source": [
    "def cost(flat_tax_rate = FLAT_TAX_RATE):\n",
    "    reformed_tax_benefit_system = TODO\n",
    "    scenario = PSELandSurveyScenario(\n",
    "        data = dict(input_data_frame = input_data_frame), \n",
    "        TODO\n",
    "        year = 2022,\n",
    "        )\n",
    "\n",
    "    amount = TODO\n",
    "    return - amount / 1e6\n",
    "\n",
    "cost()\n"
   ]
  },
  {
   "cell_type": "markdown",
   "metadata": {},
   "source": [
    "### 4.4.  Compute the new labour force participation rate.\n",
    "\n"
   ]
  },
  {
   "cell_type": "code",
   "execution_count": null,
   "metadata": {},
   "outputs": [],
   "source": [
    "reformed_tax_benefit_system = TODO\n",
    "scenario = PSELandSurveyScenario(\n",
    "    data = dict(input_data_frame = input_data_frame), \n",
    "    TODO\n",
    "    year = 2022,\n",
    "    )\n",
    "\n",
    "participation_rate = TODO\n",
    "print('Participation rate = {} %'.format(100 * participation_rate))"
   ]
  },
  {
   "cell_type": "markdown",
   "metadata": {},
   "source": [
    "### 4.5.  Compute the redistributive effects of the reform: draw a graph showing the mean variation in disposable income by decile of pre-reform pre-tax income.\n"
   ]
  },
  {
   "cell_type": "code",
   "execution_count": null,
   "metadata": {},
   "outputs": [],
   "source": [
    "TODO"
   ]
  },
  {
   "cell_type": "markdown",
   "metadata": {},
   "source": [
    "### 4.6.  Comment all these results."
   ]
  },
  {
   "cell_type": "markdown",
   "metadata": {},
   "source": [
    "\n",
    "## Part 5: about the future\n",
    "\n",
    "Your boss says that now, you have now to publish all your results,\n",
    "because journalists are getting crazy. However, she/he suggests that you\n",
    "need to have together a meeting to talk about other ways to\n",
    "microsimulate the impacts of reforms of these kinds, in order to\n",
    "anticipate for future work.\n",
    "\n",
    "What would be your suggestions during this meeting?"
   ]
  },
  {
   "cell_type": "markdown",
   "metadata": {},
   "source": []
  }
 ],
 "metadata": {
  "interpreter": {
   "hash": "1424e3cee4a6dc1538a478d72f6dc77d7f8ca8fe065e5435ebb050fcea067e58"
  },
  "kernelspec": {
   "display_name": "Python 3 (ipykernel)",
   "language": "python",
   "name": "python3"
  },
  "language_info": {
   "codemirror_mode": {
    "name": "ipython",
    "version": 3
   },
   "file_extension": ".py",
   "mimetype": "text/x-python",
   "name": "python",
   "nbconvert_exporter": "python",
   "pygments_lexer": "ipython3",
   "version": "3.9.18"
  }
 },
 "nbformat": 4,
 "nbformat_minor": 4
}
