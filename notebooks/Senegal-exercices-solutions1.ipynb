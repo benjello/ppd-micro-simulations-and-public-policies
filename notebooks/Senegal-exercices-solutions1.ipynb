{
 "cells": [
  {
   "cell_type": "markdown",
   "metadata": {
    "slideshow": {
     "slide_type": "slide"
    }
   },
   "source": [
    "# Exploring the senegalese tax-benefit-system with OpenFisca"
   ]
  },
  {
   "cell_type": "code",
   "execution_count": 1,
   "metadata": {
    "slideshow": {
     "slide_type": "slide"
    }
   },
   "outputs": [],
   "source": [
    "import matplotlib.pyplot as plt  # For graphics\n",
    "%matplotlib inline\n",
    "from openfisca_core import periods\n",
    "\n",
    "from openfisca_senegal import CountryTaxBenefitSystem as SenegalTaxBenefitSystem  # The Senegalese tax-benefits system\n",
    "from openfisca_senegal.scenarios import init_single_entity"
   ]
  },
  {
   "cell_type": "markdown",
   "metadata": {
    "slideshow": {
     "slide_type": "slide"
    }
   },
   "source": [
    "## The concepts"
   ]
  },
  {
   "cell_type": "markdown",
   "metadata": {
    "slideshow": {
     "slide_type": "slide"
    }
   },
   "source": [
    "### Tax Benefit System"
   ]
  },
  {
   "cell_type": "code",
   "execution_count": 2,
   "metadata": {
    "slideshow": {
     "slide_type": "subslide"
    }
   },
   "outputs": [
    {
     "data": {
      "text/plain": [
       "<openfisca_senegal.CountryTaxBenefitSystem at 0x7fabd3e98eb0>"
      ]
     },
     "execution_count": 2,
     "metadata": {},
     "output_type": "execute_result"
    }
   ],
   "source": [
    "tax_benefit_system = SenegalTaxBenefitSystem()\n",
    "tax_benefit_system"
   ]
  },
  {
   "cell_type": "markdown",
   "metadata": {
    "slideshow": {
     "slide_type": "slide"
    }
   },
   "source": [
    "### Entities"
   ]
  },
  {
   "cell_type": "code",
   "execution_count": 3,
   "metadata": {
    "slideshow": {
     "slide_type": "subslide"
    }
   },
   "outputs": [
    {
     "data": {
      "text/plain": [
       "[<openfisca_core.entities.group_entity.GroupEntity at 0x7fabcf362d60>,\n",
       " <openfisca_core.entities.entity.Entity at 0x7fabcf362d90>]"
      ]
     },
     "execution_count": 3,
     "metadata": {},
     "output_type": "execute_result"
    }
   ],
   "source": [
    "tax_benefit_system.entities"
   ]
  },
  {
   "cell_type": "code",
   "execution_count": 4,
   "metadata": {
    "slideshow": {
     "slide_type": "fragment"
    }
   },
   "outputs": [
    {
     "data": {
      "text/plain": [
       "['household', 'person']"
      ]
     },
     "execution_count": 4,
     "metadata": {},
     "output_type": "execute_result"
    }
   ],
   "source": [
    "[entity.key for entity in tax_benefit_system.entities]"
   ]
  },
  {
   "cell_type": "code",
   "execution_count": 5,
   "metadata": {
    "slideshow": {
     "slide_type": "fragment"
    }
   },
   "outputs": [
    {
     "data": {
      "text/plain": [
       "['Household', 'Person']"
      ]
     },
     "execution_count": 5,
     "metadata": {},
     "output_type": "execute_result"
    }
   ],
   "source": [
    "[entity.label for entity in tax_benefit_system.entities]"
   ]
  },
  {
   "cell_type": "markdown",
   "metadata": {
    "slideshow": {
     "slide_type": "slide"
    }
   },
   "source": [
    "### Variables "
   ]
  },
  {
   "cell_type": "code",
   "execution_count": 6,
   "metadata": {
    "slideshow": {
     "slide_type": "subslide"
    }
   },
   "outputs": [
    {
     "data": {
      "text/plain": [
       "{'household_weight': <140375971434160_-4354617655474570901_weights.household_weight at 0x7fac146eb520>,\n",
       " 'person_weight': <140375971434160_-4354617655474570901_weights.person_weight at 0x7fac146eb190>,\n",
       " 'benefices_non_salarie': <140375971434160_-2889367776004653549_revenus.benefices_non_salarie at 0x7fac146eb670>,\n",
       " 'conjoint_a_des_revenus': <140375971434160_-2889367776004653549_revenus.conjoint_a_des_revenus at 0x7fac146e0bb0>,\n",
       " 'pension_retraite': <140375971434160_-2889367776004653549_revenus.pension_retraite at 0x7fac146e0c40>,\n",
       " 'salaire': <140375971434160_-2889367776004653549_revenus.salaire at 0x7fac146d3820>,\n",
       " 'age': <140375971434160_5821211806142594562_caracteristiques_socio_demographiques.age at 0x7fac15f24910>,\n",
       " 'date_naissance': <140375971434160_5821211806142594562_caracteristiques_socio_demographiques.date_naissance at 0x7fac146e63a0>,\n",
       " 'est_celibataire': <140375971434160_5821211806142594562_caracteristiques_socio_demographiques.est_celibataire at 0x7fac146e6340>,\n",
       " 'est_divorce': <140375971434160_5821211806142594562_caracteristiques_socio_demographiques.est_divorce at 0x7fabcf362850>,\n",
       " 'est_marie': <140375971434160_5821211806142594562_caracteristiques_socio_demographiques.est_marie at 0x7fabcf30ab50>,\n",
       " 'est_veuf': <140375971434160_5821211806142594562_caracteristiques_socio_demographiques.est_veuf at 0x7fabcf30ab80>,\n",
       " 'nombre_enfants': <140375971434160_5821211806142594562_caracteristiques_socio_demographiques.nombre_enfants at 0x7fabcf30ab20>,\n",
       " 'statut_marital': <140375971434160_5821211806142594562_caracteristiques_socio_demographiques.statut_marital at 0x7fabcf30aa60>,\n",
       " 'impots_indirects': <140375971434160_-7117460439296617555_impots_indirects.impots_indirects at 0x7fabcf369430>,\n",
       " 'impot_avant_reduction_famille': <140375971434160_7117439795389574446_impots_directs.impot_avant_reduction_famille at 0x7fabcf31e190>,\n",
       " 'impot_revenus': <140375971434160_7117439795389574446_impots_directs.impot_revenus at 0x7fabcf31e100>,\n",
       " 'nombre_de_parts': <140375971434160_7117439795389574446_impots_directs.nombre_de_parts at 0x7fabcf31e2e0>,\n",
       " 'reduction_impots_pour_charge_famille': <140375971434160_7117439795389574446_impots_directs.reduction_impots_pour_charge_famille at 0x7fabcf31e340>}"
      ]
     },
     "execution_count": 6,
     "metadata": {},
     "output_type": "execute_result"
    }
   ],
   "source": [
    "tax_benefit_system.variables"
   ]
  },
  {
   "cell_type": "code",
   "execution_count": 7,
   "metadata": {
    "slideshow": {
     "slide_type": "subslide"
    }
   },
   "outputs": [
    {
     "data": {
      "text/plain": [
       "['age',\n",
       " 'benefices_non_salarie',\n",
       " 'conjoint_a_des_revenus',\n",
       " 'date_naissance',\n",
       " 'est_celibataire',\n",
       " 'est_divorce',\n",
       " 'est_marie',\n",
       " 'est_veuf',\n",
       " 'household_weight',\n",
       " 'impot_avant_reduction_famille',\n",
       " 'impot_revenus',\n",
       " 'impots_indirects',\n",
       " 'nombre_de_parts',\n",
       " 'nombre_enfants',\n",
       " 'pension_retraite',\n",
       " 'person_weight',\n",
       " 'reduction_impots_pour_charge_famille',\n",
       " 'salaire',\n",
       " 'statut_marital']"
      ]
     },
     "execution_count": 7,
     "metadata": {},
     "output_type": "execute_result"
    }
   ],
   "source": [
    "sorted(tax_benefit_system.variables.keys())"
   ]
  },
  {
   "cell_type": "code",
   "execution_count": 8,
   "metadata": {
    "slideshow": {
     "slide_type": "subslide"
    }
   },
   "outputs": [
    {
     "name": "stdout",
     "output_type": "stream",
     "text": [
      "age\n",
      "    def formula(individu, period, parameters):\n",
      "        date_naissance = individu('date_naissance', period)\n",
      "        birth_year = date_naissance.astype('datetime64[Y]').astype(int) + 1970\n",
      "        birth_month = date_naissance.astype('datetime64[M]').astype(int) % 12 + 1\n",
      "        birth_day = (date_naissance - date_naissance.astype('datetime64[M]') + 1).astype(int)\n",
      "\n",
      "        is_birthday_past = (\n",
      "            (birth_month < period.start.month) + (birth_month == period.start.month) * (birth_day <= period.start.day)\n",
      "            )\n",
      "        # If the birthday is not passed this year, subtract one year\n",
      "        return (period.start.year - birth_year) - where(is_birthday_past, 0, 1)\n",
      "\n",
      "\n",
      "benefices_non_salarie\n",
      "\n",
      "conjoint_a_des_revenus\n",
      "\n",
      "date_naissance\n",
      "\n",
      "est_celibataire\n",
      "    def formula(individu, period):\n",
      "        return individu('statut_marital', period) == TypesStatutMarital.celibataire\n",
      "\n",
      "\n",
      "est_divorce\n",
      "    def formula(individu, period):\n",
      "        return individu('statut_marital', period) == TypesStatutMarital.veuf_divorce\n",
      "\n",
      "\n",
      "est_marie\n",
      "    def formula(individu, period):\n",
      "        return individu('statut_marital', period) == TypesStatutMarital.marie\n",
      "\n",
      "\n",
      "est_veuf\n",
      "    def formula(individu, period):\n",
      "        return individu('statut_marital', period) == TypesStatutMarital.veuf_divorce\n",
      "\n",
      "\n",
      "household_weight\n",
      "\n",
      "impot_avant_reduction_famille\n",
      "    def formula(individu, period, legislation):\n",
      "        salaire = individu('salaire', period, options = [ADD])\n",
      "        salaire_abattement = min_(0.3 * salaire, 900000)\n",
      "        salaire_imposable = salaire - salaire_abattement\n",
      "\n",
      "        pension_retraite = individu('pension_retraite', period, options = [ADD])\n",
      "        pension_abbattement = max_(pension_retraite * 0.4, 1800000) * (pension_retraite > 0)\n",
      "        retraite_imposable = pension_retraite - pension_abbattement\n",
      "        benefices_non_salarie = individu('benefices_non_salarie', period, options = [ADD])\n",
      "        benefice_abattement = benefices_non_salarie * 0.15\n",
      "        benefices_imposable = benefices_non_salarie - benefice_abattement\n",
      "\n",
      "        revenus_arrondis = floor_divide(salaire_imposable + retraite_imposable + benefices_imposable, 1000) * 1000\n",
      "        revenus_imposable = max_(0, revenus_arrondis)\n",
      "\n",
      "        bareme_impot_progressif = legislation(period).prelevements_obligatoires.impots_directs.bareme_impot_progressif\n",
      "        return bareme_impot_progressif.calc(revenus_imposable)\n",
      "\n",
      "\n",
      "impot_revenus\n",
      "    def formula(individu, period):\n",
      "        impot_avant_reduction_famille = individu('impot_avant_reduction_famille', period)\n",
      "        reduction_impots_pour_charge_famille = individu('reduction_impots_pour_charge_famille', period)\n",
      "        impot_apres_reduction_famille = impot_avant_reduction_famille - reduction_impots_pour_charge_famille\n",
      "        return max_(0, impot_apres_reduction_famille)\n",
      "\n",
      "\n",
      "impots_indirects\n",
      "    def formula(menage, period):\n",
      "        return menage('tva', period)\n",
      "\n",
      "\n",
      "nombre_de_parts\n",
      "    def formula(individu, period, parameters):\n",
      "        nombre_de_parts_par_enfant = parameters(period).nombre_de_parts.par_enfant\n",
      "        limite_nombre_de_parts = parameters(period).nombre_de_parts.limite_max\n",
      "        repartition_marie_conjoint = parameters(period).nombre_de_parts.repartition_marie_conjoint\n",
      "        veuf_avec_enfant = parameters(period).nombre_de_parts.veuf_avec_enfant\n",
      "\n",
      "        est_marie = individu('est_marie', period)\n",
      "        est_veuf = individu('est_veuf', period)\n",
      "        nombre_enfants = individu('nombre_enfants', period)\n",
      "        parts_enfant_veuf = est_veuf * veuf_avec_enfant * min_(1, nombre_enfants)\n",
      "\n",
      "        nombre_de_parts_enfants = nombre_enfants * nombre_de_parts_par_enfant + parts_enfant_veuf\n",
      "        conjoint_a_des_revenus = individu('conjoint_a_des_revenus', period)\n",
      "        nombre_de_parts_conjoint = est_marie * repartition_marie_conjoint * (1 + not_(conjoint_a_des_revenus))\n",
      "\n",
      "        nombre_de_parts = 1 + nombre_de_parts_conjoint + nombre_de_parts_enfants\n",
      "\n",
      "        return min_(limite_nombre_de_parts, nombre_de_parts)\n",
      "\n",
      "\n",
      "nombre_enfants\n",
      "\n",
      "pension_retraite\n",
      "\n",
      "person_weight\n",
      "\n",
      "reduction_impots_pour_charge_famille\n",
      "    def formula(individu, period, legislation):\n",
      "        impot_avant_reduction_famille = individu('impot_avant_reduction_famille', period)\n",
      "\n",
      "        nombre_de_parts = individu('nombre_de_parts', period)\n",
      "        reductions_pour_charge_de_famille = legislation(period).prelevements_obligatoires.impots_directs.reductions_pour_charge_de_famille\n",
      "\n",
      "        taux = (nombre_de_parts == 1) * reductions_pour_charge_de_famille.taux_1 + \\\n",
      "            (nombre_de_parts == 1.5) * reductions_pour_charge_de_famille.taux_2 + \\\n",
      "            (nombre_de_parts == 2) * reductions_pour_charge_de_famille.taux_3 + \\\n",
      "            (nombre_de_parts == 2.5) * reductions_pour_charge_de_famille.taux_4 + \\\n",
      "            (nombre_de_parts == 3) * reductions_pour_charge_de_famille.taux_5 + \\\n",
      "            (nombre_de_parts == 3.5) * reductions_pour_charge_de_famille.taux_6 + \\\n",
      "            (nombre_de_parts == 4) * reductions_pour_charge_de_famille.taux_7 + \\\n",
      "            (nombre_de_parts == 4.5) * reductions_pour_charge_de_famille.taux_8 + \\\n",
      "            (nombre_de_parts == 5) * reductions_pour_charge_de_famille.taux_9\n",
      "        minimum = (nombre_de_parts == 1) * reductions_pour_charge_de_famille.min_1 + \\\n",
      "            (nombre_de_parts == 1.5) * reductions_pour_charge_de_famille.min_2 + \\\n",
      "            (nombre_de_parts == 2) * reductions_pour_charge_de_famille.min_3 + \\\n",
      "            (nombre_de_parts == 2.5) * reductions_pour_charge_de_famille.min_4 + \\\n",
      "            (nombre_de_parts == 3) * reductions_pour_charge_de_famille.min_5 + \\\n",
      "            (nombre_de_parts == 3.5) * reductions_pour_charge_de_famille.min_6 + \\\n",
      "            (nombre_de_parts == 4) * reductions_pour_charge_de_famille.min_7 + \\\n",
      "            (nombre_de_parts == 4.5) * reductions_pour_charge_de_famille.min_8 + \\\n",
      "            (nombre_de_parts == 5) * reductions_pour_charge_de_famille.min_9\n",
      "        maximum = (nombre_de_parts == 1) * reductions_pour_charge_de_famille.max_1 + \\\n",
      "            (nombre_de_parts == 1.5) * reductions_pour_charge_de_famille.max_2 + \\\n",
      "            (nombre_de_parts == 2) * reductions_pour_charge_de_famille.max_3 + \\\n",
      "            (nombre_de_parts == 2.5) * reductions_pour_charge_de_famille.max_4 + \\\n",
      "            (nombre_de_parts == 3) * reductions_pour_charge_de_famille.max_5 + \\\n",
      "            (nombre_de_parts == 3.5) * reductions_pour_charge_de_famille.max_6 + \\\n",
      "            (nombre_de_parts == 4) * reductions_pour_charge_de_famille.max_7 + \\\n",
      "            (nombre_de_parts == 4.5) * reductions_pour_charge_de_famille.max_8 + \\\n",
      "            (nombre_de_parts == 5) * reductions_pour_charge_de_famille.max_9\n",
      "\n",
      "        reduction_impot = clip(impot_avant_reduction_famille * taux, a_min = minimum, a_max = maximum)\n",
      "        return reduction_impot\n",
      "\n",
      "\n",
      "salaire\n",
      "\n",
      "statut_marital\n",
      "\n"
     ]
    }
   ],
   "source": [
    "import inspect\n",
    "for name, variable in sorted(tax_benefit_system.variables.items()):\n",
    "    print(name)\n",
    "    if not variable.is_input_variable():\n",
    "        formula = variable.get_formula('2017')\n",
    "        source_code = inspect.getsourcelines(formula)[0]\n",
    "        print(''.join(source_code))\n",
    "    print('')"
   ]
  },
  {
   "cell_type": "markdown",
   "metadata": {
    "slideshow": {
     "slide_type": "slide"
    }
   },
   "source": [
    "### Parameters"
   ]
  },
  {
   "cell_type": "code",
   "execution_count": 9,
   "metadata": {
    "slideshow": {
     "slide_type": "subslide"
    }
   },
   "outputs": [
    {
     "name": "stdout",
     "output_type": "stream",
     "text": [
      "nombre_de_parts:\n",
      "  limite_max:\n",
      "    2013-01-01: 5\n",
      "  par_enfant:\n",
      "    2013-01-01: 0.5\n",
      "  repartition_marie_conjoint:\n",
      "    2013-01-01: 0.5\n",
      "  veuf_avec_enfant:\n",
      "    2013-01-01: 0.5\n",
      "prelevements_obligatoires:\n",
      "  impots_directs:\n",
      "    bareme_impot_progressif:\n",
      "      brackets:\n",
      "        - rate:\n",
      "            2013-01-01: 0.0\n",
      "          threshold:\n",
      "            2013-01-01: 0.0\n",
      "        - rate:\n",
      "            2013-01-01: 0.2\n",
      "          threshold:\n",
      "            2013-01-01: 630000.0\n",
      "        - rate:\n",
      "            2013-01-01: 0.3\n",
      "          threshold:\n",
      "            2013-01-01: 1500000.0\n",
      "        - rate:\n",
      "            2013-01-01: 0.35\n",
      "          threshold:\n",
      "            2013-01-01: 4000000.0\n",
      "        - rate:\n",
      "            2013-01-01: 0.37\n",
      "          threshold:\n",
      "            2013-01-01: 8000000.0\n",
      "        - rate:\n",
      "            2013-01-01: 0.4\n",
      "          threshold:\n",
      "            2013-01-01: 13500000.0\n",
      "    reductions_pour_charge_de_famille:\n",
      "      max_1:\n",
      "        2013-01-01: 0.0\n",
      "      max_2:\n",
      "        2013-01-01: 300000.0\n",
      "      max_3:\n",
      "        2013-01-01: 650000.0\n",
      "      max_4:\n",
      "        2013-01-01: 1100000.0\n",
      "      max_5:\n",
      "        2013-01-01: 1650000.0\n",
      "      max_6:\n",
      "        2013-01-01: 2030000.0\n",
      "      max_7:\n",
      "        2013-01-01: 2490000.0\n",
      "      max_8:\n",
      "        2013-01-01: 2755000.0\n",
      "      max_9:\n",
      "        2013-01-01: 3180000.0\n",
      "      min_1:\n",
      "        2013-01-01: 0.0\n",
      "      min_2:\n",
      "        2013-01-01: 100000.0\n",
      "      min_3:\n",
      "        2013-01-01: 200000.0\n",
      "      min_4:\n",
      "        2013-01-01: 300000.0\n",
      "      min_5:\n",
      "        2013-01-01: 400000.0\n",
      "      min_6:\n",
      "        2013-01-01: 500000.0\n",
      "      min_7:\n",
      "        2013-01-01: 600000.0\n",
      "      min_8:\n",
      "        2013-01-01: 700000.0\n",
      "      min_9:\n",
      "        2013-01-01: 800000.0\n",
      "      taux_1:\n",
      "        2013-01-01: 0.0\n",
      "      taux_2:\n",
      "        2013-01-01: 0.1\n",
      "      taux_3:\n",
      "        2013-01-01: 0.15\n",
      "      taux_4:\n",
      "        2013-01-01: 0.2\n",
      "      taux_5:\n",
      "        2013-01-01: 0.25\n",
      "      taux_6:\n",
      "        2013-01-01: 0.3\n",
      "      taux_7:\n",
      "        2013-01-01: 0.35\n",
      "      taux_8:\n",
      "        2013-01-01: 0.4\n",
      "      taux_9:\n",
      "        2013-01-01: 0.45\n",
      "  impots_indirects:\n",
      "    droits_douane:\n",
      "      biens_specifiques:\n",
      "        2007-01-01: 0.35\n",
      "      consommation_finale:\n",
      "        2007-01-01: 0.2\n",
      "      consommation_intermediaire:\n",
      "        2007-01-01: 0.1\n",
      "      equipements:\n",
      "        2007-01-01: 0.05\n",
      "      exonere:\n",
      "        2007-01-01: 0\n",
      "      prelevement_communautaire_de_solidarite:\n",
      "        2007-01-01: 0.01\n",
      "      redevance_statistique:\n",
      "        2007-01-01: 0.01\n",
      "    tva:\n",
      "      taux_normal:\n",
      "        2007-01-01: 0.18\n",
      "      taux_reduit:\n",
      "        2007-01-01: 0.1\n"
     ]
    }
   ],
   "source": [
    "print(tax_benefit_system.parameters)"
   ]
  },
  {
   "cell_type": "code",
   "execution_count": 10,
   "metadata": {
    "slideshow": {
     "slide_type": "subslide"
    }
   },
   "outputs": [],
   "source": [
    "parameters = tax_benefit_system.parameters(2017)"
   ]
  },
  {
   "cell_type": "code",
   "execution_count": 11,
   "metadata": {
    "slideshow": {
     "slide_type": "fragment"
    }
   },
   "outputs": [
    {
     "data": {
      "text/plain": [
       "  - threshold: 0.0\n",
       "    rate: 0.0\n",
       "  - threshold: 630000.0\n",
       "    rate: 0.2\n",
       "  - threshold: 1500000.0\n",
       "    rate: 0.3\n",
       "  - threshold: 4000000.0\n",
       "    rate: 0.35\n",
       "  - threshold: 8000000.0\n",
       "    rate: 0.37\n",
       "  - threshold: 13500000.0\n",
       "    rate: 0.4"
      ]
     },
     "execution_count": 11,
     "metadata": {},
     "output_type": "execute_result"
    }
   ],
   "source": [
    "parameters.prelevements_obligatoires.impots_directs.bareme_impot_progressif"
   ]
  },
  {
   "cell_type": "markdown",
   "metadata": {
    "slideshow": {
     "slide_type": "slide"
    }
   },
   "source": [
    "## A simple test case scenario"
   ]
  },
  {
   "cell_type": "markdown",
   "metadata": {
    "slideshow": {
     "slide_type": "subslide"
    }
   },
   "source": [
    "### Basics"
   ]
  },
  {
   "cell_type": "code",
   "execution_count": 12,
   "metadata": {
    "slideshow": {
     "slide_type": "fragment"
    }
   },
   "outputs": [],
   "source": [
    "scenario = tax_benefit_system.new_scenario()"
   ]
  },
  {
   "cell_type": "code",
   "execution_count": 13,
   "metadata": {
    "slideshow": {
     "slide_type": "fragment"
    }
   },
   "outputs": [
    {
     "data": {
      "text/plain": [
       "<openfisca_core.taxbenefitsystems.tax_benefit_system.TaxBenefitSystem.new_scenario.<locals>.ScenarioAdapter at 0x7fabcf33d1f0>"
      ]
     },
     "execution_count": 13,
     "metadata": {},
     "output_type": "execute_result"
    }
   ],
   "source": [
    "init_single_entity(\n",
    "    scenario,\n",
    "    parent1 = {\n",
    "        'salaire': 2800000,\n",
    "        'est_marie': True,\n",
    "        'conjoint_a_des_revenus': False,\n",
    "        'nombre_enfants': 1,\n",
    "        },\n",
    "    period = '2017',\n",
    "    )"
   ]
  },
  {
   "cell_type": "code",
   "execution_count": 14,
   "metadata": {
    "slideshow": {
     "slide_type": "fragment"
    }
   },
   "outputs": [],
   "source": [
    "simulation = scenario.new_simulation()"
   ]
  },
  {
   "cell_type": "code",
   "execution_count": 15,
   "metadata": {
    "slideshow": {
     "slide_type": "fragment"
    }
   },
   "outputs": [
    {
     "data": {
      "text/plain": [
       "array([2800000.], dtype=float32)"
      ]
     },
     "execution_count": 15,
     "metadata": {},
     "output_type": "execute_result"
    }
   ],
   "source": [
    "simulation.calculate('salaire', period = '2017')"
   ]
  },
  {
   "cell_type": "code",
   "execution_count": 16,
   "metadata": {
    "slideshow": {
     "slide_type": "fragment"
    }
   },
   "outputs": [
    {
     "data": {
      "text/plain": [
       "array([11700.], dtype=float32)"
      ]
     },
     "execution_count": 16,
     "metadata": {},
     "output_type": "execute_result"
    }
   ],
   "source": [
    "simulation.calculate('impot_revenus', period = '2017')"
   ]
  },
  {
   "cell_type": "markdown",
   "metadata": {
    "slideshow": {
     "slide_type": "subslide"
    }
   },
   "source": [
    "### Application: a simple function to compute the tax gain for having a child"
   ]
  },
  {
   "cell_type": "code",
   "execution_count": 17,
   "metadata": {
    "slideshow": {
     "slide_type": "fragment"
    }
   },
   "outputs": [],
   "source": [
    "def tax_gain(salaire = 0, est_marie = False, conjoint_a_des_revenus = False, nombre_enfants = 0):\n",
    "    period = '2017'\n",
    "    parent1_before = {\n",
    "        'salaire': salaire,\n",
    "        'est_marie': est_marie,\n",
    "        'conjoint_a_des_revenus': conjoint_a_des_revenus,\n",
    "        'nombre_enfants': nombre_enfants,\n",
    "        }\n",
    "    simulation_before = init_single_entity(\n",
    "        tax_benefit_system.new_scenario(),\n",
    "        parent1 = parent1_before,\n",
    "        period = period,\n",
    "        ).new_simulation()\n",
    "    parent1_after = parent1_before.copy()\n",
    "    parent1_after['nombre_enfants'] += 1\n",
    "    simulation_after = init_single_entity(\n",
    "        tax_benefit_system.new_scenario(),\n",
    "        parent1 = parent1_after,\n",
    "        period = period,\n",
    "        ).new_simulation()\n",
    "    difference = simulation_after.calculate('impot_revenus', period) - simulation_before.calculate('impot_revenus', period)\n",
    "    return -difference\n"
   ]
  },
  {
   "cell_type": "code",
   "execution_count": 18,
   "metadata": {
    "slideshow": {
     "slide_type": "fragment"
    }
   },
   "outputs": [
    {
     "data": {
      "text/plain": [
       "array([100000.], dtype=float32)"
      ]
     },
     "execution_count": 18,
     "metadata": {},
     "output_type": "execute_result"
    }
   ],
   "source": [
    "tax_gain(salaire = 2800000)"
   ]
  },
  {
   "cell_type": "code",
   "execution_count": 19,
   "metadata": {
    "slideshow": {
     "slide_type": "fragment"
    }
   },
   "outputs": [
    {
     "data": {
      "text/plain": [
       "array([100000.], dtype=float32)"
      ]
     },
     "execution_count": 19,
     "metadata": {},
     "output_type": "execute_result"
    }
   ],
   "source": [
    "tax_gain(salaire = 2800000, nombre_enfants = 2)"
   ]
  },
  {
   "cell_type": "code",
   "execution_count": 20,
   "metadata": {
    "slideshow": {
     "slide_type": "fragment"
    }
   },
   "outputs": [
    {
     "data": {
      "text/plain": [
       "[array([100000.], dtype=float32),\n",
       " array([100000.], dtype=float32),\n",
       " array([100000.], dtype=float32),\n",
       " array([11700.], dtype=float32),\n",
       " array([-0.], dtype=float32),\n",
       " array([-0.], dtype=float32),\n",
       " array([-0.], dtype=float32),\n",
       " array([-0.], dtype=float32)]"
      ]
     },
     "execution_count": 20,
     "metadata": {},
     "output_type": "execute_result"
    }
   ],
   "source": [
    "[tax_gain(salaire = 2800000, nombre_enfants = n) for n in range(8)]"
   ]
  },
  {
   "cell_type": "code",
   "execution_count": null,
   "metadata": {},
   "outputs": [],
   "source": [
    "for n in range(8):\n",
    "    print(\"having \", n, \" children gives a tax gain of \", tax_gain(salaire = 2800000, nombre_enfants = n) )"
   ]
  },
  {
   "cell_type": "markdown",
   "metadata": {
    "slideshow": {
     "slide_type": "slide"
    }
   },
   "source": [
    "## More complex scenario: varying revenue "
   ]
  },
  {
   "cell_type": "markdown",
   "metadata": {
    "slideshow": {
     "slide_type": "subslide"
    }
   },
   "source": [
    "### Basics"
   ]
  },
  {
   "cell_type": "code",
   "execution_count": 21,
   "metadata": {
    "slideshow": {
     "slide_type": "fragment"
    }
   },
   "outputs": [],
   "source": [
    "year = 2017\n",
    "simulation = init_single_entity(\n",
    "    tax_benefit_system.new_scenario(),\n",
    "    parent1 = {\n",
    "        'est_marie': True,\n",
    "        'conjoint_a_des_revenus': False,\n",
    "        'nombre_enfants': 0,\n",
    "        },\n",
    "    period = year,\n",
    "    axes = [[\n",
    "        {\n",
    "            'count': 100,\n",
    "            'min': 0,\n",
    "            'max': 15e6,\n",
    "            'name': 'salaire',\n",
    "            }\n",
    "        ]],\n",
    "    ).new_simulation()\n",
    "\n",
    "\n",
    "salaire = simulation.calculate('salaire', period = year)\n",
    "reduction_impots_pour_charge_famille = simulation.calculate('reduction_impots_pour_charge_famille', period = year)\n",
    "impot_avant_reduction_famille = simulation.calculate('impot_avant_reduction_famille', period = year)\n",
    "impot_revenus = simulation.calculate('impot_revenus', period = year)"
   ]
  },
  {
   "cell_type": "code",
   "execution_count": 22,
   "metadata": {
    "slideshow": {
     "slide_type": "subslide"
    }
   },
   "outputs": [
    {
     "data": {
      "text/plain": [
       "Text(0.5, 1.0, '0 enfants')"
      ]
     },
     "execution_count": 22,
     "metadata": {},
     "output_type": "execute_result"
    },
    {
     "data": {
      "image/png": "[encoded data removed]",
      "text/plain": [
       "<Figure size 864x576 with 1 Axes>"
      ]
     },
     "metadata": {
      "needs_background": "light"
     },
     "output_type": "display_data"
    }
   ],
   "source": [
    "plt.figure(figsize=(12, 8))\n",
    "plt.plot(salaire, impot_avant_reduction_famille, label='avant réduction famille')\n",
    "plt.plot(salaire, reduction_impots_pour_charge_famille, label='réduction famille')\n",
    "plt.plot(salaire, impot_revenus, label='impôt revenus')\n",
    "plt.xlabel('Salaire')\n",
    "plt.legend()\n",
    "plt.title('0 enfants', fontsize=20)"
   ]
  },
  {
   "cell_type": "markdown",
   "metadata": {
    "slideshow": {
     "slide_type": "subslide"
    }
   },
   "source": [
    "### Application: by how much the tax gain for having a child varies with revenue"
   ]
  },
  {
   "cell_type": "code",
   "execution_count": 23,
   "metadata": {
    "slideshow": {
     "slide_type": "fragment"
    }
   },
   "outputs": [],
   "source": [
    "def tax_gain_varying_revenue(max_salaire = 0, est_marie = False, conjoint_a_des_revenus = False,\n",
    "                             nombre_enfants = 0, count = 100):\n",
    "    period = '2017'\n",
    "    parent1_before = {\n",
    "        'est_marie': est_marie,\n",
    "        'conjoint_a_des_revenus': conjoint_a_des_revenus,\n",
    "        'nombre_enfants': nombre_enfants,\n",
    "        }\n",
    "    axes = [[\n",
    "            {\n",
    "                'count': count,\n",
    "                'min': 0,\n",
    "                'max': max_salaire,\n",
    "                'name': 'salaire',\n",
    "                }\n",
    "            ]]\n",
    "    simulation_before = init_single_entity(\n",
    "        tax_benefit_system.new_scenario(),\n",
    "        parent1 = parent1_before,\n",
    "        axes = axes,\n",
    "        period = period,\n",
    "        ).new_simulation()\n",
    "    parent1_after = parent1_before.copy()\n",
    "    parent1_after['nombre_enfants'] += 1\n",
    "    simulation_after = init_single_entity(\n",
    "        tax_benefit_system.new_scenario(),\n",
    "        parent1 = parent1_after,\n",
    "        axes = axes,\n",
    "        period = period,\n",
    "        ).new_simulation()\n",
    "    difference = simulation_after.calculate('impot_revenus', period) - simulation_before.calculate('impot_revenus', period)\n",
    "    salaire = simulation_after.calculate('salaire', period)\n",
    "    return salaire, -difference\n"
   ]
  },
  {
   "cell_type": "code",
   "execution_count": 24,
   "metadata": {
    "slideshow": {
     "slide_type": "subslide"
    }
   },
   "outputs": [
    {
     "data": {
      "text/plain": [
       "array([    -0.,     -0.,     -0.,     -0.,     -0.,     -0.,     -0.,\n",
       "           -0.,     -0.,     -0.,     -0.,     -0.,     -0.,     -0.,\n",
       "           -0.,     -0.,     -0.,     -0.,     -0.,     -0.,     -0.,\n",
       "           -0.,     -0.,     -0.,     -0.,     -0.,     -0.,     -0.,\n",
       "           -0.,     -0.,     -0.,     -0.,     -0.,     -0.,     -0.,\n",
       "           -0.,     -0.,     -0.,     -0.,     -0.,     -0.,     -0.,\n",
       "           -0.,     -0.,     -0.,     -0.,     -0.,     -0.,     -0.,\n",
       "           -0.,     -0.,     -0.,     -0.,     -0.,     -0.,     -0.,\n",
       "           -0.,     -0.,     -0.,     -0.,     -0.,   2200.,   4200.,\n",
       "         6400.,   8400.,  10600.,  12600.,  14800.,  16800.,  19000.,\n",
       "        21000.,  23200.,  25200.,  27400.,  29400.,  31600.,  33600.,\n",
       "        35800.,  37800.,  40000.,  42000.,  44200.,  46200.,  48400.,\n",
       "        50400.,  52600.,  54600.,  56800.,  58800.,  61000.,  63000.,\n",
       "        65200.,  67200.,  69400.,  71400.,  73600.,  75800.,  77800.,\n",
       "        80000.,  82000.,  84200.,  86200.,  88400.,  90400.,  92600.,\n",
       "        94600.,  96800.,  98800., 100000., 100000., 100000., 100000.,\n",
       "       100000., 100000., 100000., 100000., 100000., 100000., 100000.,\n",
       "       100000., 100000., 100000., 100000., 100000., 100000., 100000.,\n",
       "       100000., 100000., 100000., 100000., 100000., 100000., 100000.,\n",
       "       100000., 100000., 100000., 100000., 100000., 100000., 100000.,\n",
       "       100000., 100000., 100000., 100000., 100000., 100000., 100000.,\n",
       "       100000., 100000., 100000., 100000., 100000., 100000., 100000.,\n",
       "       100000., 100000., 100000., 100000., 100000., 100000., 100000.,\n",
       "       100000., 100000., 100000., 100000., 100000., 100000., 100000.,\n",
       "       100000., 100000., 100000., 100000., 100000., 100000., 100000.,\n",
       "       100000., 100000., 100000., 100000., 100000., 100000., 100000.,\n",
       "       100000., 100000., 100000., 100000., 100000., 100000., 100000.,\n",
       "       100000., 100000., 100000., 100000., 100000., 100000., 100000.,\n",
       "       100000., 100000., 100000., 100000., 100000., 100000., 100000.,\n",
       "       100000., 100000., 100000., 100000., 100000., 100000., 100000.,\n",
       "       100000., 100000., 100000., 100000., 100000., 100000., 100000.,\n",
       "       100000., 100000., 100000., 100000., 100000., 100000., 100000.,\n",
       "       100000., 100000., 100000., 100000., 100000., 100000., 100000.,\n",
       "       100000., 100000., 100000., 100000., 100000., 100000., 100000.,\n",
       "       100000., 100000., 100000., 100000., 100000., 100000., 100000.,\n",
       "       100000., 100000., 100000., 100000., 100000., 100000., 100000.,\n",
       "       100000., 100000., 100000., 100000., 100000., 100000., 100000.,\n",
       "       100000., 100000., 100000., 100000., 100000., 100000., 100000.,\n",
       "       100000., 100000., 100000., 100000., 100000., 100000., 100000.,\n",
       "       100000., 100000., 100000., 100000., 100000., 100000., 100000.,\n",
       "       100000., 100000., 100000., 100000., 100000., 100000., 100000.,\n",
       "       100000., 100000., 100000., 100000., 100000., 100000., 100000.,\n",
       "       100000., 100000., 100000., 100000., 100000., 100000., 100000.,\n",
       "       100000., 100000., 100000., 100000., 100000., 100000., 100000.,\n",
       "       100000., 100000., 100000., 100000., 100000., 100000., 100000.,\n",
       "       100000., 100000., 100000., 100000., 100000., 100000., 100000.,\n",
       "       100000., 100000., 100000., 100000., 100000., 100000., 100000.,\n",
       "       100000., 100000., 100000., 100000., 100000., 100000., 100000.,\n",
       "       100000., 100000., 100000., 100000., 100000., 100100., 100625.,\n",
       "       101150., 101675., 102200., 102725., 103250., 103775., 104300.,\n",
       "       104825., 105350., 105875., 106400., 106925., 107450., 107975.,\n",
       "       108500., 109025., 109550., 110075., 110600., 111125., 111650.,\n",
       "       112175., 112700., 113225., 113750., 114275., 114800., 115325.,\n",
       "       115850., 116375., 116900., 117425., 117950., 118475., 119000.,\n",
       "       119525., 120050., 120575., 121100., 121625., 122150., 122675.,\n",
       "       123200., 123725., 124250., 124775., 125300., 125825., 126350.,\n",
       "       126875., 127400., 127925., 128450., 128975., 129500., 130025.,\n",
       "       130550., 131110., 131635., 132160., 132685., 133210., 133735.,\n",
       "       134260., 134785., 135310., 135835., 136360., 136885., 137410.,\n",
       "       137935., 138460., 138985., 139510., 140035., 140560., 141085.,\n",
       "       141610., 142135., 142660., 143185., 143710., 144235., 144760.,\n",
       "       145285., 145810., 146335., 146860., 147385., 147910., 148435.,\n",
       "       148960., 149485., 150010., 150535., 151060., 151585., 152110.,\n",
       "       152635., 153160., 153685., 154210., 154735., 155260., 155785.,\n",
       "       156310., 156835., 157360., 157885., 158410., 158935., 159460.,\n",
       "       159985., 160510., 161035., 161560., 162085., 162610., 163135.,\n",
       "       163660., 164185., 164710., 165235., 165760., 166320., 166845.,\n",
       "       167370., 167895., 168420., 168945., 169470., 169995., 170520.,\n",
       "       171045., 171570., 172095., 172620., 173145., 173670., 174195.,\n",
       "       174720., 175245., 175770., 176295., 176820., 177345., 177870.,\n",
       "       178395., 178920., 179445., 179970., 180495., 181020., 181545.,\n",
       "       182070., 182595., 183120., 183645., 184170., 184695., 185220.,\n",
       "       185745., 186270., 186795., 187320., 187845., 188370., 188895.,\n",
       "       189420., 189945., 190470., 190995., 191520., 192045., 192570.,\n",
       "       193095., 193620., 194145., 194670., 195195., 195720., 196245.,\n",
       "       196770., 197295., 197820., 198345., 198870., 199395., 199920.,\n",
       "       200445., 201005., 201530., 202055., 202580., 203105., 203630.,\n",
       "       204155., 204680., 205205., 205730., 206255., 206780., 207305.,\n",
       "       207830., 208355., 208880., 209405., 209930., 210455., 210980.,\n",
       "       211505., 212030., 212555., 213080., 213605., 214130., 214655.,\n",
       "       215180., 215705., 216230., 216755., 217280., 217805., 218330.,\n",
       "       218855., 219380., 219905., 220430., 220955., 221480., 222005.,\n",
       "       222530., 223055., 223580., 224105., 224630., 225155., 225680.,\n",
       "       226205., 226730., 227255., 227780., 228305., 228830., 229355.,\n",
       "       229880., 230405., 230930., 231455., 231980., 232511., 233066.,\n",
       "       233621., 234176., 234731., 235286., 235841., 236433., 236988.,\n",
       "       237543., 238098., 238653., 239208., 239763., 240318., 240873.,\n",
       "       241428., 241983., 242538., 243093., 243648., 244203., 244758.,\n",
       "       245313., 245868., 246423., 246978., 247533., 248088., 248643.,\n",
       "       249198., 249753., 250308., 250863., 251418., 251973., 252528.,\n",
       "       253083., 253638., 254193., 254748., 255303., 255858., 256413.,\n",
       "       256968., 257523., 258078., 258633., 259188., 259743., 260298.,\n",
       "       260853., 261408., 261963., 262518., 263073., 263628., 264183.,\n",
       "       264738., 265293., 265848., 266403., 266958., 267513., 268068.,\n",
       "       268623., 269178., 269733., 270288., 270843., 271398., 271953.,\n",
       "       272508., 273100., 273655., 274210., 274765., 275320., 275875.,\n",
       "       276430., 276985., 277540., 278095., 278650., 279205., 279760.,\n",
       "       280315., 280870., 281425., 281980., 282535., 283090., 283645.,\n",
       "       284200., 284755., 285310., 285865., 286420., 286975., 287530.,\n",
       "       288085., 288640., 289195., 289750., 290305., 290860., 291415.,\n",
       "       291970., 292525., 293080., 293635., 294190., 294745., 295300.,\n",
       "       295855., 296410., 296965., 297520., 298075., 298630., 299185.,\n",
       "       299740., 300000., 300000., 300000., 300000., 300000., 300000.,\n",
       "       300000., 300000., 300000., 300000., 300000., 300000., 300000.,\n",
       "       300000., 300000., 300000., 300000., 300000., 300000., 300000.,\n",
       "       300000., 300000., 300000., 300000., 300000., 300000., 300000.,\n",
       "       300000., 300000., 300000., 300000., 300000., 300000., 300000.,\n",
       "       300000., 300000., 300000., 300000., 300000., 300000., 300000.,\n",
       "       300000., 300000., 300000., 300000., 300000., 300000., 300000.,\n",
       "       300000., 300000., 300000., 300000., 300000., 300000., 300000.,\n",
       "       300000., 300000., 300000., 300000., 300000., 300000., 300000.,\n",
       "       300000., 300000., 300000., 300000., 300000., 300000., 300000.,\n",
       "       300000., 300000., 300000., 300000., 300000., 300000., 300000.,\n",
       "       300000., 300000., 300000., 300000., 300000., 300000., 300000.,\n",
       "       300000., 300000., 300000., 300000., 300000., 300000., 300000.,\n",
       "       300000., 300000., 300000., 300000., 300000., 300000., 300000.,\n",
       "       300000., 300000., 300000., 300000., 300000., 300000., 300000.,\n",
       "       300000., 300000., 300000., 300000., 300000., 300000., 300000.,\n",
       "       300000., 300000., 300000., 300000., 300000., 300000., 300000.,\n",
       "       300000., 300000., 300000., 300000., 300000., 300000., 300000.,\n",
       "       300000., 300000., 300000., 300000., 300000., 300000., 300000.,\n",
       "       300000., 300000., 300000., 300000., 300000., 300000., 300000.,\n",
       "       300000., 300000., 300000., 300000., 300000., 300000., 300000.,\n",
       "       300000., 300000., 300000., 300000., 300000., 300000., 300000.,\n",
       "       300000., 300000., 300000., 300000., 300000., 300000., 300000.,\n",
       "       300000., 300000., 300000., 300000., 300000., 300000., 300000.,\n",
       "       300000., 300000., 300000., 300000., 300000., 300000., 300000.,\n",
       "       300000., 300000., 300000., 300000., 300000., 300000., 300000.,\n",
       "       300000., 300000., 300000., 300000., 300000., 300000., 300000.,\n",
       "       300000., 300000., 300000., 300000., 300000., 300000., 300000.,\n",
       "       300000., 300000., 300000., 300000., 300000., 300000., 300000.,\n",
       "       300000., 300000., 300000., 300000., 300000., 300000., 300000.,\n",
       "       300000., 300000., 300000., 300000., 300000., 300000., 300000.,\n",
       "       300000., 300000., 300000., 300000., 300000., 300000., 300000.,\n",
       "       300000., 300000., 300000., 300000., 300000., 300000., 300000.,\n",
       "       300000., 300000., 300000., 300000., 300000., 300000., 300000.,\n",
       "       300000., 300000., 300000., 300000., 300000., 300000., 300000.,\n",
       "       300000., 300000., 300000., 300000., 300000., 300000., 300000.,\n",
       "       300000., 300000., 300000., 300000., 300000., 300000., 300000.,\n",
       "       300000., 300000., 300000., 300000., 300000., 300000., 300000.,\n",
       "       300000., 300000., 300000., 300000., 300000., 300000., 300000.,\n",
       "       300000., 300000., 300000., 300000., 300000., 300000., 300000.,\n",
       "       300000., 300000., 300000., 300000., 300000., 300000.],\n",
       "      dtype=float32)"
      ]
     },
     "execution_count": 24,
     "metadata": {},
     "output_type": "execute_result"
    }
   ],
   "source": [
    "salaire, gain = tax_gain_varying_revenue(max_salaire = 15e6, count = 1000)\n",
    "gain"
   ]
  },
  {
   "cell_type": "code",
   "execution_count": 25,
   "metadata": {
    "slideshow": {
     "slide_type": "subslide"
    }
   },
   "outputs": [
    {
     "data": {
      "text/plain": [
       "Text(0.5, 1.0, 'Gain fiscal au 1er enfant')"
      ]
     },
     "execution_count": 25,
     "metadata": {},
     "output_type": "execute_result"
    },
    {
     "data": {
      "image/png": "[encoded data removed]",
      "text/plain": [
       "<Figure size 864x576 with 1 Axes>"
      ]
     },
     "metadata": {
      "needs_background": "light"
     },
     "output_type": "display_data"
    }
   ],
   "source": [
    "plt.figure(figsize=(12, 8))\n",
    "plt.plot(salaire, gain, label='Gain fiscal')\n",
    "plt.xlabel('Salaire')\n",
    "plt.legend()\n",
    "plt.title('Gain fiscal au 1er enfant', fontsize=20)"
   ]
  },
  {
   "cell_type": "markdown",
   "metadata": {
    "slideshow": {
     "slide_type": "skip"
    }
   },
   "source": [
    "#### Exercice: Write a loop to plot the gain for several children"
   ]
  },
  {
   "cell_type": "code",
   "execution_count": 48,
   "metadata": {
    "slideshow": {
     "slide_type": "subslide"
    }
   },
   "outputs": [
    {
     "data": {
      "text/plain": [
       "Text(0.5, 1.0, \"Gain fiscal selon le rang de l'enfant\")"
      ]
     },
     "execution_count": 48,
     "metadata": {},
     "output_type": "execute_result"
    },
    {
     "data": {
      "image/png": "[encoded data removed]",
      "text/plain": [
       "<Figure size 864x576 with 1 Axes>"
      ]
     },
     "metadata": {
      "needs_background": "light"
     },
     "output_type": "display_data"
    }
   ],
   "source": [
    "plt.figure(figsize=(12, 8))\n",
    "for nombre_enfants in range(5):\n",
    "    salaire, gain = tax_gain_varying_revenue(max_salaire=15e6, nombre_enfants = nombre_enfants)\n",
    "    plt.plot(salaire, gain, label=f\"Enfant de rang {nombre_enfants}\")\n",
    "\n",
    "plt.xlabel('Salaire')\n",
    "plt.legend()\n",
    "plt.title(u\"Gain fiscal selon le rang de l'enfant\", fontsize=20)\n"
   ]
  }
 ],
 "metadata": {
  "celltoolbar": "Slideshow",
  "kernelspec": {
   "display_name": "Python 3 (ipykernel)",
   "language": "python",
   "name": "python3"
  },
  "language_info": {
   "codemirror_mode": {
    "name": "ipython",
    "version": 3
   },
   "file_extension": ".py",
   "mimetype": "text/x-python",
   "name": "python",
   "nbconvert_exporter": "python",
   "pygments_lexer": "ipython3",
   "version": "3.11.3"
  }
 },
 "nbformat": 4,
 "nbformat_minor": 4
}
