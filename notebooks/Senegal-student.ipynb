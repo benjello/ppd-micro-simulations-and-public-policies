{
 "cells": [
  {
   "cell_type": "markdown",
   "metadata": {},
   "source": [
    "# Exploring the senegalese tax-benefit-system with OpenFisca"
   ]
  },
  {
   "cell_type": "code",
   "execution_count": 1,
   "metadata": {},
   "outputs": [
    {
     "name": "stdout",
     "output_type": "stream",
     "text": [
      "Requirement already satisfied: openfisca-senegal[survey] in c:\\users\\sylva\\anaconda3\\envs\\ppd\\lib\\site-packages (0.10.3)\n",
      "Requirement already satisfied: OpenFisca-Core<36.0,>=35.0.1 in c:\\users\\sylva\\anaconda3\\envs\\ppd\\lib\\site-packages (from openfisca-senegal[survey]) (35.12.0)\n",
      "Requirement already satisfied: OpenFisca-Survey-Manager<=1.0,>=0.38.1 in c:\\users\\sylva\\anaconda3\\envs\\ppd\\lib\\site-packages (from openfisca-senegal[survey]) (0.47.2)\n",
      "Requirement already satisfied: scipy in c:\\users\\sylva\\anaconda3\\envs\\ppd\\lib\\site-packages (from openfisca-senegal[survey]) (1.10.1)\n",
      "Requirement already satisfied: dpath<3.0.0,>=1.5.0 in c:\\users\\sylva\\anaconda3\\envs\\ppd\\lib\\site-packages (from OpenFisca-Core<36.0,>=35.0.1->openfisca-senegal[survey]) (2.1.6)\n",
      "Requirement already satisfied: nptyping==1.4.4 in c:\\users\\sylva\\anaconda3\\envs\\ppd\\lib\\site-packages (from OpenFisca-Core<36.0,>=35.0.1->openfisca-senegal[survey]) (1.4.4)\n",
      "Requirement already satisfied: numexpr<=3.0,>=2.7.0 in c:\\users\\sylva\\anaconda3\\envs\\ppd\\lib\\site-packages (from OpenFisca-Core<36.0,>=35.0.1->openfisca-senegal[survey]) (2.8.8)\n",
      "Requirement already satisfied: numpy<1.21,>=1.11 in c:\\users\\sylva\\anaconda3\\envs\\ppd\\lib\\site-packages (from OpenFisca-Core<36.0,>=35.0.1->openfisca-senegal[survey]) (1.20.3)\n",
      "Requirement already satisfied: psutil<6.0.0,>=5.4.7 in c:\\users\\sylva\\anaconda3\\envs\\ppd\\lib\\site-packages (from OpenFisca-Core<36.0,>=35.0.1->openfisca-senegal[survey]) (5.9.0)\n",
      "Requirement already satisfied: pytest<6.0.0,>=4.4.1 in c:\\users\\sylva\\anaconda3\\envs\\ppd\\lib\\site-packages (from OpenFisca-Core<36.0,>=35.0.1->openfisca-senegal[survey]) (5.4.3)\n",
      "Requirement already satisfied: PyYAML>=3.10 in c:\\users\\sylva\\anaconda3\\envs\\ppd\\lib\\site-packages (from OpenFisca-Core<36.0,>=35.0.1->openfisca-senegal[survey]) (6.0.1)\n",
      "Requirement already satisfied: sortedcontainers==2.2.2 in c:\\users\\sylva\\anaconda3\\envs\\ppd\\lib\\site-packages (from OpenFisca-Core<36.0,>=35.0.1->openfisca-senegal[survey]) (2.2.2)\n",
      "Requirement already satisfied: typing-extensions<5.0.0,>=4.0.0 in c:\\users\\sylva\\anaconda3\\envs\\ppd\\lib\\site-packages (from OpenFisca-Core<36.0,>=35.0.1->openfisca-senegal[survey]) (4.7.1)\n",
      "Requirement already satisfied: typish>=1.7.0 in c:\\users\\sylva\\anaconda3\\envs\\ppd\\lib\\site-packages (from nptyping==1.4.4->OpenFisca-Core<36.0,>=35.0.1->openfisca-senegal[survey]) (1.9.3)\n",
      "Requirement already satisfied: chardet<5.0,>=4.0 in c:\\users\\sylva\\anaconda3\\envs\\ppd\\lib\\site-packages (from OpenFisca-Survey-Manager<=1.0,>=0.38.1->openfisca-senegal[survey]) (4.0.0)\n",
      "Requirement already satisfied: configparser in c:\\users\\sylva\\anaconda3\\envs\\ppd\\lib\\site-packages (from OpenFisca-Survey-Manager<=1.0,>=0.38.1->openfisca-senegal[survey]) (6.0.0)\n",
      "Requirement already satisfied: humanize in c:\\users\\sylva\\anaconda3\\envs\\ppd\\lib\\site-packages (from OpenFisca-Survey-Manager<=1.0,>=0.38.1->openfisca-senegal[survey]) (4.9.0)\n",
      "Requirement already satisfied: pandas>=0.22 in c:\\users\\sylva\\anaconda3\\envs\\ppd\\lib\\site-packages (from OpenFisca-Survey-Manager<=1.0,>=0.38.1->openfisca-senegal[survey]) (2.0.3)\n",
      "Requirement already satisfied: pyxdg in c:\\users\\sylva\\anaconda3\\envs\\ppd\\lib\\site-packages (from OpenFisca-Survey-Manager<=1.0,>=0.38.1->openfisca-senegal[survey]) (0.28)\n",
      "Requirement already satisfied: tables<4.0.0,>=3.4.4 in c:\\users\\sylva\\anaconda3\\envs\\ppd\\lib\\site-packages (from OpenFisca-Survey-Manager<=1.0,>=0.38.1->openfisca-senegal[survey]) (3.9.2)\n",
      "Requirement already satisfied: tabulate in c:\\users\\sylva\\anaconda3\\envs\\ppd\\lib\\site-packages (from OpenFisca-Survey-Manager<=1.0,>=0.38.1->openfisca-senegal[survey]) (0.9.0)\n",
      "Requirement already satisfied: weightedcalcs in c:\\users\\sylva\\anaconda3\\envs\\ppd\\lib\\site-packages (from OpenFisca-Survey-Manager<=1.0,>=0.38.1->openfisca-senegal[survey]) (0.1.2)\n",
      "Requirement already satisfied: wquantiles>=0.3 in c:\\users\\sylva\\anaconda3\\envs\\ppd\\lib\\site-packages (from OpenFisca-Survey-Manager<=1.0,>=0.38.1->openfisca-senegal[survey]) (0.6)\n",
      "Requirement already satisfied: python-dateutil>=2.8.2 in c:\\users\\sylva\\anaconda3\\envs\\ppd\\lib\\site-packages (from pandas>=0.22->OpenFisca-Survey-Manager<=1.0,>=0.38.1->openfisca-senegal[survey]) (2.8.2)\n",
      "Requirement already satisfied: pytz>=2020.1 in c:\\users\\sylva\\anaconda3\\envs\\ppd\\lib\\site-packages (from pandas>=0.22->OpenFisca-Survey-Manager<=1.0,>=0.38.1->openfisca-senegal[survey]) (2023.3.post1)\n",
      "Requirement already satisfied: tzdata>=2022.1 in c:\\users\\sylva\\anaconda3\\envs\\ppd\\lib\\site-packages (from pandas>=0.22->OpenFisca-Survey-Manager<=1.0,>=0.38.1->openfisca-senegal[survey]) (2023.4)\n",
      "Requirement already satisfied: py>=1.5.0 in c:\\users\\sylva\\anaconda3\\envs\\ppd\\lib\\site-packages (from pytest<6.0.0,>=4.4.1->OpenFisca-Core<36.0,>=35.0.1->openfisca-senegal[survey]) (1.11.0)\n",
      "Requirement already satisfied: packaging in c:\\users\\sylva\\anaconda3\\envs\\ppd\\lib\\site-packages (from pytest<6.0.0,>=4.4.1->OpenFisca-Core<36.0,>=35.0.1->openfisca-senegal[survey]) (23.1)\n",
      "Requirement already satisfied: attrs>=17.4.0 in c:\\users\\sylva\\anaconda3\\envs\\ppd\\lib\\site-packages (from pytest<6.0.0,>=4.4.1->OpenFisca-Core<36.0,>=35.0.1->openfisca-senegal[survey]) (23.1.0)\n",
      "Requirement already satisfied: more-itertools>=4.0.0 in c:\\users\\sylva\\anaconda3\\envs\\ppd\\lib\\site-packages (from pytest<6.0.0,>=4.4.1->OpenFisca-Core<36.0,>=35.0.1->openfisca-senegal[survey]) (10.1.0)\n",
      "Requirement already satisfied: pluggy<1.0,>=0.12 in c:\\users\\sylva\\anaconda3\\envs\\ppd\\lib\\site-packages (from pytest<6.0.0,>=4.4.1->OpenFisca-Core<36.0,>=35.0.1->openfisca-senegal[survey]) (0.13.1)\n",
      "Requirement already satisfied: wcwidth in c:\\users\\sylva\\anaconda3\\envs\\ppd\\lib\\site-packages (from pytest<6.0.0,>=4.4.1->OpenFisca-Core<36.0,>=35.0.1->openfisca-senegal[survey]) (0.2.5)\n",
      "Requirement already satisfied: atomicwrites>=1.0 in c:\\users\\sylva\\anaconda3\\envs\\ppd\\lib\\site-packages (from pytest<6.0.0,>=4.4.1->OpenFisca-Core<36.0,>=35.0.1->openfisca-senegal[survey]) (1.4.1)\n",
      "Requirement already satisfied: colorama in c:\\users\\sylva\\anaconda3\\envs\\ppd\\lib\\site-packages (from pytest<6.0.0,>=4.4.1->OpenFisca-Core<36.0,>=35.0.1->openfisca-senegal[survey]) (0.4.6)\n",
      "Requirement already satisfied: py-cpuinfo in c:\\users\\sylva\\anaconda3\\envs\\ppd\\lib\\site-packages (from tables<4.0.0,>=3.4.4->OpenFisca-Survey-Manager<=1.0,>=0.38.1->openfisca-senegal[survey]) (9.0.0)\n",
      "Requirement already satisfied: blosc2>=2.3.0 in c:\\users\\sylva\\anaconda3\\envs\\ppd\\lib\\site-packages (from tables<4.0.0,>=3.4.4->OpenFisca-Survey-Manager<=1.0,>=0.38.1->openfisca-senegal[survey]) (2.4.0)\n",
      "Requirement already satisfied: ndindex>=1.4 in c:\\users\\sylva\\anaconda3\\envs\\ppd\\lib\\site-packages (from blosc2>=2.3.0->tables<4.0.0,>=3.4.4->OpenFisca-Survey-Manager<=1.0,>=0.38.1->openfisca-senegal[survey]) (1.7)\n",
      "Requirement already satisfied: msgpack in c:\\users\\sylva\\anaconda3\\envs\\ppd\\lib\\site-packages (from blosc2>=2.3.0->tables<4.0.0,>=3.4.4->OpenFisca-Survey-Manager<=1.0,>=0.38.1->openfisca-senegal[survey]) (1.0.7)\n",
      "Requirement already satisfied: six>=1.5 in c:\\users\\sylva\\anaconda3\\envs\\ppd\\lib\\site-packages (from python-dateutil>=2.8.2->pandas>=0.22->OpenFisca-Survey-Manager<=1.0,>=0.38.1->openfisca-senegal[survey]) (1.16.0)\n",
      "Requirement already satisfied: matplotlib in c:\\users\\sylva\\anaconda3\\envs\\ppd\\lib\\site-packages (3.8.0)\n",
      "Requirement already satisfied: contourpy>=1.0.1 in c:\\users\\sylva\\anaconda3\\envs\\ppd\\lib\\site-packages (from matplotlib) (1.2.0)\n",
      "Requirement already satisfied: cycler>=0.10 in c:\\users\\sylva\\anaconda3\\envs\\ppd\\lib\\site-packages (from matplotlib) (0.11.0)\n",
      "Requirement already satisfied: fonttools>=4.22.0 in c:\\users\\sylva\\anaconda3\\envs\\ppd\\lib\\site-packages (from matplotlib) (4.25.0)\n",
      "Requirement already satisfied: kiwisolver>=1.0.1 in c:\\users\\sylva\\anaconda3\\envs\\ppd\\lib\\site-packages (from matplotlib) (1.4.4)\n",
      "Collecting numpy<2,>=1.21 (from matplotlib)\n",
      "  Using cached numpy-1.26.3-cp39-cp39-win_amd64.whl.metadata (61 kB)\n",
      "Requirement already satisfied: packaging>=20.0 in c:\\users\\sylva\\anaconda3\\envs\\ppd\\lib\\site-packages (from matplotlib) (23.1)\n",
      "Requirement already satisfied: pillow>=6.2.0 in c:\\users\\sylva\\anaconda3\\envs\\ppd\\lib\\site-packages (from matplotlib) (10.0.1)\n",
      "Requirement already satisfied: pyparsing>=2.3.1 in c:\\users\\sylva\\anaconda3\\envs\\ppd\\lib\\site-packages (from matplotlib) (3.0.9)\n",
      "Requirement already satisfied: python-dateutil>=2.7 in c:\\users\\sylva\\anaconda3\\envs\\ppd\\lib\\site-packages (from matplotlib) (2.8.2)\n",
      "Requirement already satisfied: importlib-resources>=3.2.0 in c:\\users\\sylva\\anaconda3\\envs\\ppd\\lib\\site-packages (from matplotlib) (6.1.1)\n",
      "Requirement already satisfied: zipp>=3.1.0 in c:\\users\\sylva\\anaconda3\\envs\\ppd\\lib\\site-packages (from importlib-resources>=3.2.0->matplotlib) (3.17.0)\n",
      "Requirement already satisfied: six>=1.5 in c:\\users\\sylva\\anaconda3\\envs\\ppd\\lib\\site-packages (from python-dateutil>=2.7->matplotlib) (1.16.0)\n",
      "Using cached numpy-1.26.3-cp39-cp39-win_amd64.whl (15.8 MB)\n",
      "Installing collected packages: numpy\n",
      "  Attempting uninstall: numpy\n",
      "    Found existing installation: numpy 1.20.3\n",
      "    Uninstalling numpy-1.20.3:\n",
      "      Successfully uninstalled numpy-1.20.3\n",
      "Successfully installed numpy-1.26.3\n"
     ]
    },
    {
     "name": "stderr",
     "output_type": "stream",
     "text": [
      "  WARNING: Failed to remove contents in a temporary directory 'C:\\Users\\sylva\\anaconda3\\envs\\ppd\\Lib\\site-packages\\~umpy'.\n",
      "  You can safely remove it manually.\n",
      "ERROR: pip's dependency resolver does not currently take into account all the packages that are installed. This behaviour is the source of the following dependency conflicts.\n",
      "openfisca-core 35.12.0 requires numpy<1.21,>=1.11, but you have numpy 1.26.3 which is incompatible.\n"
     ]
    }
   ],
   "source": [
    "!pip install openfisca-senegal[survey]\n",
    "!pip install matplotlib"
   ]
  },
  {
   "cell_type": "code",
   "execution_count": 3,
   "metadata": {},
   "outputs": [],
   "source": [
    "import matplotlib.pyplot as plt  # For graphics\n",
    "%matplotlib inline\n",
    "\n",
    "from openfisca_core import periods\n",
    "\n",
    "from openfisca_senegal import CountryTaxBenefitSystem as SenegalTaxBenefitSystem  # The Senegalese tax-benefits system\n",
    "from openfisca_senegal.scenarios import init_single_entity\n",
    "\n",
    "%config Completer.use_jedi = False\n"
   ]
  },
  {
   "cell_type": "markdown",
   "metadata": {},
   "source": [
    "## The concepts"
   ]
  },
  {
   "cell_type": "markdown",
   "metadata": {},
   "source": [
    "### Tax Benefit System"
   ]
  },
  {
   "cell_type": "code",
   "execution_count": 4,
   "metadata": {},
   "outputs": [],
   "source": [
    "tax_benefit_system = SenegalTaxBenefitSystem()"
   ]
  },
  {
   "cell_type": "markdown",
   "metadata": {},
   "source": [
    "### Entities"
   ]
  },
  {
   "cell_type": "code",
   "execution_count": 5,
   "metadata": {},
   "outputs": [
    {
     "data": {
      "text/plain": [
       "[<openfisca_core.entities.group_entity.GroupEntity at 0x1cdd231db80>,\n",
       " <openfisca_core.entities.entity.Entity at 0x1cdd231d730>]"
      ]
     },
     "execution_count": 5,
     "metadata": {},
     "output_type": "execute_result"
    }
   ],
   "source": [
    "tax_benefit_system.entities"
   ]
  },
  {
   "cell_type": "code",
   "execution_count": 6,
   "metadata": {},
   "outputs": [
    {
     "data": {
      "text/plain": [
       "['household', 'person']"
      ]
     },
     "execution_count": 6,
     "metadata": {},
     "output_type": "execute_result"
    }
   ],
   "source": [
    "[entity.key for entity in tax_benefit_system.entities]"
   ]
  },
  {
   "cell_type": "code",
   "execution_count": 7,
   "metadata": {},
   "outputs": [
    {
     "data": {
      "text/plain": [
       "[<openfisca_core.entities.group_entity.GroupEntity at 0x1cdd231db80>,\n",
       " <openfisca_core.entities.entity.Entity at 0x1cdd231d730>]"
      ]
     },
     "execution_count": 7,
     "metadata": {},
     "output_type": "execute_result"
    }
   ],
   "source": [
    "tax_benefit_system.entities"
   ]
  },
  {
   "cell_type": "markdown",
   "metadata": {},
   "source": [
    "### Variables "
   ]
  },
  {
   "cell_type": "code",
   "execution_count": 8,
   "metadata": {},
   "outputs": [
    {
     "data": {
      "text/plain": [
       "{'age': <1983506406992_7404992268010462452_caracteristiques_socio_demographiques.age at 0x1cdd230c940>,\n",
       " 'date_naissance': <1983506406992_7404992268010462452_caracteristiques_socio_demographiques.date_naissance at 0x1cdd2280f10>,\n",
       " 'est_celibataire': <1983506406992_7404992268010462452_caracteristiques_socio_demographiques.est_celibataire at 0x1cdd2280130>,\n",
       " 'est_divorce': <1983506406992_7404992268010462452_caracteristiques_socio_demographiques.est_divorce at 0x1cdd231db50>,\n",
       " 'est_marie': <1983506406992_7404992268010462452_caracteristiques_socio_demographiques.est_marie at 0x1cdd231d910>,\n",
       " 'est_veuf': <1983506406992_7404992268010462452_caracteristiques_socio_demographiques.est_veuf at 0x1cdd231deb0>,\n",
       " 'nombre_enfants': <1983506406992_7404992268010462452_caracteristiques_socio_demographiques.nombre_enfants at 0x1cdd231de20>,\n",
       " 'statut_marital': <1983506406992_7404992268010462452_caracteristiques_socio_demographiques.statut_marital at 0x1cdd23121f0>,\n",
       " 'benefices_non_salarie': <1983506406992_-258304734607702750_revenus.benefices_non_salarie at 0x1cde2988250>,\n",
       " 'conjoint_a_des_revenus': <1983506406992_-258304734607702750_revenus.conjoint_a_des_revenus at 0x1cde29884c0>,\n",
       " 'pension_retraite': <1983506406992_-258304734607702750_revenus.pension_retraite at 0x1cde29883d0>,\n",
       " 'salaire': <1983506406992_-258304734607702750_revenus.salaire at 0x1cde29882b0>,\n",
       " 'household_weight': <1983506406992_-4817106489186868465_weights.household_weight at 0x1cde2988280>,\n",
       " 'person_weight': <1983506406992_-4817106489186868465_weights.person_weight at 0x1cde29883a0>,\n",
       " 'impot_avant_reduction_famille': <1983506406992_-7474631650564716823_impots_directs.impot_avant_reduction_famille at 0x1cde2979c10>,\n",
       " 'impot_revenus': <1983506406992_-7474631650564716823_impots_directs.impot_revenus at 0x1cde2979b50>,\n",
       " 'nombre_de_parts': <1983506406992_-7474631650564716823_impots_directs.nombre_de_parts at 0x1cde2979e50>,\n",
       " 'reduction_impots_pour_charge_famille': <1983506406992_-7474631650564716823_impots_directs.reduction_impots_pour_charge_famille at 0x1cde2979e20>,\n",
       " 'impots_indirects': <1983506406992_-1728348683836155248_impots_indirects.impots_indirects at 0x1cde2986e80>}"
      ]
     },
     "execution_count": 8,
     "metadata": {},
     "output_type": "execute_result"
    }
   ],
   "source": [
    "tax_benefit_system.variables"
   ]
  },
  {
   "cell_type": "code",
   "execution_count": 9,
   "metadata": {},
   "outputs": [
    {
     "data": {
      "text/plain": [
       "['age',\n",
       " 'benefices_non_salarie',\n",
       " 'conjoint_a_des_revenus',\n",
       " 'date_naissance',\n",
       " 'est_celibataire',\n",
       " 'est_divorce',\n",
       " 'est_marie',\n",
       " 'est_veuf',\n",
       " 'household_weight',\n",
       " 'impot_avant_reduction_famille',\n",
       " 'impot_revenus',\n",
       " 'impots_indirects',\n",
       " 'nombre_de_parts',\n",
       " 'nombre_enfants',\n",
       " 'pension_retraite',\n",
       " 'person_weight',\n",
       " 'reduction_impots_pour_charge_famille',\n",
       " 'salaire',\n",
       " 'statut_marital']"
      ]
     },
     "execution_count": 9,
     "metadata": {},
     "output_type": "execute_result"
    }
   ],
   "source": [
    "sorted(tax_benefit_system.variables.keys())"
   ]
  },
  {
   "cell_type": "code",
   "execution_count": 10,
   "metadata": {},
   "outputs": [
    {
     "name": "stdout",
     "output_type": "stream",
     "text": [
      "age\n",
      "    def formula(individu, period, parameters):\n",
      "        date_naissance = individu('date_naissance', period)\n",
      "        birth_year = date_naissance.astype('datetime64[Y]').astype(int) + 1970\n",
      "        birth_month = date_naissance.astype('datetime64[M]').astype(int) % 12 + 1\n",
      "        birth_day = (date_naissance - date_naissance.astype('datetime64[M]') + 1).astype(int)\n",
      "\n",
      "        is_birthday_past = (\n",
      "            (birth_month < period.start.month) + (birth_month == period.start.month) * (birth_day <= period.start.day)\n",
      "            )\n",
      "        # If the birthday is not passed this year, subtract one year\n",
      "        return (period.start.year - birth_year) - where(is_birthday_past, 0, 1)\n",
      "\n",
      "\n",
      "benefices_non_salarie\n",
      "\n",
      "conjoint_a_des_revenus\n",
      "\n",
      "date_naissance\n",
      "\n",
      "est_celibataire\n",
      "    def formula(individu, period):\n",
      "        return individu('statut_marital', period) == TypesStatutMarital.celibataire\n",
      "\n",
      "\n",
      "est_divorce\n",
      "    def formula(individu, period):\n",
      "        return individu('statut_marital', period) == TypesStatutMarital.veuf_divorce\n",
      "\n",
      "\n",
      "est_marie\n",
      "    def formula(individu, period):\n",
      "        return individu('statut_marital', period) == TypesStatutMarital.marie\n",
      "\n",
      "\n",
      "est_veuf\n",
      "    def formula(individu, period):\n",
      "        return individu('statut_marital', period) == TypesStatutMarital.veuf_divorce\n",
      "\n",
      "\n",
      "household_weight\n",
      "\n",
      "impot_avant_reduction_famille\n",
      "    def formula(individu, period, legislation):\n",
      "        salaire = individu('salaire', period, options = [ADD])\n",
      "        salaire_abattement = min_(0.3 * salaire, 900000)\n",
      "        salaire_imposable = salaire - salaire_abattement\n",
      "\n",
      "        pension_retraite = individu('pension_retraite', period, options = [ADD])\n",
      "        pension_abbattement = max_(pension_retraite * 0.4, 1800000) * (pension_retraite > 0)\n",
      "        retraite_imposable = pension_retraite - pension_abbattement\n",
      "        benefices_non_salarie = individu('benefices_non_salarie', period, options = [ADD])\n",
      "        benefice_abattement = benefices_non_salarie * 0.15\n",
      "        benefices_imposable = benefices_non_salarie - benefice_abattement\n",
      "\n",
      "        revenus_arrondis = floor_divide(salaire_imposable + retraite_imposable + benefices_imposable, 1000) * 1000\n",
      "        revenus_imposable = max_(0, revenus_arrondis)\n",
      "\n",
      "        bareme_impot_progressif = legislation(period).prelevements_obligatoires.impots_directs.bareme_impot_progressif\n",
      "        return bareme_impot_progressif.calc(revenus_imposable)\n",
      "\n",
      "\n",
      "impot_revenus\n",
      "    def formula(individu, period):\n",
      "        impot_avant_reduction_famille = individu('impot_avant_reduction_famille', period)\n",
      "        reduction_impots_pour_charge_famille = individu('reduction_impots_pour_charge_famille', period)\n",
      "        impot_apres_reduction_famille = impot_avant_reduction_famille - reduction_impots_pour_charge_famille\n",
      "        return max_(0, impot_apres_reduction_famille)\n",
      "\n",
      "\n",
      "impots_indirects\n",
      "    def formula(menage, period):\n",
      "        return menage('tva', period)\n",
      "\n",
      "\n",
      "nombre_de_parts\n",
      "    def formula(individu, period, parameters):\n",
      "        nombre_de_parts_par_enfant = parameters(period).nombre_de_parts.par_enfant\n",
      "        limite_nombre_de_parts = parameters(period).nombre_de_parts.limite_max\n",
      "        repartition_marie_conjoint = parameters(period).nombre_de_parts.repartition_marie_conjoint\n",
      "        veuf_avec_enfant = parameters(period).nombre_de_parts.veuf_avec_enfant\n",
      "\n",
      "        est_marie = individu('est_marie', period)\n",
      "        est_veuf = individu('est_veuf', period)\n",
      "        nombre_enfants = individu('nombre_enfants', period)\n",
      "        parts_enfant_veuf = est_veuf * veuf_avec_enfant * min_(1, nombre_enfants)\n",
      "\n",
      "        nombre_de_parts_enfants = nombre_enfants * nombre_de_parts_par_enfant + parts_enfant_veuf\n",
      "        conjoint_a_des_revenus = individu('conjoint_a_des_revenus', period)\n",
      "        nombre_de_parts_conjoint = est_marie * repartition_marie_conjoint * (1 + not_(conjoint_a_des_revenus))\n",
      "\n",
      "        nombre_de_parts = 1 + nombre_de_parts_conjoint + nombre_de_parts_enfants\n",
      "\n",
      "        return min_(limite_nombre_de_parts, nombre_de_parts)\n",
      "\n",
      "\n",
      "nombre_enfants\n",
      "\n",
      "pension_retraite\n",
      "\n",
      "person_weight\n",
      "\n",
      "reduction_impots_pour_charge_famille\n",
      "    def formula(individu, period, legislation):\n",
      "        impot_avant_reduction_famille = individu('impot_avant_reduction_famille', period)\n",
      "\n",
      "        nombre_de_parts = individu('nombre_de_parts', period)\n",
      "        reductions_pour_charge_de_famille = legislation(period).prelevements_obligatoires.impots_directs.reductions_pour_charge_de_famille\n",
      "\n",
      "        taux = (nombre_de_parts == 1) * reductions_pour_charge_de_famille.taux_1 + \\\n",
      "            (nombre_de_parts == 1.5) * reductions_pour_charge_de_famille.taux_2 + \\\n",
      "            (nombre_de_parts == 2) * reductions_pour_charge_de_famille.taux_3 + \\\n",
      "            (nombre_de_parts == 2.5) * reductions_pour_charge_de_famille.taux_4 + \\\n",
      "            (nombre_de_parts == 3) * reductions_pour_charge_de_famille.taux_5 + \\\n",
      "            (nombre_de_parts == 3.5) * reductions_pour_charge_de_famille.taux_6 + \\\n",
      "            (nombre_de_parts == 4) * reductions_pour_charge_de_famille.taux_7 + \\\n",
      "            (nombre_de_parts == 4.5) * reductions_pour_charge_de_famille.taux_8 + \\\n",
      "            (nombre_de_parts == 5) * reductions_pour_charge_de_famille.taux_9\n",
      "        minimum = (nombre_de_parts == 1) * reductions_pour_charge_de_famille.min_1 + \\\n",
      "            (nombre_de_parts == 1.5) * reductions_pour_charge_de_famille.min_2 + \\\n",
      "            (nombre_de_parts == 2) * reductions_pour_charge_de_famille.min_3 + \\\n",
      "            (nombre_de_parts == 2.5) * reductions_pour_charge_de_famille.min_4 + \\\n",
      "            (nombre_de_parts == 3) * reductions_pour_charge_de_famille.min_5 + \\\n",
      "            (nombre_de_parts == 3.5) * reductions_pour_charge_de_famille.min_6 + \\\n",
      "            (nombre_de_parts == 4) * reductions_pour_charge_de_famille.min_7 + \\\n",
      "            (nombre_de_parts == 4.5) * reductions_pour_charge_de_famille.min_8 + \\\n",
      "            (nombre_de_parts == 5) * reductions_pour_charge_de_famille.min_9\n",
      "        maximum = (nombre_de_parts == 1) * reductions_pour_charge_de_famille.max_1 + \\\n",
      "            (nombre_de_parts == 1.5) * reductions_pour_charge_de_famille.max_2 + \\\n",
      "            (nombre_de_parts == 2) * reductions_pour_charge_de_famille.max_3 + \\\n",
      "            (nombre_de_parts == 2.5) * reductions_pour_charge_de_famille.max_4 + \\\n",
      "            (nombre_de_parts == 3) * reductions_pour_charge_de_famille.max_5 + \\\n",
      "            (nombre_de_parts == 3.5) * reductions_pour_charge_de_famille.max_6 + \\\n",
      "            (nombre_de_parts == 4) * reductions_pour_charge_de_famille.max_7 + \\\n",
      "            (nombre_de_parts == 4.5) * reductions_pour_charge_de_famille.max_8 + \\\n",
      "            (nombre_de_parts == 5) * reductions_pour_charge_de_famille.max_9\n",
      "\n",
      "        reduction_impot = clip(impot_avant_reduction_famille * taux, a_min = minimum, a_max = maximum)\n",
      "        return reduction_impot\n",
      "\n",
      "\n",
      "salaire\n",
      "\n",
      "statut_marital\n",
      "\n"
     ]
    }
   ],
   "source": [
    "import inspect\n",
    "for name, variable in sorted(tax_benefit_system.variables.items()):\n",
    "    print(name)\n",
    "    if not variable.is_input_variable():\n",
    "        formula = variable.get_formula('2017')\n",
    "        source_code = inspect.getsourcelines(formula)[0]\n",
    "        print(''.join(source_code))\n",
    "    print('')"
   ]
  },
  {
   "cell_type": "markdown",
   "metadata": {},
   "source": [
    "### Parameters"
   ]
  },
  {
   "cell_type": "code",
   "execution_count": 11,
   "metadata": {},
   "outputs": [
    {
     "name": "stdout",
     "output_type": "stream",
     "text": [
      "nombre_de_parts:\n",
      "  limite_max:\n",
      "    2013-01-01: 5\n",
      "  par_enfant:\n",
      "    2013-01-01: 0.5\n",
      "  repartition_marie_conjoint:\n",
      "    2013-01-01: 0.5\n",
      "  veuf_avec_enfant:\n",
      "    2013-01-01: 0.5\n",
      "prelevements_obligatoires:\n",
      "  impots_directs:\n",
      "    bareme_impot_progressif:\n",
      "      brackets:\n",
      "        - rate:\n",
      "            2013-01-01: 0.0\n",
      "          threshold:\n",
      "            2013-01-01: 0.0\n",
      "        - rate:\n",
      "            2013-01-01: 0.2\n",
      "          threshold:\n",
      "            2013-01-01: 630000.0\n",
      "        - rate:\n",
      "            2013-01-01: 0.3\n",
      "          threshold:\n",
      "            2013-01-01: 1500000.0\n",
      "        - rate:\n",
      "            2013-01-01: 0.35\n",
      "          threshold:\n",
      "            2013-01-01: 4000000.0\n",
      "        - rate:\n",
      "            2013-01-01: 0.37\n",
      "          threshold:\n",
      "            2013-01-01: 8000000.0\n",
      "        - rate:\n",
      "            2013-01-01: 0.4\n",
      "          threshold:\n",
      "            2013-01-01: 13500000.0\n",
      "    reductions_pour_charge_de_famille:\n",
      "      max_1:\n",
      "        2013-01-01: 0.0\n",
      "      max_2:\n",
      "        2013-01-01: 300000.0\n",
      "      max_3:\n",
      "        2013-01-01: 650000.0\n",
      "      max_4:\n",
      "        2013-01-01: 1100000.0\n",
      "      max_5:\n",
      "        2013-01-01: 1650000.0\n",
      "      max_6:\n",
      "        2013-01-01: 2030000.0\n",
      "      max_7:\n",
      "        2013-01-01: 2490000.0\n",
      "      max_8:\n",
      "        2013-01-01: 2755000.0\n",
      "      max_9:\n",
      "        2013-01-01: 3180000.0\n",
      "      min_1:\n",
      "        2013-01-01: 0.0\n",
      "      min_2:\n",
      "        2013-01-01: 100000.0\n",
      "      min_3:\n",
      "        2013-01-01: 200000.0\n",
      "      min_4:\n",
      "        2013-01-01: 300000.0\n",
      "      min_5:\n",
      "        2013-01-01: 400000.0\n",
      "      min_6:\n",
      "        2013-01-01: 500000.0\n",
      "      min_7:\n",
      "        2013-01-01: 600000.0\n",
      "      min_8:\n",
      "        2013-01-01: 700000.0\n",
      "      min_9:\n",
      "        2013-01-01: 800000.0\n",
      "      taux_1:\n",
      "        2013-01-01: 0.0\n",
      "      taux_2:\n",
      "        2013-01-01: 0.1\n",
      "      taux_3:\n",
      "        2013-01-01: 0.15\n",
      "      taux_4:\n",
      "        2013-01-01: 0.2\n",
      "      taux_5:\n",
      "        2013-01-01: 0.25\n",
      "      taux_6:\n",
      "        2013-01-01: 0.3\n",
      "      taux_7:\n",
      "        2013-01-01: 0.35\n",
      "      taux_8:\n",
      "        2013-01-01: 0.4\n",
      "      taux_9:\n",
      "        2013-01-01: 0.45\n",
      "  impots_indirects:\n",
      "    droits_douane:\n",
      "      biens_specifiques:\n",
      "        2007-01-01: 0.35\n",
      "      consommation_finale:\n",
      "        2007-01-01: 0.2\n",
      "      consommation_intermediaire:\n",
      "        2007-01-01: 0.1\n",
      "      equipements:\n",
      "        2007-01-01: 0.05\n",
      "      exonere:\n",
      "        2007-01-01: 0\n",
      "      prelevement_communautaire_de_solidarite:\n",
      "        2007-01-01: 0.01\n",
      "      redevance_statistique:\n",
      "        2007-01-01: 0.01\n",
      "    tva:\n",
      "      taux_normal:\n",
      "        2007-01-01: 0.18\n",
      "      taux_reduit:\n",
      "        2007-01-01: 0.1\n"
     ]
    }
   ],
   "source": [
    "print(tax_benefit_system.parameters)"
   ]
  },
  {
   "cell_type": "code",
   "execution_count": 12,
   "metadata": {},
   "outputs": [
    {
     "data": {
      "text/plain": [
       "nombre_de_parts:\n",
       "  limite_max:\n",
       "    5\n",
       "  par_enfant:\n",
       "    0.5\n",
       "  repartition_marie_conjoint:\n",
       "    0.5\n",
       "  veuf_avec_enfant:\n",
       "    0.5\n",
       "prelevements_obligatoires:\n",
       "  impots_directs:\n",
       "    bareme_impot_progressif:\n",
       "        - threshold: 0.0\n",
       "          rate: 0.0\n",
       "        - threshold: 630000.0\n",
       "          rate: 0.2\n",
       "        - threshold: 1500000.0\n",
       "          rate: 0.3\n",
       "        - threshold: 4000000.0\n",
       "          rate: 0.35\n",
       "        - threshold: 8000000.0\n",
       "          rate: 0.37\n",
       "        - threshold: 13500000.0\n",
       "          rate: 0.4\n",
       "    reductions_pour_charge_de_famille:\n",
       "      max_1:\n",
       "        0.0\n",
       "      max_2:\n",
       "        300000.0\n",
       "      max_3:\n",
       "        650000.0\n",
       "      max_4:\n",
       "        1100000.0\n",
       "      max_5:\n",
       "        1650000.0\n",
       "      max_6:\n",
       "        2030000.0\n",
       "      max_7:\n",
       "        2490000.0\n",
       "      max_8:\n",
       "        2755000.0\n",
       "      max_9:\n",
       "        3180000.0\n",
       "      min_1:\n",
       "        0.0\n",
       "      min_2:\n",
       "        100000.0\n",
       "      min_3:\n",
       "        200000.0\n",
       "      min_4:\n",
       "        300000.0\n",
       "      min_5:\n",
       "        400000.0\n",
       "      min_6:\n",
       "        500000.0\n",
       "      min_7:\n",
       "        600000.0\n",
       "      min_8:\n",
       "        700000.0\n",
       "      min_9:\n",
       "        800000.0\n",
       "      taux_1:\n",
       "        0.0\n",
       "      taux_2:\n",
       "        0.1\n",
       "      taux_3:\n",
       "        0.15\n",
       "      taux_4:\n",
       "        0.2\n",
       "      taux_5:\n",
       "        0.25\n",
       "      taux_6:\n",
       "        0.3\n",
       "      taux_7:\n",
       "        0.35\n",
       "      taux_8:\n",
       "        0.4\n",
       "      taux_9:\n",
       "        0.45\n",
       "  impots_indirects:\n",
       "    droits_douane:\n",
       "      exonere:\n",
       "        0\n",
       "      equipements:\n",
       "        0.05\n",
       "      consommation_intermediaire:\n",
       "        0.1\n",
       "      consommation_finale:\n",
       "        0.2\n",
       "      biens_specifiques:\n",
       "        0.35\n",
       "      redevance_statistique:\n",
       "        0.01\n",
       "      prelevement_communautaire_de_solidarite:\n",
       "        0.01\n",
       "    tva:\n",
       "      taux_normal:\n",
       "        0.18\n",
       "      taux_reduit:\n",
       "        0.1"
      ]
     },
     "execution_count": 12,
     "metadata": {},
     "output_type": "execute_result"
    }
   ],
   "source": [
    "parameters = tax_benefit_system.parameters(2017)\n",
    "parameters"
   ]
  },
  {
   "cell_type": "code",
   "execution_count": 13,
   "metadata": {},
   "outputs": [
    {
     "data": {
      "text/plain": [
       "  - threshold: 0.0\n",
       "    rate: 0.0\n",
       "  - threshold: 630000.0\n",
       "    rate: 0.2\n",
       "  - threshold: 1500000.0\n",
       "    rate: 0.3\n",
       "  - threshold: 4000000.0\n",
       "    rate: 0.35\n",
       "  - threshold: 8000000.0\n",
       "    rate: 0.37\n",
       "  - threshold: 13500000.0\n",
       "    rate: 0.4"
      ]
     },
     "execution_count": 13,
     "metadata": {},
     "output_type": "execute_result"
    }
   ],
   "source": [
    "tax_benefit_system.parameters.prelevements_obligatoires.impots_directs.bareme_impot_progressif(2016)"
   ]
  },
  {
   "cell_type": "markdown",
   "metadata": {},
   "source": [
    "## A simple test case scenario"
   ]
  },
  {
   "cell_type": "markdown",
   "metadata": {},
   "source": [
    "### Basics"
   ]
  },
  {
   "cell_type": "code",
   "execution_count": 14,
   "metadata": {},
   "outputs": [
    {
     "data": {
      "text/plain": [
       "<openfisca_core.taxbenefitsystems.tax_benefit_system.TaxBenefitSystem.new_scenario.<locals>.ScenarioAdapter at 0x1cde29cf9d0>"
      ]
     },
     "execution_count": 14,
     "metadata": {},
     "output_type": "execute_result"
    }
   ],
   "source": [
    "scenario = tax_benefit_system.new_scenario()\n",
    "scenario"
   ]
  },
  {
   "cell_type": "code",
   "execution_count": 15,
   "metadata": {},
   "outputs": [
    {
     "data": {
      "text/plain": [
       "<openfisca_core.taxbenefitsystems.tax_benefit_system.TaxBenefitSystem.new_scenario.<locals>.ScenarioAdapter at 0x1cde29cf9d0>"
      ]
     },
     "execution_count": 15,
     "metadata": {},
     "output_type": "execute_result"
    }
   ],
   "source": [
    "init_single_entity(\n",
    "    scenario,\n",
    "    parent1 = {\n",
    "        'salaire': 2800000,\n",
    "        'est_marie': True,\n",
    "        'conjoint_a_des_revenus': False,\n",
    "        'nombre_enfants': 1,\n",
    "        },\n",
    "    period = '2017',\n",
    "    )"
   ]
  },
  {
   "cell_type": "code",
   "execution_count": 16,
   "metadata": {},
   "outputs": [],
   "source": [
    "simulation = scenario.new_simulation()"
   ]
  },
  {
   "cell_type": "code",
   "execution_count": 17,
   "metadata": {},
   "outputs": [
    {
     "data": {
      "text/plain": [
       "array([2800000.], dtype=float32)"
      ]
     },
     "execution_count": 17,
     "metadata": {},
     "output_type": "execute_result"
    }
   ],
   "source": [
    "simulation.calculate('salaire', period = '2017')"
   ]
  },
  {
   "cell_type": "code",
   "execution_count": 18,
   "metadata": {},
   "outputs": [
    {
     "data": {
      "text/plain": [
       "array([11700.], dtype=float32)"
      ]
     },
     "execution_count": 18,
     "metadata": {},
     "output_type": "execute_result"
    }
   ],
   "source": [
    "simulation.calculate('impot_revenus', period = '2017')"
   ]
  },
  {
   "cell_type": "markdown",
   "metadata": {},
   "source": [
    "### Application: a simple function to compute the tax gain for having a child"
   ]
  },
  {
   "cell_type": "code",
   "execution_count": 19,
   "metadata": {},
   "outputs": [],
   "source": [
    "def tax_gain(salaire = 0, est_marie = False, conjoint_a_des_revenus = False, \n",
    "             nombre_enfants = 0):\n",
    "    period = '2017'\n",
    "    parent1_before = {\n",
    "        'salaire': salaire,\n",
    "        'est_marie': est_marie,\n",
    "        'conjoint_a_des_revenus': conjoint_a_des_revenus,\n",
    "        'nombre_enfants': nombre_enfants,\n",
    "        }\n",
    "    simulation_before = init_single_entity(\n",
    "        tax_benefit_system.new_scenario(),\n",
    "        parent1 = parent1_before,\n",
    "        period = period,\n",
    "        ).new_simulation()\n",
    "    parent1_after = parent1_before.copy()\n",
    "    parent1_after['nombre_enfants'] += 1\n",
    "    simulation_after = init_single_entity(\n",
    "        tax_benefit_system.new_scenario(),\n",
    "        parent1 = parent1_after,\n",
    "        period = period,\n",
    "        ).new_simulation()\n",
    "    tax_increase = simulation_after.calculate('impot_revenus', period) - simulation_before.calculate('impot_revenus', period)\n",
    "    return - tax_increase\n",
    "                                                                                            "
   ]
  },
  {
   "cell_type": "code",
   "execution_count": 20,
   "metadata": {},
   "outputs": [
    {
     "data": {
      "text/plain": [
       "array([100000.], dtype=float32)"
      ]
     },
     "execution_count": 20,
     "metadata": {},
     "output_type": "execute_result"
    }
   ],
   "source": [
    "tax_gain(salaire = 2800000)"
   ]
  },
  {
   "cell_type": "code",
   "execution_count": 21,
   "metadata": {},
   "outputs": [
    {
     "data": {
      "text/plain": [
       "array([100000.], dtype=float32)"
      ]
     },
     "execution_count": 21,
     "metadata": {},
     "output_type": "execute_result"
    }
   ],
   "source": [
    "tax_gain(salaire = 2800000, nombre_enfants = 2)"
   ]
  },
  {
   "cell_type": "code",
   "execution_count": 22,
   "metadata": {},
   "outputs": [
    {
     "data": {
      "text/plain": [
       "[array([100000.], dtype=float32),\n",
       " array([100000.], dtype=float32),\n",
       " array([100000.], dtype=float32),\n",
       " array([11700.], dtype=float32),\n",
       " array([-0.], dtype=float32),\n",
       " array([-0.], dtype=float32),\n",
       " array([-0.], dtype=float32),\n",
       " array([-0.], dtype=float32)]"
      ]
     },
     "execution_count": 22,
     "metadata": {},
     "output_type": "execute_result"
    }
   ],
   "source": [
    "[tax_gain(salaire = 2800000, nombre_enfants = n) for n in range(8)]"
   ]
  },
  {
   "cell_type": "markdown",
   "metadata": {},
   "source": [
    "## More complex scenario: varying revenue "
   ]
  },
  {
   "cell_type": "markdown",
   "metadata": {},
   "source": [
    "### Basics"
   ]
  },
  {
   "cell_type": "code",
   "execution_count": 23,
   "metadata": {},
   "outputs": [],
   "source": [
    "year = 2017\n",
    "simulation = init_single_entity(\n",
    "    tax_benefit_system.new_scenario(),\n",
    "    parent1 = {\n",
    "        'est_marie': True,\n",
    "        'conjoint_a_des_revenus': False,\n",
    "        'nombre_enfants': 0,\n",
    "        },\n",
    "    period = year,\n",
    "    axes = [[\n",
    "        {\n",
    "            'count': 100,\n",
    "            'min': 0,\n",
    "            'max': 15e6,\n",
    "            'name': 'salaire',\n",
    "            }\n",
    "        ]],\n",
    "    ).new_simulation()\n",
    "salaire = simulation.calculate('salaire', period = year)\n",
    "reduction_impots_pour_charge_famille = simulation.calculate('reduction_impots_pour_charge_famille', period = year)\n",
    "impot_avant_reduction_famille = simulation.calculate('impot_avant_reduction_famille', period = year)\n",
    "impot_revenus = simulation.calculate('impot_revenus', period = year)"
   ]
  },
  {
   "cell_type": "code",
   "execution_count": 24,
   "metadata": {},
   "outputs": [
    {
     "data": {
      "text/plain": [
       "100"
      ]
     },
     "execution_count": 24,
     "metadata": {},
     "output_type": "execute_result"
    }
   ],
   "source": [
    "len(reduction_impots_pour_charge_famille)"
   ]
  },
  {
   "cell_type": "code",
   "execution_count": 25,
   "metadata": {},
   "outputs": [
    {
     "data": {
      "text/plain": [
       "Text(0.5, 1.0, '0 enfants')"
      ]
     },
     "execution_count": 25,
     "metadata": {},
     "output_type": "execute_result"
    },
    {
     "data": {
      "image/png": "[encoded data removed]",
      "text/plain": [
       "<Figure size 1200x800 with 1 Axes>"
      ]
     },
     "metadata": {},
     "output_type": "display_data"
    }
   ],
   "source": [
    "plt.figure(figsize=(12, 8))\n",
    "plt.plot(salaire, impot_avant_reduction_famille, label='avant réduction famille')\n",
    "plt.plot(salaire, reduction_impots_pour_charge_famille, label='réduction famille')\n",
    "plt.plot(salaire, impot_revenus, label='impôt revenus')\n",
    "plt.xlabel('Salaire')\n",
    "plt.legend()\n",
    "plt.title('0 enfants', fontsize=20)"
   ]
  },
  {
   "cell_type": "markdown",
   "metadata": {},
   "source": [
    "### Application: by how much the tax gain for having a child varies with revenue"
   ]
  },
  {
   "cell_type": "markdown",
   "metadata": {},
   "source": [
    "#### Write the function `tax_gain_varying_revenue` that computes the gain of having a child as a function of the revenue"
   ]
  },
  {
   "cell_type": "code",
   "execution_count": 26,
   "metadata": {},
   "outputs": [],
   "source": [
    "def tax_gain_varying_revenue(max_salaire = 0, est_marie = False, conjoint_a_des_revenus = False, \n",
    "                             nombre_enfants = 0):\n",
    "    TODO\n",
    "    return salaire, -tax_increase"
   ]
  },
  {
   "cell_type": "code",
   "execution_count": 27,
   "metadata": {},
   "outputs": [
    {
     "ename": "NameError",
     "evalue": "name 'TODO' is not defined",
     "output_type": "error",
     "traceback": [
      "\u001b[1;31m---------------------------------------------------------------------------\u001b[0m",
      "\u001b[1;31mNameError\u001b[0m                                 Traceback (most recent call last)",
      "Cell \u001b[1;32mIn[27], line 1\u001b[0m\n\u001b[1;32m----> 1\u001b[0m salaire, gain \u001b[38;5;241m=\u001b[39m \u001b[43mtax_gain_varying_revenue\u001b[49m\u001b[43m(\u001b[49m\u001b[43mmax_salaire\u001b[49m\u001b[43m \u001b[49m\u001b[38;5;241;43m=\u001b[39;49m\u001b[43m \u001b[49m\u001b[38;5;241;43m15e6\u001b[39;49m\u001b[43m)\u001b[49m\n",
      "Cell \u001b[1;32mIn[26], line 3\u001b[0m, in \u001b[0;36mtax_gain_varying_revenue\u001b[1;34m(max_salaire, est_marie, conjoint_a_des_revenus, nombre_enfants)\u001b[0m\n\u001b[0;32m      1\u001b[0m \u001b[38;5;28;01mdef\u001b[39;00m \u001b[38;5;21mtax_gain_varying_revenue\u001b[39m(max_salaire \u001b[38;5;241m=\u001b[39m \u001b[38;5;241m0\u001b[39m, est_marie \u001b[38;5;241m=\u001b[39m \u001b[38;5;28;01mFalse\u001b[39;00m, conjoint_a_des_revenus \u001b[38;5;241m=\u001b[39m \u001b[38;5;28;01mFalse\u001b[39;00m, \n\u001b[0;32m      2\u001b[0m                              nombre_enfants \u001b[38;5;241m=\u001b[39m \u001b[38;5;241m0\u001b[39m):\n\u001b[1;32m----> 3\u001b[0m     \u001b[43mTODO\u001b[49m\n\u001b[0;32m      4\u001b[0m     \u001b[38;5;28;01mreturn\u001b[39;00m salaire, \u001b[38;5;241m-\u001b[39mtax_increase\n",
      "\u001b[1;31mNameError\u001b[0m: name 'TODO' is not defined"
     ]
    }
   ],
   "source": [
    "salaire, gain = tax_gain_varying_revenue(max_salaire = 15e6)"
   ]
  },
  {
   "cell_type": "code",
   "execution_count": null,
   "metadata": {},
   "outputs": [],
   "source": [
    "gain"
   ]
  },
  {
   "cell_type": "code",
   "execution_count": null,
   "metadata": {},
   "outputs": [],
   "source": [
    "plt.figure(figsize=(12, 8))\n",
    "plt.plot(salaire, gain, label='Gain fiscal')\n",
    "plt.xlabel('Salaire')\n",
    "plt.legend()\n",
    "plt.title('Gain fiscal au 1er enfant', fontsize=20)"
   ]
  },
  {
   "cell_type": "markdown",
   "metadata": {},
   "source": [
    "#### Write a loop to plot the gain for several children"
   ]
  },
  {
   "cell_type": "code",
   "execution_count": null,
   "metadata": {},
   "outputs": [],
   "source": [
    "plt.figure(figsize=(12, 8))\n",
    "for nombre_enfants in range(5):\n",
    "    salaire, gain = tax_gain_varying_revenue(max_salaire = 15e6, nombre_enfants = nombre_enfants)\n",
    "    plt.plot(salaire, gain, label = f\"Gain fiscal l'enfant {nombre_enfants + 1}\")\n",
    "plt.xlabel('Salaire')\n",
    "plt.legend()\n",
    "plt.title(\"Gain fiscal selon le rang de l'enfant\", fontsize=20)\n"
   ]
  },
  {
   "cell_type": "markdown",
   "metadata": {},
   "source": [
    "## Tax rates"
   ]
  },
  {
   "cell_type": "markdown",
   "metadata": {},
   "source": [
    "### Average tax rate"
   ]
  },
  {
   "cell_type": "code",
   "execution_count": null,
   "metadata": {},
   "outputs": [],
   "source": [
    "simulation = init_single_entity(\n",
    "    tax_benefit_system.new_scenario(),\n",
    "    parent1 = {\n",
    "        'est_marie': True,\n",
    "        'conjoint_a_des_revenus': False,\n",
    "        'nombre_enfants': 0,\n",
    "        },\n",
    "    period = year,\n",
    "    axes = [[\n",
    "        {\n",
    "            'count': 100,\n",
    "            'min': 0,\n",
    "            'max': 1e8,\n",
    "            'name': 'salaire',\n",
    "            }\n",
    "        ]],\n",
    "    ).new_simulation()\n",
    "salaire = simulation.calculate('salaire', period = year)\n",
    "impot = simulation.calculate('impot_revenus', period = year)"
   ]
  },
  {
   "cell_type": "code",
   "execution_count": null,
   "metadata": {},
   "outputs": [],
   "source": [
    "plt.plot(salaire, impot)\n",
    "plt.ylabel(\"Impôt sur les revenus\")\n",
    "plt.xlabel(\"Salaire\")"
   ]
  },
  {
   "cell_type": "code",
   "execution_count": null,
   "metadata": {},
   "outputs": [],
   "source": [
    "taux_moyen = impot / salaire  # Average tax rate"
   ]
  },
  {
   "cell_type": "code",
   "execution_count": null,
   "metadata": {},
   "outputs": [],
   "source": [
    "taux_moyen = impot / (salaire * (salaire != 0) + (salaire == 0) )  "
   ]
  },
  {
   "cell_type": "code",
   "execution_count": null,
   "metadata": {},
   "outputs": [],
   "source": [
    "plt.plot(salaire, taux_moyen)\n",
    "plt.ylabel(\"Taux moyen\")\n",
    "plt.xlabel(\"Salaire\")"
   ]
  },
  {
   "cell_type": "markdown",
   "metadata": {},
   "source": [
    "### Marginal tax rate"
   ]
  },
  {
   "cell_type": "code",
   "execution_count": null,
   "metadata": {},
   "outputs": [],
   "source": [
    "taux_marginal =  (impot[:-1] - impot[1:]) / (salaire[:-1] - salaire[1:] )  # We avoid the first point"
   ]
  },
  {
   "cell_type": "code",
   "execution_count": null,
   "metadata": {},
   "outputs": [],
   "source": [
    "plt.plot(salaire, taux_moyen, label = 'average')\n",
    "plt.plot(salaire[:-1], taux_marginal, label = 'marginal')\n",
    "plt.legend()"
   ]
  },
  {
   "cell_type": "markdown",
   "metadata": {},
   "source": [
    "#### Exercice: how marginal and average tax rate compare at infinity"
   ]
  },
  {
   "cell_type": "markdown",
   "metadata": {},
   "source": [
    "### Add a new variable and use dedicated functions"
   ]
  },
  {
   "cell_type": "markdown",
   "metadata": {},
   "source": [
    "Add a disposable income variable to the tax-benefit-system"
   ]
  },
  {
   "cell_type": "code",
   "execution_count": null,
   "metadata": {},
   "outputs": [],
   "source": [
    "from openfisca_core.model_api import *\n",
    "from openfisca_senegal.entities import Person\n",
    "\n",
    "tax_benefit_system = SenegalTaxBenefitSystem()\n",
    "\n",
    "class revenu_disponible(Variable):\n",
    "    definition_period = YEAR\n",
    "    entity = Person\n",
    "    value_type = float\n",
    "\n",
    "    def formula(person, period):\n",
    "        salaire = person('salaire', period)\n",
    "        impot_revenus = person('impot_revenus', period)\n",
    "        return salaire - impot_revenus\n",
    "\n",
    "\n",
    "tax_benefit_system.add_variable(revenu_disponible)\n"
   ]
  },
  {
   "cell_type": "code",
   "execution_count": null,
   "metadata": {},
   "outputs": [],
   "source": [
    "tax_benefit_system.variables.keys()"
   ]
  },
  {
   "cell_type": "code",
   "execution_count": null,
   "metadata": {},
   "outputs": [],
   "source": [
    "simulation = init_single_entity(\n",
    "    tax_benefit_system.new_scenario(),\n",
    "    parent1 = {\n",
    "        'est_marie': True,\n",
    "        'conjoint_a_des_revenus': False,\n",
    "        'nombre_enfants': 0,\n",
    "        },\n",
    "    period = '2017',\n",
    "    axes = [[\n",
    "        {\n",
    "            'count': 100,\n",
    "            'min': 0,\n",
    "            'max': 18e6,\n",
    "            'name': 'salaire',\n",
    "            }\n",
    "        ]],\n",
    "    ).new_simulation()\n",
    "salaire = simulation.calculate('salaire', period = year)\n",
    "impot = simulation.calculate('impot_revenus', period = year)\n",
    "revenu_disponible = simulation.calculate('revenu_disponible', period = year)"
   ]
  },
  {
   "cell_type": "code",
   "execution_count": null,
   "metadata": {},
   "outputs": [],
   "source": [
    "from openfisca_core.rates import average_rate, marginal_rate\n",
    "plt.plot(salaire[1:], average_rate(revenu_disponible[1:], salaire[1:]))\n",
    "plt.plot(salaire[1:], marginal_rate(revenu_disponible, salaire))"
   ]
  },
  {
   "cell_type": "markdown",
   "metadata": {},
   "source": [
    "## Reforming the tax-benefit system"
   ]
  },
  {
   "cell_type": "markdown",
   "metadata": {},
   "source": [
    "### Parametric reform"
   ]
  },
  {
   "cell_type": "code",
   "execution_count": null,
   "metadata": {},
   "outputs": [],
   "source": [
    "def modify_parameters(parameters):\n",
    "    parameters.prelevements_obligatoires.impots_directs.bareme_impot_progressif[5].rate.update(period = period(year), value = .5)\n",
    "    return parameters\n",
    "    \n",
    "class tax_the_rich(Reform):\n",
    "    name = \"Tax last bracket at 50%\"\n",
    "\n",
    "    def apply(self):\n",
    "        self.modify_parameters(modifier_function = modify_parameters)"
   ]
  },
  {
   "cell_type": "code",
   "execution_count": null,
   "metadata": {},
   "outputs": [],
   "source": [
    "reformd_tax_benefit_system = tax_the_rich(tax_benefit_system)"
   ]
  },
  {
   "cell_type": "code",
   "execution_count": null,
   "metadata": {},
   "outputs": [],
   "source": [
    "simulation = init_single_entity(\n",
    "    reformd_tax_benefit_system.new_scenario(),\n",
    "    parent1 = {\n",
    "        'est_marie': True,\n",
    "        'conjoint_a_des_revenus': False,\n",
    "        'nombre_enfants': 0,\n",
    "        },\n",
    "    period = year,\n",
    "    axes = [[\n",
    "        {\n",
    "            'count': 100,\n",
    "            'min': 0,\n",
    "            'max': 18e6,\n",
    "            'name': 'salaire',\n",
    "            }\n",
    "        ]],\n",
    "    ).new_simulation()\n",
    "salaire = simulation.calculate('salaire', period = year)\n",
    "impot = simulation.calculate('impot_revenus', period = year)\n",
    "taux_marginal =  (impot[:-1] - impot[1:]) / (salaire[:-1] - salaire[1:] )  # We avoid the first point\n",
    "plt.plot(salaire[:-1], taux_marginal)"
   ]
  },
  {
   "cell_type": "markdown",
   "metadata": {},
   "source": [
    "### Structural Reform"
   ]
  },
  {
   "cell_type": "markdown",
   "metadata": {},
   "source": [
    "#### Exercice: add a an amount threshold under which no tax is due"
   ]
  },
  {
   "cell_type": "code",
   "execution_count": null,
   "metadata": {},
   "outputs": [],
   "source": [
    "def build_structural_reform(seuil = 10000):    \n",
    "    tax_benefit_system = SenegalTaxBenefitSystem()\n",
    "    \n",
    "    class impot_revenus(Variable):\n",
    "        def formula(individu, period):\n",
    "            # TODO rewrite a new impot_revenus wich have a non-payment threshold (seuil)\n",
    "            impot_avant_reduction_famille = individu('impot_avant_reduction_famille', period)\n",
    "            reduction_impots_pour_charge_famille = individu('reduction_impots_pour_charge_famille', period)\n",
    "            impot_apres_reduction_famille = impot_avant_reduction_famille - reduction_impots_pour_charge_famille\n",
    "            impot_revenus = max_(0, impot_apres_reduction_famille)\n",
    "            return impot_revenus * (impot_revenus > seuil)\n",
    "\n",
    "    class revenu_disponible(Variable):\n",
    "        definition_period = YEAR\n",
    "        entity = Person\n",
    "        value_type = float\n",
    "\n",
    "        def formula(person, period):\n",
    "            salaire = person('salaire', period)\n",
    "            impot_revenus = person('impot_revenus', period)\n",
    "            return salaire - impot_revenus\n",
    "\n",
    "    class structural_reform(Reform):\n",
    "        name = f\"Seuil de non-versement: {seuil}\"\n",
    "\n",
    "        def apply(self):\n",
    "            self.update_variable(impot_revenus)\n",
    "            self.add_variable(revenu_disponible)\n",
    "\n",
    "    return structural_reform(tax_benefit_system)"
   ]
  },
  {
   "cell_type": "code",
   "execution_count": null,
   "metadata": {},
   "outputs": [],
   "source": [
    "structural_reform = build_structural_reform(seuil = 100000)\n",
    "simulation = init_single_entity(\n",
    "    structural_reform.new_scenario(),\n",
    "    parent1 = {\n",
    "        'est_marie': True,\n",
    "        'conjoint_a_des_revenus': False,\n",
    "        'nombre_enfants': 0,\n",
    "        },\n",
    "    period = '2017',\n",
    "    axes = [[\n",
    "        {\n",
    "            'count': 100,\n",
    "            'min': 0,\n",
    "            'max': 5e6,\n",
    "            'name': 'salaire',\n",
    "            }\n",
    "        ]],\n",
    "    ).new_simulation()\n",
    "salaire = simulation.calculate('salaire', period = year)\n",
    "impot_verse = simulation.calculate('impot_revenus', period = year)\n",
    "revenu_disponible = simulation.calculate('revenu_disponible', period = year)"
   ]
  },
  {
   "cell_type": "code",
   "execution_count": null,
   "metadata": {},
   "outputs": [],
   "source": [
    "plt.plot(salaire, impot_verse)\n",
    "plt.ylabel(\"Impôt sur les revenus\")\n",
    "plt.xlabel(\"Salaire\")"
   ]
  },
  {
   "cell_type": "code",
   "execution_count": null,
   "metadata": {},
   "outputs": [],
   "source": [
    "plt.plot(salaire[1:], average_rate(revenu_disponible[1:], salaire[1:]))\n",
    "plt.plot(salaire[1:], marginal_rate(revenu_disponible, salaire))"
   ]
  },
  {
   "cell_type": "code",
   "execution_count": null,
   "metadata": {},
   "outputs": [],
   "source": []
  }
 ],
 "metadata": {
  "kernelspec": {
   "display_name": "Python 3 (ipykernel)",
   "language": "python",
   "name": "python3"
  },
  "language_info": {
   "codemirror_mode": {
    "name": "ipython",
    "version": 3
   },
   "file_extension": ".py",
   "mimetype": "text/x-python",
   "name": "python",
   "nbconvert_exporter": "python",
   "pygments_lexer": "ipython3",
   "version": "3.9.18"
  },
  "vscode": {
   "interpreter": {
    "hash": "f9f85f796d01129d0dd105a088854619f454435301f6ffec2fea96ecbd9be4ac"
   }
  }
 },
 "nbformat": 4,
 "nbformat_minor": 4
}
