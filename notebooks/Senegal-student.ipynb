{
 "cells": [
  {
   "cell_type": "markdown",
   "metadata": {},
   "source": [
    "# Exploring the senegalese tax-benefit-system with OpenFisca"
   ]
  },
  {
   "cell_type": "code",
   "execution_count": 1,
   "metadata": {},
   "outputs": [
    {
     "name": "stdout",
     "output_type": "stream",
     "text": [
      "Requirement already satisfied: matplotlib in /home/mbenjelloul/.virtualenvs/senegal/lib/python3.8/site-packages (3.5.0)\n",
      "Requirement already satisfied: pyparsing>=2.2.1 in /home/mbenjelloul/.virtualenvs/senegal/lib/python3.8/site-packages (from matplotlib) (3.0.6)\n",
      "Requirement already satisfied: pillow>=6.2.0 in /home/mbenjelloul/.virtualenvs/senegal/lib/python3.8/site-packages (from matplotlib) (8.4.0)\n",
      "Requirement already satisfied: python-dateutil>=2.7 in /home/mbenjelloul/.virtualenvs/senegal/lib/python3.8/site-packages (from matplotlib) (2.8.2)\n",
      "Requirement already satisfied: fonttools>=4.22.0 in /home/mbenjelloul/.virtualenvs/senegal/lib/python3.8/site-packages (from matplotlib) (4.28.2)\n",
      "Requirement already satisfied: packaging>=20.0 in /home/mbenjelloul/.virtualenvs/senegal/lib/python3.8/site-packages (from matplotlib) (21.3)\n",
      "Requirement already satisfied: cycler>=0.10 in /home/mbenjelloul/.virtualenvs/senegal/lib/python3.8/site-packages (from matplotlib) (0.11.0)\n",
      "Requirement already satisfied: kiwisolver>=1.0.1 in /home/mbenjelloul/.virtualenvs/senegal/lib/python3.8/site-packages (from matplotlib) (1.3.2)\n",
      "Requirement already satisfied: numpy>=1.17 in /home/mbenjelloul/.virtualenvs/senegal/lib/python3.8/site-packages (from matplotlib) (1.20.3)\n",
      "Requirement already satisfied: setuptools-scm>=4 in /home/mbenjelloul/.virtualenvs/senegal/lib/python3.8/site-packages (from matplotlib) (6.3.2)\n",
      "Requirement already satisfied: six>=1.5 in /home/mbenjelloul/.virtualenvs/senegal/lib/python3.8/site-packages (from python-dateutil>=2.7->matplotlib) (1.16.0)\n",
      "Requirement already satisfied: tomli>=1.0.0 in /home/mbenjelloul/.virtualenvs/senegal/lib/python3.8/site-packages (from setuptools-scm>=4->matplotlib) (1.2.2)\n",
      "Requirement already satisfied: setuptools in /home/mbenjelloul/.virtualenvs/senegal/lib/python3.8/site-packages (from setuptools-scm>=4->matplotlib) (44.0.0)\n",
      "Requirement already satisfied: openfisca-senegal[survey] in /home/mbenjelloul/openfisca/openfisca-senegal (0.10.3)\n",
      "Requirement already satisfied: OpenFisca-Core<36.0,>=35.0.1 in /home/mbenjelloul/.virtualenvs/senegal/lib/python3.8/site-packages (from openfisca-senegal[survey]) (35.7.3)\n",
      "Collecting OpenFisca-Survey-Manager<=1.0,>=0.38.1\n",
      "  Downloading OpenFisca_Survey_Manager-0.46.3-py3-none-any.whl (108 kB)\n",
      "\u001b[K     |████████████████████████████████| 108 kB 16.8 MB/s eta 0:00:01\n",
      "\u001b[?25hCollecting scipy\n",
      "  Downloading scipy-1.7.3-cp38-cp38-manylinux_2_17_x86_64.manylinux2014_x86_64.whl (39.3 MB)\n",
      "\u001b[K     |████████████████████████████████| 39.3 MB 47.6 MB/s eta 0:00:01\n",
      "\u001b[?25hRequirement already satisfied: pytest<6.0.0,>=4.4.1 in /home/mbenjelloul/.virtualenvs/senegal/lib/python3.8/site-packages (from OpenFisca-Core<36.0,>=35.0.1->openfisca-senegal[survey]) (5.4.3)\n",
      "Requirement already satisfied: numexpr<=3.0,>=2.7.0 in /home/mbenjelloul/.virtualenvs/senegal/lib/python3.8/site-packages (from OpenFisca-Core<36.0,>=35.0.1->openfisca-senegal[survey]) (2.7.3)\n",
      "Requirement already satisfied: numpy<1.21,>=1.11 in /home/mbenjelloul/.virtualenvs/senegal/lib/python3.8/site-packages (from OpenFisca-Core<36.0,>=35.0.1->openfisca-senegal[survey]) (1.20.3)\n",
      "Requirement already satisfied: PyYAML>=3.10 in /home/mbenjelloul/.virtualenvs/senegal/lib/python3.8/site-packages (from OpenFisca-Core<36.0,>=35.0.1->openfisca-senegal[survey]) (6.0)\n",
      "Requirement already satisfied: typing-extensions==3.10.0.2 in /home/mbenjelloul/.virtualenvs/senegal/lib/python3.8/site-packages (from OpenFisca-Core<36.0,>=35.0.1->openfisca-senegal[survey]) (3.10.0.2)\n",
      "Requirement already satisfied: psutil<6.0.0,>=5.4.7 in /home/mbenjelloul/.virtualenvs/senegal/lib/python3.8/site-packages (from OpenFisca-Core<36.0,>=35.0.1->openfisca-senegal[survey]) (5.8.0)\n",
      "Requirement already satisfied: sortedcontainers==2.2.2 in /home/mbenjelloul/.virtualenvs/senegal/lib/python3.8/site-packages (from OpenFisca-Core<36.0,>=35.0.1->openfisca-senegal[survey]) (2.2.2)\n",
      "Requirement already satisfied: nptyping==1.4.4 in /home/mbenjelloul/.virtualenvs/senegal/lib/python3.8/site-packages (from OpenFisca-Core<36.0,>=35.0.1->openfisca-senegal[survey]) (1.4.4)\n",
      "Requirement already satisfied: dpath<2.0.0,>=1.5.0 in /home/mbenjelloul/.virtualenvs/senegal/lib/python3.8/site-packages (from OpenFisca-Core<36.0,>=35.0.1->openfisca-senegal[survey]) (1.5.0)\n",
      "Collecting pandas>=0.22\n",
      "  Downloading pandas-1.3.4-cp38-cp38-manylinux_2_17_x86_64.manylinux2014_x86_64.whl (11.5 MB)\n",
      "\u001b[K     |████████████████████████████████| 11.5 MB 115.7 MB/s eta 0:00:01\n",
      "\u001b[?25hCollecting humanize\n",
      "  Downloading humanize-3.13.1-py3-none-any.whl (98 kB)\n",
      "\u001b[K     |████████████████████████████████| 98 kB 14.2 MB/s  eta 0:00:01\n",
      "\u001b[?25hCollecting tables<4.0.0,>=3.4.4\n",
      "  Using cached tables-3.6.1-cp38-cp38-manylinux1_x86_64.whl (4.3 MB)\n",
      "Collecting tabulate\n",
      "  Using cached tabulate-0.8.9-py3-none-any.whl (25 kB)\n",
      "Processing /home/mbenjelloul/.cache/pip/wheels/b5/d3/ae/700722865a86d3de95f2d04144d4560d75699797bca5353411/weightedcalcs-0.1.2-py3-none-any.whl\n",
      "Collecting configparser\n",
      "  Downloading configparser-5.1.0-py3-none-any.whl (19 kB)\n",
      "Collecting chardet<5.0,>=4.0\n",
      "  Using cached chardet-4.0.0-py2.py3-none-any.whl (178 kB)\n",
      "Collecting wquantiles>=0.3\n",
      "  Using cached wquantiles-0.6-py3-none-any.whl (3.3 kB)\n",
      "Collecting pyxdg\n",
      "  Using cached pyxdg-0.27-py2.py3-none-any.whl (49 kB)\n",
      "Requirement already satisfied: packaging in /home/mbenjelloul/.virtualenvs/senegal/lib/python3.8/site-packages (from pytest<6.0.0,>=4.4.1->OpenFisca-Core<36.0,>=35.0.1->openfisca-senegal[survey]) (21.3)\n",
      "Requirement already satisfied: pluggy<1.0,>=0.12 in /home/mbenjelloul/.virtualenvs/senegal/lib/python3.8/site-packages (from pytest<6.0.0,>=4.4.1->OpenFisca-Core<36.0,>=35.0.1->openfisca-senegal[survey]) (0.13.1)\n",
      "Requirement already satisfied: more-itertools>=4.0.0 in /home/mbenjelloul/.virtualenvs/senegal/lib/python3.8/site-packages (from pytest<6.0.0,>=4.4.1->OpenFisca-Core<36.0,>=35.0.1->openfisca-senegal[survey]) (8.12.0)\n",
      "Requirement already satisfied: py>=1.5.0 in /home/mbenjelloul/.virtualenvs/senegal/lib/python3.8/site-packages (from pytest<6.0.0,>=4.4.1->OpenFisca-Core<36.0,>=35.0.1->openfisca-senegal[survey]) (1.11.0)\n",
      "Requirement already satisfied: attrs>=17.4.0 in /home/mbenjelloul/.virtualenvs/senegal/lib/python3.8/site-packages (from pytest<6.0.0,>=4.4.1->OpenFisca-Core<36.0,>=35.0.1->openfisca-senegal[survey]) (21.2.0)\n",
      "Requirement already satisfied: wcwidth in /home/mbenjelloul/.virtualenvs/senegal/lib/python3.8/site-packages (from pytest<6.0.0,>=4.4.1->OpenFisca-Core<36.0,>=35.0.1->openfisca-senegal[survey]) (0.2.5)\n",
      "Requirement already satisfied: typish>=1.7.0 in /home/mbenjelloul/.virtualenvs/senegal/lib/python3.8/site-packages (from nptyping==1.4.4->OpenFisca-Core<36.0,>=35.0.1->openfisca-senegal[survey]) (1.9.3)\n",
      "Requirement already satisfied: pytz>=2017.3 in /home/mbenjelloul/.virtualenvs/senegal/lib/python3.8/site-packages (from pandas>=0.22->OpenFisca-Survey-Manager<=1.0,>=0.38.1->openfisca-senegal[survey]) (2021.3)\n",
      "Requirement already satisfied: python-dateutil>=2.7.3 in /home/mbenjelloul/.virtualenvs/senegal/lib/python3.8/site-packages (from pandas>=0.22->OpenFisca-Survey-Manager<=1.0,>=0.38.1->openfisca-senegal[survey]) (2.8.2)\n",
      "Requirement already satisfied: pyparsing!=3.0.5,>=2.0.2 in /home/mbenjelloul/.virtualenvs/senegal/lib/python3.8/site-packages (from packaging->pytest<6.0.0,>=4.4.1->OpenFisca-Core<36.0,>=35.0.1->openfisca-senegal[survey]) (3.0.6)\n",
      "Requirement already satisfied: six>=1.5 in /home/mbenjelloul/.virtualenvs/senegal/lib/python3.8/site-packages (from python-dateutil>=2.7.3->pandas>=0.22->OpenFisca-Survey-Manager<=1.0,>=0.38.1->openfisca-senegal[survey]) (1.16.0)\n",
      "Installing collected packages: pandas, humanize, tables, tabulate, weightedcalcs, configparser, chardet, wquantiles, pyxdg, OpenFisca-Survey-Manager, scipy\n",
      "Successfully installed OpenFisca-Survey-Manager-0.46.3 chardet-4.0.0 configparser-5.1.0 humanize-3.13.1 pandas-1.3.4 pyxdg-0.27 scipy-1.7.3 tables-3.6.1 tabulate-0.8.9 weightedcalcs-0.1.2 wquantiles-0.6\n"
     ]
    }
   ],
   "source": [
    "!pip install matplotlib\n",
    "!pip install openfisca-senegal[survey]"
   ]
  },
  {
   "cell_type": "code",
   "execution_count": null,
   "metadata": {},
   "outputs": [],
   "source": [
    "import matplotlib.pyplot as plt  # For graphics\n",
    "%matplotlib inline\n",
    "\n",
    "from openfisca_core import periods\n",
    "\n",
    "from openfisca_senegal import CountryTaxBenefitSystem as SenegalTaxBenefitSystem  # The Senegalese tax-benefits system\n",
    "from openfisca_senegal.scenarios import init_single_entity\n",
    "\n",
    "%config Completer.use_jedi = False\n"
   ]
  },
  {
   "cell_type": "markdown",
   "metadata": {},
   "source": [
    "## The concepts"
   ]
  },
  {
   "cell_type": "markdown",
   "metadata": {},
   "source": [
    "### Tax Benefit System"
   ]
  },
  {
   "cell_type": "code",
   "execution_count": null,
   "metadata": {},
   "outputs": [],
   "source": [
    "tax_benefit_system = SenegalTaxBenefitSystem()"
   ]
  },
  {
   "cell_type": "markdown",
   "metadata": {},
   "source": [
    "### Entities"
   ]
  },
  {
   "cell_type": "code",
   "execution_count": null,
   "metadata": {},
   "outputs": [],
   "source": [
    "tax_benefit_system.entities"
   ]
  },
  {
   "cell_type": "code",
   "execution_count": null,
   "metadata": {},
   "outputs": [],
   "source": [
    "[entity.key for entity in tax_benefit_system.entities]"
   ]
  },
  {
   "cell_type": "code",
   "execution_count": null,
   "metadata": {},
   "outputs": [],
   "source": [
    "tax_benefit_system.entities"
   ]
  },
  {
   "cell_type": "markdown",
   "metadata": {},
   "source": [
    "### Variables "
   ]
  },
  {
   "cell_type": "code",
   "execution_count": null,
   "metadata": {},
   "outputs": [],
   "source": [
    "tax_benefit_system.variables"
   ]
  },
  {
   "cell_type": "code",
   "execution_count": null,
   "metadata": {},
   "outputs": [],
   "source": [
    "sorted(tax_benefit_system.variables.keys())"
   ]
  },
  {
   "cell_type": "code",
   "execution_count": null,
   "metadata": {},
   "outputs": [],
   "source": [
    "import inspect\n",
    "for name, variable in sorted(tax_benefit_system.variables.items()):\n",
    "    print(name)\n",
    "    if not variable.is_input_variable():\n",
    "        formula = variable.get_formula('2017')\n",
    "        source_code = inspect.getsourcelines(formula)[0]\n",
    "        print(''.join(source_code))\n",
    "    print('')"
   ]
  },
  {
   "cell_type": "markdown",
   "metadata": {},
   "source": [
    "### Parameters"
   ]
  },
  {
   "cell_type": "code",
   "execution_count": null,
   "metadata": {},
   "outputs": [],
   "source": [
    "print(tax_benefit_system.parameters)"
   ]
  },
  {
   "cell_type": "code",
   "execution_count": null,
   "metadata": {},
   "outputs": [],
   "source": [
    "parameters = tax_benefit_system.parameters(2017)"
   ]
  },
  {
   "cell_type": "code",
   "execution_count": null,
   "metadata": {},
   "outputs": [],
   "source": [
    "parameters.prelevements_obligatoires.impots_directs.bareme_impot_progressif"
   ]
  },
  {
   "cell_type": "markdown",
   "metadata": {},
   "source": [
    "## A simple test case scenario"
   ]
  },
  {
   "cell_type": "markdown",
   "metadata": {},
   "source": [
    "### Basics"
   ]
  },
  {
   "cell_type": "code",
   "execution_count": null,
   "metadata": {},
   "outputs": [],
   "source": [
    "scenario = tax_benefit_system.new_scenario()\n",
    "scenario"
   ]
  },
  {
   "cell_type": "code",
   "execution_count": null,
   "metadata": {},
   "outputs": [],
   "source": [
    "init_single_entity(\n",
    "    scenario,\n",
    "    parent1 = {\n",
    "        'salaire': 2800000,\n",
    "        'est_marie': True,\n",
    "        'conjoint_a_des_revenus': False,\n",
    "        'nombre_enfants': 1,\n",
    "        },\n",
    "    period = '2017',\n",
    "    )"
   ]
  },
  {
   "cell_type": "code",
   "execution_count": null,
   "metadata": {},
   "outputs": [],
   "source": [
    "simulation = scenario.new_simulation()"
   ]
  },
  {
   "cell_type": "code",
   "execution_count": null,
   "metadata": {},
   "outputs": [],
   "source": [
    "simulation.calculate('salaire', period = '2017')"
   ]
  },
  {
   "cell_type": "code",
   "execution_count": null,
   "metadata": {},
   "outputs": [],
   "source": [
    "simulation.calculate('impot_revenus', period = '2017')"
   ]
  },
  {
   "cell_type": "markdown",
   "metadata": {},
   "source": [
    "### Application: a simple function to compute the tax gain for having a child"
   ]
  },
  {
   "cell_type": "code",
   "execution_count": null,
   "metadata": {},
   "outputs": [],
   "source": [
    "def tax_gain(salaire = 0, est_marie = False, conjoint_a_des_revenus = False, \n",
    "             nombre_enfants = 0):\n",
    "    period = '2017'\n",
    "    parent1_before = {\n",
    "        'salaire': salaire,\n",
    "        'est_marie': est_marie,\n",
    "        'conjoint_a_des_revenus': conjoint_a_des_revenus,\n",
    "        'nombre_enfants': nombre_enfants,\n",
    "        }\n",
    "    simulation_before = init_single_entity(\n",
    "        tax_benefit_system.new_scenario(),\n",
    "        parent1 = parent1_before,\n",
    "        period = period,\n",
    "        ).new_simulation()\n",
    "    parent1_after = parent1_before.copy()\n",
    "    parent1_after['nombre_enfants'] += 1\n",
    "    simulation_after = init_single_entity(\n",
    "        tax_benefit_system.new_scenario(),\n",
    "        parent1 = parent1_after,\n",
    "        period = period,\n",
    "        ).new_simulation()\n",
    "    difference = simulation_after.calculate('impot_revenus', period) - simulation_before.calculate('impot_revenus', period)\n",
    "    return -difference\n",
    "                                                                                            "
   ]
  },
  {
   "cell_type": "code",
   "execution_count": null,
   "metadata": {},
   "outputs": [],
   "source": [
    "tax_gain(salaire = 2800000)"
   ]
  },
  {
   "cell_type": "code",
   "execution_count": null,
   "metadata": {},
   "outputs": [],
   "source": [
    "tax_gain(salaire = 2800000, nombre_enfants = 2)"
   ]
  },
  {
   "cell_type": "code",
   "execution_count": null,
   "metadata": {},
   "outputs": [],
   "source": [
    "[tax_gain(salaire = 2800000, nombre_enfants = n) for n in range(8)]"
   ]
  },
  {
   "cell_type": "markdown",
   "metadata": {},
   "source": [
    "## More complex scenario: varying revenue "
   ]
  },
  {
   "cell_type": "markdown",
   "metadata": {},
   "source": [
    "### Basics"
   ]
  },
  {
   "cell_type": "code",
   "execution_count": null,
   "metadata": {},
   "outputs": [],
   "source": [
    "year = 2017\n",
    "simulation = init_single_entity(\n",
    "    tax_benefit_system.new_scenario(),\n",
    "    parent1 = {\n",
    "        'est_marie': True,\n",
    "        'conjoint_a_des_revenus': False,\n",
    "        'nombre_enfants': 0,\n",
    "        },\n",
    "    period = year,\n",
    "    axes = [[\n",
    "        {\n",
    "            'count': 100,\n",
    "            'min': 0,\n",
    "            'max': 15e6,\n",
    "            'name': 'salaire',\n",
    "            }\n",
    "        ]],\n",
    "    ).new_simulation()\n",
    "salaire = simulation.calculate('salaire', period = year)\n",
    "reduction_impots_pour_charge_famille = simulation.calculate('reduction_impots_pour_charge_famille', period = year)\n",
    "impot_avant_reduction_famille = simulation.calculate('impot_avant_reduction_famille', period = year)\n",
    "impot_revenus = simulation.calculate('impot_revenus', period = year)"
   ]
  },
  {
   "cell_type": "code",
   "execution_count": null,
   "metadata": {},
   "outputs": [],
   "source": [
    "len(reduction_impots_pour_charge_famille)"
   ]
  },
  {
   "cell_type": "code",
   "execution_count": null,
   "metadata": {},
   "outputs": [],
   "source": [
    "plt.figure(figsize=(12, 8))\n",
    "plt.plot(salaire, impot_avant_reduction_famille, label='avant réduction famille')\n",
    "plt.plot(salaire, reduction_impots_pour_charge_famille, label='réduction famille')\n",
    "plt.plot(salaire, impot_revenus, label='impôt revenus')\n",
    "plt.xlabel('Salaire')\n",
    "plt.legend()\n",
    "plt.title('0 enfants', fontsize=20)"
   ]
  },
  {
   "cell_type": "markdown",
   "metadata": {},
   "source": [
    "### Application: by how much the tax gain for having a child varies with revenue"
   ]
  },
  {
   "cell_type": "markdown",
   "metadata": {},
   "source": [
    "#### Write the function `tax_gain_varying_revenue` that computes the gain of having a child as a function of the revenue"
   ]
  },
  {
   "cell_type": "code",
   "execution_count": null,
   "metadata": {},
   "outputs": [],
   "source": [
    "def tax_gain_varying_revenue(max_salaire = 0, est_marie = False, conjoint_a_des_revenus = False, \n",
    "                             nombre_enfants = 0):\n",
    "    TODO\n",
    "    return salaire, -difference"
   ]
  },
  {
   "cell_type": "code",
   "execution_count": null,
   "metadata": {},
   "outputs": [],
   "source": [
    "salaire, gain = tax_gain_varying_revenue(max_salaire = 15e6)"
   ]
  },
  {
   "cell_type": "code",
   "execution_count": null,
   "metadata": {},
   "outputs": [],
   "source": [
    "plt.figure(figsize=(12, 8))\n",
    "plt.plot(salaire, gain, label='Gain fiscal')\n",
    "plt.xlabel('Salaire')\n",
    "plt.legend()\n",
    "plt.title('Gain fiscal au 1er enfant', fontsize=20)"
   ]
  },
  {
   "cell_type": "markdown",
   "metadata": {},
   "source": [
    "#### Write a loop to plot the gain for several children"
   ]
  },
  {
   "cell_type": "code",
   "execution_count": null,
   "metadata": {},
   "outputs": [],
   "source": [
    "plt.figure(figsize=(12, 8))\n",
    "TODO\n",
    "plt.xlabel('Salaire')\n",
    "plt.legend()\n",
    "plt.title(\"Gain fiscal selon le rang de l'enfant\", fontsize=20)\n"
   ]
  },
  {
   "cell_type": "markdown",
   "metadata": {},
   "source": [
    "## Tax rates"
   ]
  },
  {
   "cell_type": "markdown",
   "metadata": {},
   "source": [
    "### Average tax rate"
   ]
  },
  {
   "cell_type": "code",
   "execution_count": null,
   "metadata": {},
   "outputs": [],
   "source": [
    "simulation = init_single_entity(\n",
    "    tax_benefit_system.new_scenario(),\n",
    "    parent1 = {\n",
    "        'est_marie': True,\n",
    "        'conjoint_a_des_revenus': False,\n",
    "        'nombre_enfants': 0,\n",
    "        },\n",
    "    period = year,\n",
    "    axes = [[\n",
    "        {\n",
    "            'count': 100,\n",
    "            'min': 0,\n",
    "            'max': 18e6,\n",
    "            'name': 'salaire',\n",
    "            }\n",
    "        ]],\n",
    "    ).new_simulation()\n",
    "salaire = simulation.calculate('salaire', period = year)\n",
    "impot = simulation.calculate('impot_revenus', period = year)"
   ]
  },
  {
   "cell_type": "code",
   "execution_count": null,
   "metadata": {},
   "outputs": [],
   "source": [
    "plt.plot(salaire, impot)\n",
    "plt.ylabel(u\"Impôt sur les revenus\")\n",
    "plt.xlabel(u\"Salaire\")"
   ]
  },
  {
   "cell_type": "code",
   "execution_count": null,
   "metadata": {},
   "outputs": [],
   "source": [
    "taux_moyen = impot / salaire  # Average tax rate"
   ]
  },
  {
   "cell_type": "code",
   "execution_count": null,
   "metadata": {},
   "outputs": [],
   "source": [
    "taux_moyen = impot / (salaire * (salaire != 0) + (salaire == 0) )  "
   ]
  },
  {
   "cell_type": "code",
   "execution_count": null,
   "metadata": {},
   "outputs": [],
   "source": [
    "plt.plot(salaire, taux_moyen)\n",
    "plt.ylabel(\"Taux moyen\")\n",
    "plt.xlabel(\"Salaire\")"
   ]
  },
  {
   "cell_type": "markdown",
   "metadata": {},
   "source": [
    "### Marginal tax rate"
   ]
  },
  {
   "cell_type": "code",
   "execution_count": null,
   "metadata": {},
   "outputs": [],
   "source": [
    "taux_marginal =  (impot[:-1] - impot[1:]) / (salaire[:-1] - salaire[1:] )  # We avoid the first point"
   ]
  },
  {
   "cell_type": "code",
   "execution_count": null,
   "metadata": {},
   "outputs": [],
   "source": [
    "plt.plot(salaire[:-1], taux_marginal)"
   ]
  },
  {
   "cell_type": "markdown",
   "metadata": {},
   "source": [
    "#### Exercice: how marginal and average tax rate compare at infinity"
   ]
  },
  {
   "cell_type": "markdown",
   "metadata": {},
   "source": [
    "### Add a new variable and use dedicated functions"
   ]
  },
  {
   "cell_type": "markdown",
   "metadata": {},
   "source": [
    "Add a disposable income variable to the tax-benefit-system"
   ]
  },
  {
   "cell_type": "code",
   "execution_count": null,
   "metadata": {},
   "outputs": [],
   "source": [
    "from openfisca_core.model_api import *\n",
    "from openfisca_senegal.entities import Person\n",
    "\n",
    "tax_benefit_system = SenegalTaxBenefitSystem()\n",
    "\n",
    "class revenu_disponible(Variable):\n",
    "    definition_period = YEAR\n",
    "    entity = Person\n",
    "    value_type = float\n",
    "\n",
    "    def formula(person, period):\n",
    "        salaire = person('salaire', period)\n",
    "        impot_revenus = person('impot_revenus', period)\n",
    "        return salaire - impot_revenus\n",
    "\n",
    "\n",
    "tax_benefit_system.add_variable(revenu_disponible)\n"
   ]
  },
  {
   "cell_type": "code",
   "execution_count": null,
   "metadata": {},
   "outputs": [],
   "source": [
    "simulation = init_single_entity(\n",
    "    tax_benefit_system.new_scenario(),\n",
    "    parent1 = {\n",
    "        'est_marie': True,\n",
    "        'conjoint_a_des_revenus': False,\n",
    "        'nombre_enfants': 0,\n",
    "        },\n",
    "    period = '2017',\n",
    "    axes = [[\n",
    "        {\n",
    "            'count': 100,\n",
    "            'min': 0,\n",
    "            'max': 18e6,\n",
    "            'name': 'salaire',\n",
    "            }\n",
    "        ]],\n",
    "    ).new_simulation()\n",
    "salaire = simulation.calculate('salaire', period = year)\n",
    "impot = simulation.calculate('impot_revenus', period = year)\n",
    "revenu_disponible = simulation.calculate('revenu_disponible', period = year)"
   ]
  },
  {
   "cell_type": "code",
   "execution_count": null,
   "metadata": {},
   "outputs": [],
   "source": [
    "from openfisca_core.rates import average_rate, marginal_rate\n",
    "plt.plot(salaire[1:], average_rate(revenu_disponible[1:], salaire[1:]))\n",
    "plt.plot(salaire[1:], marginal_rate(revenu_disponible, salaire))"
   ]
  },
  {
   "cell_type": "markdown",
   "metadata": {},
   "source": [
    "## Reforming the tax-benefit system"
   ]
  },
  {
   "cell_type": "markdown",
   "metadata": {},
   "source": [
    "### Parametric reform"
   ]
  },
  {
   "cell_type": "code",
   "execution_count": null,
   "metadata": {},
   "outputs": [],
   "source": [
    "def modify_parameters(parameters):\n",
    "    parameters.prelevements_obligatoires.impots_directs.bareme_impot_progressif[5].rate.update(period = period(year), value = .5)\n",
    "    return parameters\n",
    "    \n",
    "class tax_the_rich(Reform):\n",
    "    name = u\"Tax last bracket at 50%\"\n",
    "\n",
    "    def apply(self):\n",
    "        self.modify_parameters(modifier_function = modify_parameters)"
   ]
  },
  {
   "cell_type": "code",
   "execution_count": null,
   "metadata": {},
   "outputs": [],
   "source": [
    "reform = tax_the_rich(tax_benefit_system)"
   ]
  },
  {
   "cell_type": "code",
   "execution_count": null,
   "metadata": {},
   "outputs": [],
   "source": [
    "simulation = init_single_entity(\n",
    "    reform.new_scenario(),\n",
    "    parent1 = {\n",
    "        'est_marie': True,\n",
    "        'conjoint_a_des_revenus': False,\n",
    "        'nombre_enfants': 0,\n",
    "        },\n",
    "    period = year,\n",
    "    axes = [[\n",
    "        {\n",
    "            'count': 100,\n",
    "            'min': 0,\n",
    "            'max': 18e6,\n",
    "            'name': 'salaire',\n",
    "            }\n",
    "        ]],\n",
    "    ).new_simulation()\n",
    "salaire = simulation.calculate('salaire', period = year)\n",
    "impot = simulation.calculate('impot_revenus', period = year)\n",
    "taux_marginal =  (impot[:-1] - impot[1:]) / (salaire[:-1] - salaire[1:] )  # We avoid the first point\n",
    "plt.plot(salaire[:-1], taux_marginal)"
   ]
  },
  {
   "cell_type": "markdown",
   "metadata": {},
   "source": [
    "### Structural Reform"
   ]
  },
  {
   "cell_type": "markdown",
   "metadata": {},
   "source": [
    "#### Exercice: add a an amount threshold under which no tax is due"
   ]
  },
  {
   "cell_type": "code",
   "execution_count": null,
   "metadata": {},
   "outputs": [],
   "source": [
    "def build_structural_reform(seuil = 10000):    \n",
    "    tax_benefit_system = SenegalTaxBenefitSystem()\n",
    "    \n",
    "    class impot_revenus(Variable):\n",
    "        def formula(individu, period):\n",
    "            # TODO rewrite a new impot_revenus wich have a non-payment threshold (seuil)\n",
    "            \n",
    "    class revenu_disponible(Variable):\n",
    "        definition_period = YEAR\n",
    "        entity = Person\n",
    "        value_type = float\n",
    "\n",
    "        def formula(person, period):\n",
    "            salaire = person('salaire', period)\n",
    "            impot_revenus = person('impot_revenus', period)\n",
    "            return salaire - impot_revenus\n",
    "\n",
    "    class structural_reform(Reform):\n",
    "        name = u\"Seuil de non-versement: {}\".format(seuil)\n",
    "\n",
    "        def apply(self):\n",
    "            self.update_variable(impot_revenus)\n",
    "            self.add_variable(revenu_disponible)\n",
    "\n",
    "    return structural_reform(tax_benefit_system)"
   ]
  },
  {
   "cell_type": "code",
   "execution_count": null,
   "metadata": {},
   "outputs": [],
   "source": [
    "structural_reform = build_structural_reform(seuil = 100000)\n",
    "simulation = init_single_entity(\n",
    "    structural_reform.new_scenario(),\n",
    "    parent1 = {\n",
    "        'est_marie': True,\n",
    "        'conjoint_a_des_revenus': False,\n",
    "        'nombre_enfants': 0,\n",
    "        },\n",
    "    period = '2017',\n",
    "    axes = [[\n",
    "        {\n",
    "            'count': 100,\n",
    "            'min': 0,\n",
    "            'max': 18e6,\n",
    "            'name': 'salaire',\n",
    "            }\n",
    "        ]],\n",
    "    ).new_simulation()\n",
    "salaire = simulation.calculate('salaire', period = year)\n",
    "impot_verse = simulation.calculate('impot_revenus', period = year)\n",
    "revenu_disponible = simulation.calculate('revenu_disponible', period = year)"
   ]
  },
  {
   "cell_type": "code",
   "execution_count": null,
   "metadata": {},
   "outputs": [],
   "source": [
    "plt.plot(salaire, impot_verse)\n",
    "plt.ylabel(u\"Impôt sur les revenus\")\n",
    "plt.xlabel(u\"Salaire\")"
   ]
  },
  {
   "cell_type": "code",
   "execution_count": null,
   "metadata": {},
   "outputs": [],
   "source": [
    "plt.plot(salaire[1:], average_rate(revenu_disponible[1:], salaire[1:]))\n",
    "plt.plot(salaire[1:], marginal_rate(revenu_disponible, salaire))"
   ]
  }
 ],
 "metadata": {
  "kernelspec": {
   "display_name": "Python 3 (ipykernel)",
   "language": "python",
   "name": "python3"
  },
  "language_info": {
   "codemirror_mode": {
    "name": "ipython",
    "version": 3
   },
   "file_extension": ".py",
   "mimetype": "text/x-python",
   "name": "python",
   "nbconvert_exporter": "python",
   "pygments_lexer": "ipython3",
   "version": "3.8.10"
  }
 },
 "nbformat": 4,
 "nbformat_minor": 4
}
