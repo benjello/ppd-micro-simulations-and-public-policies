{
 "cells": [
  {
   "cell_type": "markdown",
   "metadata": {
    "collapsed": false,
    "scrolled": true
   },
   "source": [
    "# Microsimulation with artificial survey data "
   ]
  },
  {
   "cell_type": "code",
   "execution_count": 1,
   "metadata": {
    "collapsed": false
   },
   "outputs": [],
   "source": [
    "import matplotlib.pyplot as plt  # For graphics\n",
    "%matplotlib inline\n",
    "\n",
    "import numpy as np  # linear algebra and math\n",
    "import pandas as pd  # data frames\n",
    "\n",
    "from openfisca_core.model_api import *\n",
    "from openfisca_senegal import SenegalTaxBenefitSystem  # The Senegalese tax-benefits system\n",
    "\n",
    "from openfisca_senegal.survey_scenarios import SenegalSurveyScenario"
   ]
  },
  {
   "cell_type": "markdown",
   "metadata": {},
   "source": [
    "## Building the artificial data"
   ]
  },
  {
   "cell_type": "markdown",
   "metadata": {},
   "source": [
    "Sénégal is composed by almost 15 millions people dispatched in around 1.6 million household"
   ]
  },
  {
   "cell_type": "code",
   "execution_count": 2,
   "metadata": {
    "collapsed": false
   },
   "outputs": [
    {
     "name": "stdout",
     "output_type": "stream",
     "text": [
      "Size of the sample: 16000\n"
     ]
    }
   ],
   "source": [
    "household_weight = 100\n",
    "size = int(1.6e6 / household_weight)\n",
    "print \"Size of the sample: {}\".format(size)\n",
    "np.random.seed(seed = 42)"
   ]
  },
  {
   "cell_type": "markdown",
   "metadata": {},
   "source": [
    "We assume that 2/3 of the household heads are married and that only married houshold do have children. The mean number of children per household is 5 and is normally distributed"
   ]
  },
  {
   "cell_type": "code",
   "execution_count": 3,
   "metadata": {
    "collapsed": true
   },
   "outputs": [],
   "source": [
    "est_marie = np.random.binomial(1, .66, size = size)\n",
    "est_celibataire = np.logical_not(est_marie)\n",
    "nombre_enfants = np.maximum(\n",
    "    est_marie * np.round(np.random.normal(5, scale = 3, size = size)),\n",
    "    0,\n",
    "    )"
   ]
  },
  {
   "cell_type": "markdown",
   "metadata": {},
   "source": [
    "We assume that 80% of the population are wage earners.\n",
    "We choose a mean wage of 5 000 0000 CFA with a log normal ditribution.\n",
    "Since \n",
    "$$ \\text{mean wage}  = e^{\\mu + \\frac{\\sigma ^ 2}{2}} $$ \n",
    "and\n",
    "$$ \\text{median wage} = e^\\mu $$\n",
    "we can compute the distribution according to the following expressions."
   ]
  },
  {
   "cell_type": "code",
   "execution_count": 4,
   "metadata": {
    "collapsed": true
   },
   "outputs": [],
   "source": [
    "mean_wage = 5e6\n",
    "median_wage = .75 * mean_wage\n",
    "est_salarie = np.random.binomial(1, .8, size = size)\n",
    "mu = np.log(median_wage)\n",
    "sigma = np.sqrt(2 * np.log(mean_wage / median_wage))\n",
    "salaire = (\n",
    "    est_salarie * \n",
    "    np.random.lognormal(mean = mu, sigma = sigma, size = int(size))\n",
    "    )\n"
   ]
  },
  {
   "cell_type": "markdown",
   "metadata": {},
   "source": [
    "We choose a mean pension of 2 500 000 CFA"
   ]
  },
  {
   "cell_type": "code",
   "execution_count": 5,
   "metadata": {
    "collapsed": false
   },
   "outputs": [],
   "source": [
    "mean_pension = 2.5e6\n",
    "median_pension = .9 * mean_pension"
   ]
  },
  {
   "cell_type": "code",
   "execution_count": 6,
   "metadata": {
    "collapsed": false
   },
   "outputs": [],
   "source": [
    "mu = np.log(median_pension)\n",
    "sigma = np.sqrt(2 * np.log(mean_pension / median_pension))\n",
    "pension_retraite = (\n",
    "    np.logical_not(est_salarie) *\n",
    "    np.random.lognormal(mean = mu, sigma = sigma, size = int(size))\n",
    "    )"
   ]
  },
  {
   "cell_type": "code",
   "execution_count": 7,
   "metadata": {
    "collapsed": false
   },
   "outputs": [],
   "source": [
    "input_data_frame = pd.DataFrame({\n",
    "    'est_marie': est_marie,\n",
    "    'est_celibataire': est_celibataire,\n",
    "    'nombre_enfants': nombre_enfants,\n",
    "    'pension_retraite': pension_retraite,\n",
    "    'salaire': salaire,\n",
    "    'id_famille': range(size),\n",
    "    'role_famille': 0,\n",
    "    })"
   ]
  },
  {
   "cell_type": "code",
   "execution_count": 8,
   "metadata": {
    "collapsed": false
   },
   "outputs": [
    {
     "data": {
      "text/plain": [
       "<matplotlib.axes._subplots.AxesSubplot at 0x7f68df3aa3d0>"
      ]
     },
     "execution_count": 8,
     "metadata": {},
     "output_type": "execute_result"
    },
    {
     "data": {
      "image/png": "[encoded data removed]",
      "text/plain": [
       "<matplotlib.figure.Figure at 0x7f6918312f10>"
      ]
     },
     "metadata": {},
     "output_type": "display_data"
    }
   ],
   "source": [
    "input_data_frame.salaire.hist(bins=100)"
   ]
  },
  {
   "cell_type": "code",
   "execution_count": 9,
   "metadata": {
    "collapsed": false
   },
   "outputs": [
    {
     "data": {
      "text/plain": [
       "<matplotlib.axes._subplots.AxesSubplot at 0x7f68df2d25d0>"
      ]
     },
     "execution_count": 9,
     "metadata": {},
     "output_type": "execute_result"
    },
    {
     "data": {
      "image/png": "[encoded data removed]",
      "text/plain": [
       "<matplotlib.figure.Figure at 0x7f68df389dd0>"
      ]
     },
     "metadata": {},
     "output_type": "display_data"
    }
   ],
   "source": [
    "input_data_frame.pension_retraite.hist(bins=100, range = [.0001, 1e8])"
   ]
  },
  {
   "cell_type": "markdown",
   "metadata": {},
   "source": [
    "## Microsimulation "
   ]
  },
  {
   "cell_type": "markdown",
   "metadata": {},
   "source": [
    "As with test case, we can build a scenario with survey data"
   ]
  },
  {
   "cell_type": "code",
   "execution_count": 10,
   "metadata": {
    "collapsed": false
   },
   "outputs": [
    {
     "name": "stderr",
     "output_type": "stream",
     "text": [
      "/home/benjello/openfisca/openfisca-core/openfisca_core/simulations.py:227: Warning: The simulation.get_or_new_holder method has been deprecated. Please use entity.get_holder instead.\n",
      "  Warning\n"
     ]
    }
   ],
   "source": [
    "scenario = SenegalSurveyScenario(\n",
    "    input_data_frame=input_data_frame, year = 2017\n",
    "    )"
   ]
  },
  {
   "cell_type": "markdown",
   "metadata": {},
   "source": [
    "We can compute the value of any variable for the whole population an draw distributions"
   ]
  },
  {
   "cell_type": "code",
   "execution_count": 11,
   "metadata": {
    "collapsed": false
   },
   "outputs": [
    {
     "data": {
      "text/plain": [
       "array([     0., 221100., 974400., ..., 233100., 933800., 309600.],\n",
       "      dtype=float32)"
      ]
     },
     "execution_count": 11,
     "metadata": {},
     "output_type": "execute_result"
    }
   ],
   "source": [
    "scenario.simulation.calculate('impot_revenus', period = 2017)"
   ]
  },
  {
   "cell_type": "code",
   "execution_count": 12,
   "metadata": {
    "collapsed": false
   },
   "outputs": [],
   "source": [
    "df = pd.DataFrame({'impot_revenus': scenario.simulation.calculate('impot_revenus', period = 2017)})"
   ]
  },
  {
   "cell_type": "code",
   "execution_count": 13,
   "metadata": {
    "collapsed": false
   },
   "outputs": [
    {
     "data": {
      "text/plain": [
       "array([[<matplotlib.axes._subplots.AxesSubplot object at 0x7f68df251ed0>]],\n",
       "      dtype=object)"
      ]
     },
     "execution_count": 13,
     "metadata": {},
     "output_type": "execute_result"
    },
    {
     "data": {
      "image/png": "[encoded data removed]",
      "text/plain": [
       "<matplotlib.figure.Figure at 0x7f68d9782210>"
      ]
     },
     "metadata": {},
     "output_type": "display_data"
    }
   ],
   "source": [
    "df.hist(bins = 100)"
   ]
  },
  {
   "cell_type": "markdown",
   "metadata": {},
   "source": [
    "Special methods allow access to aggregates and pivot tables"
   ]
  },
  {
   "cell_type": "code",
   "execution_count": 14,
   "metadata": {
    "collapsed": false
   },
   "outputs": [
    {
     "data": {
      "text/plain": [
       "9.67353344"
      ]
     },
     "execution_count": 14,
     "metadata": {},
     "output_type": "execute_result"
    }
   ],
   "source": [
    "scenario.compute_aggregate('impot_revenus') / 1e9"
   ]
  },
  {
   "cell_type": "code",
   "execution_count": 15,
   "metadata": {
    "collapsed": false
   },
   "outputs": [
    {
     "data": {
      "text/plain": [
       "<matplotlib.axes._subplots.AxesSubplot at 0x7f68d9637d90>"
      ]
     },
     "execution_count": 15,
     "metadata": {},
     "output_type": "execute_result"
    },
    {
     "data": {
      "image/png": "[encoded data removed]",
      "text/plain": [
       "<matplotlib.figure.Figure at 0x7f68d9684310>"
      ]
     },
     "metadata": {},
     "output_type": "display_data"
    }
   ],
   "source": [
    "scenario.compute_pivot_table(\n",
    "    aggfunc = 'sum', \n",
    "    values = ['impot_revenus'], \n",
    "    columns = ['nombre_enfants'],\n",
    "    period = 2017,\n",
    "    ).stack().reset_index().plot(x = 'nombre_enfants', kind = 'bar')"
   ]
  },
  {
   "cell_type": "markdown",
   "metadata": {
    "collapsed": true
   },
   "source": [
    "# Evaluate the financial impact of a reform"
   ]
  },
  {
   "cell_type": "markdown",
   "metadata": {
    "collapsed": true
   },
   "source": [
    "Write a parametric reform tthat increseases the top marginal tax rates and evaluate how much revenue can be collected"
   ]
  },
  {
   "cell_type": "code",
   "execution_count": 16,
   "metadata": {
    "collapsed": false
   },
   "outputs": [],
   "source": [
    "year = 2017\n",
    "def modify_parameters(parameters):\n",
    "    parameters.bareme_impot_progressif[5].rate.update(period = period(year), value = .5)\n",
    "    return parameters\n",
    "    \n",
    "class tax_the_rich(Reform):\n",
    "    name = u\"Tax last bracket at 50%\"\n",
    "\n",
    "    def apply(self):\n",
    "        self.modify_parameters(modifier_function = modify_parameters)"
   ]
  },
  {
   "cell_type": "code",
   "execution_count": 17,
   "metadata": {
    "collapsed": false
   },
   "outputs": [],
   "source": [
    "senegal_tax_benefit_system = SenegalTaxBenefitSystem()\n",
    "tax_the_rich_tax_benefit_system = tax_the_rich(senegal_tax_benefit_system)"
   ]
  },
  {
   "cell_type": "code",
   "execution_count": 18,
   "metadata": {
    "collapsed": false
   },
   "outputs": [],
   "source": [
    "scenario = SenegalSurveyScenario(\n",
    "    input_data_frame = input_data_frame,\n",
    "    tax_benefit_system = tax_the_rich_tax_benefit_system,\n",
    "    baseline_tax_benefit_system = senegal_tax_benefit_system,\n",
    "    year = 2017,\n",
    "    )"
   ]
  },
  {
   "cell_type": "code",
   "execution_count": 19,
   "metadata": {
    "collapsed": false
   },
   "outputs": [
    {
     "name": "stdout",
     "output_type": "stream",
     "text": [
      "reform tax the rich:  9.931257856\n",
      "baseline:  9.67353344\n"
     ]
    }
   ],
   "source": [
    "print 'reform tax the rich: ', scenario.compute_aggregate('impot_revenus') / 1e9\n",
    "print 'baseline: ', scenario.compute_aggregate('impot_revenus', use_baseline = True) / 1e9"
   ]
  },
  {
   "cell_type": "code",
   "execution_count": 20,
   "metadata": {
    "collapsed": false
   },
   "outputs": [],
   "source": [
    "from openfisca_senegal.entities import Individu\n",
    "\n",
    "def build_ultimate_reform_tax_benefit_system(threshold = 0, marginal_tax_rate = .4):\n",
    "    year = 2017\n",
    "\n",
    "    senegal_tax_benefit_system = SenegalTaxBenefitSystem()\n",
    "    class impot_revenus(Variable):\n",
    "        def formula(individu, period):\n",
    "            impot_avant_reduction_famille = individu('impot_avant_reduction_famille', period)\n",
    "            reduction_impots_pour_charge_famille = individu('reduction_impots_pour_charge_famille', period)\n",
    "            impot_apres_reduction_famille = impot_avant_reduction_famille - reduction_impots_pour_charge_famille\n",
    "            impot_revenus = max_(0, impot_apres_reduction_famille)\n",
    "            return impot_revenus * (impot_revenus > threshold)            \n",
    "\n",
    "    def modify_parameters(parameters):\n",
    "        parameters.bareme_impot_progressif[5].rate.update(period = period(year), value = marginal_tax_rate)\n",
    "        return parameters\n",
    "\n",
    "\n",
    "    class ultimate_reform(Reform):\n",
    "        name = u\"Tax the rich and save the poor taxpayers (tax < {})\".format(threshold)\n",
    "\n",
    "        def apply(self):\n",
    "            self.update_variable(impot_revenus)\n",
    "            self.modify_parameters(modifier_function = modify_parameters)\n",
    "\n",
    "    return ultimate_reform(senegal_tax_benefit_system)"
   ]
  },
  {
   "cell_type": "code",
   "execution_count": 21,
   "metadata": {
    "collapsed": false
   },
   "outputs": [],
   "source": [
    "reformed_tax_benefit_system = build_ultimate_reform_tax_benefit_system(threshold = 100000, marginal_tax_rate = .45)"
   ]
  },
  {
   "cell_type": "code",
   "execution_count": 22,
   "metadata": {
    "collapsed": true
   },
   "outputs": [],
   "source": [
    "scenario = SenegalSurveyScenario(\n",
    "    input_data_frame = input_data_frame,\n",
    "    tax_benefit_system = reformed_tax_benefit_system,\n",
    "    baseline_tax_benefit_system = SenegalTaxBenefitSystem(),\n",
    "    year = 2017\n",
    "    )"
   ]
  },
  {
   "cell_type": "code",
   "execution_count": 23,
   "metadata": {
    "collapsed": false
   },
   "outputs": [
    {
     "name": "stdout",
     "output_type": "stream",
     "text": [
      "reform:  9.753219072\n",
      "baseline:  9.67353344\n"
     ]
    }
   ],
   "source": [
    "print 'reform: ', scenario.compute_aggregate('impot_revenus') / 1e9\n",
    "print 'baseline: ', scenario.compute_aggregate('impot_revenus', use_baseline = True) / 1e9"
   ]
  },
  {
   "cell_type": "code",
   "execution_count": 24,
   "metadata": {
    "collapsed": false
   },
   "outputs": [
    {
     "name": "stdout",
     "output_type": "stream",
     "text": [
      "9.753219072\n",
      "9.67353344\n",
      "-0.079685632\n"
     ]
    }
   ],
   "source": [
    "scenario = SenegalSurveyScenario(\n",
    "    input_data_frame = input_data_frame,\n",
    "    tax_benefit_system = reformed_tax_benefit_system,\n",
    "    baseline_tax_benefit_system =  SenegalTaxBenefitSystem(),\n",
    "    year = 2017\n",
    "    )\n",
    "print scenario.compute_aggregate('impot_revenus') / 1e9\n",
    "print scenario.compute_aggregate('impot_revenus', use_baseline = True) / 1e9\n",
    "cost = - (\n",
    "    scenario.compute_aggregate('impot_revenus') -\n",
    "    scenario.compute_aggregate('impot_revenus', use_baseline = True)\n",
    "    ) / 1e9\n",
    "print cost"
   ]
  },
  {
   "cell_type": "code",
   "execution_count": 29,
   "metadata": {
    "collapsed": true
   },
   "outputs": [],
   "source": [
    "def compute_reform_cost(threshold = 0, marginal_tax_rate = .4):\n",
    "    reformed_tax_benefit_system = build_ultimate_reform_tax_benefit_system(\n",
    "        threshold = threshold, \n",
    "        marginal_tax_rate = float(marginal_tax_rate)  \n",
    "        # We need to convert to float here since fsolve use numpy array which are not accepted as \n",
    "        # legislation parameters\n",
    "        )\n",
    "    scenario = SenegalSurveyScenario(\n",
    "        input_data_frame = input_data_frame,\n",
    "        tax_benefit_system = reformed_tax_benefit_system,\n",
    "        baseline_tax_benefit_system = SenegalTaxBenefitSystem(),\n",
    "        year = 2017\n",
    "        )\n",
    "    cost = - (\n",
    "        scenario.compute_aggregate('impot_revenus') - \n",
    "        scenario.compute_aggregate('impot_revenus', use_baseline = True)\n",
    "        ) / 1e9\n",
    "    return cost"
   ]
  },
  {
   "cell_type": "code",
   "execution_count": 30,
   "metadata": {
    "collapsed": false
   },
   "outputs": [],
   "source": [
    "def compute_reform_cost_from_marginal_tax_rate(marginal_tax_rate = .4):\n",
    "    return compute_reform_cost(threshold = 100000, marginal_tax_rate = marginal_tax_rate)\n",
    "\n",
    "def compute_reform_cost_from_threshold(threshold = 0):\n",
    "    return compute_reform_cost(threshold = threshold, marginal_tax_rate = .41)\n"
   ]
  },
  {
   "cell_type": "code",
   "execution_count": 31,
   "metadata": {
    "collapsed": false
   },
   "outputs": [
    {
     "name": "stdout",
     "output_type": "stream",
     "text": [
      "balancing_marginal_tax_rate to finance a 100000 threshold: 0.419019490953\n",
      "balancing_threshold financed by an increase from 40% to 41%: 71639.9381365\n"
     ]
    }
   ],
   "source": [
    "from scipy.optimize import fsolve\n",
    "balancing_marginal_tax_rate = fsolve(compute_reform_cost_from_marginal_tax_rate, .40)\n",
    "balancing_threshold = fsolve(compute_reform_cost_from_threshold, 1000)\n",
    "print \"balancing_marginal_tax_rate to finance a 100000 threshold: {}\".format(float(balancing_marginal_tax_rate))\n",
    "print \"balancing_threshold financed by an increase from 40% to 41%: {}\".format(float(balancing_threshold))"
   ]
  },
  {
   "cell_type": "code",
   "execution_count": 33,
   "metadata": {
    "collapsed": false
   },
   "outputs": [
    {
     "name": "stdout",
     "output_type": "stream",
     "text": [
      "-0.0\n",
      "3.4816e-05\n"
     ]
    }
   ],
   "source": [
    "print compute_reform_cost_from_marginal_tax_rate(marginal_tax_rate = balancing_marginal_tax_rate)\n",
    "print compute_reform_cost_from_threshold(threshold = balancing_threshold)\n"
   ]
  },
  {
   "cell_type": "code",
   "execution_count": 40,
   "metadata": {
    "collapsed": false
   },
   "outputs": [],
   "source": [
    "reformed_tax_benefit_system = build_ultimate_reform_tax_benefit_system(\n",
    "    threshold = balancing_threshold, \n",
    "    marginal_tax_rate = .41\n",
    "    )\n",
    "scenario = SenegalSurveyScenario(\n",
    "    input_data_frame = input_data_frame,\n",
    "    tax_benefit_system = reformed_tax_benefit_system,\n",
    "    baseline_tax_benefit_system = SenegalTaxBenefitSystem(),\n",
    "    year = 2017\n",
    "    )"
   ]
  },
  {
   "cell_type": "code",
   "execution_count": 41,
   "metadata": {
    "collapsed": false
   },
   "outputs": [
    {
     "data": {
      "text/plain": [
       "<matplotlib.axes._subplots.AxesSubplot at 0x7f68cbdbfc50>"
      ]
     },
     "execution_count": 41,
     "metadata": {},
     "output_type": "execute_result"
    },
    {
     "data": {
      "image/png": "[encoded data removed]",
      "text/plain": [
       "<matplotlib.figure.Figure at 0x7f68d0054f90>"
      ]
     },
     "metadata": {},
     "output_type": "display_data"
    }
   ],
   "source": [
    "scenario.compute_pivot_table(\n",
    "    aggfunc = 'sum', \n",
    "    values = ['impot_revenus'], \n",
    "    columns = ['nombre_enfants'],\n",
    "    period = 2017,\n",
    "    difference = True,\n",
    "    ).stack().reset_index().plot(x = 'nombre_enfants', kind = 'bar')"
   ]
  },
  {
   "cell_type": "code",
   "execution_count": 42,
   "metadata": {
    "collapsed": false
   },
   "outputs": [
    {
     "data": {
      "text/html": [
       "<div>\n",
       "<style>\n",
       "    .dataframe thead tr:only-child th {\n",
       "        text-align: right;\n",
       "    }\n",
       "\n",
       "    .dataframe thead th {\n",
       "        text-align: left;\n",
       "    }\n",
       "\n",
       "    .dataframe tbody tr th {\n",
       "        vertical-align: top;\n",
       "    }\n",
       "</style>\n",
       "<table border=\"1\" class=\"dataframe\">\n",
       "  <thead>\n",
       "    <tr style=\"text-align: right;\">\n",
       "      <th></th>\n",
       "      <th>level_0</th>\n",
       "      <th>nombre_enfants</th>\n",
       "      <th>0</th>\n",
       "    </tr>\n",
       "  </thead>\n",
       "  <tbody>\n",
       "    <tr>\n",
       "      <th>0</th>\n",
       "      <td>impot_revenus</td>\n",
       "      <td>0</td>\n",
       "      <td>-6523310.0</td>\n",
       "    </tr>\n",
       "    <tr>\n",
       "      <th>1</th>\n",
       "      <td>impot_revenus</td>\n",
       "      <td>1</td>\n",
       "      <td>331846.0</td>\n",
       "    </tr>\n",
       "    <tr>\n",
       "      <th>2</th>\n",
       "      <td>impot_revenus</td>\n",
       "      <td>2</td>\n",
       "      <td>92437.5</td>\n",
       "    </tr>\n",
       "    <tr>\n",
       "      <th>3</th>\n",
       "      <td>impot_revenus</td>\n",
       "      <td>3</td>\n",
       "      <td>-156704.0</td>\n",
       "    </tr>\n",
       "    <tr>\n",
       "      <th>4</th>\n",
       "      <td>impot_revenus</td>\n",
       "      <td>4</td>\n",
       "      <td>1126430.0</td>\n",
       "    </tr>\n",
       "    <tr>\n",
       "      <th>5</th>\n",
       "      <td>impot_revenus</td>\n",
       "      <td>5</td>\n",
       "      <td>223756.0</td>\n",
       "    </tr>\n",
       "    <tr>\n",
       "      <th>6</th>\n",
       "      <td>impot_revenus</td>\n",
       "      <td>6</td>\n",
       "      <td>1723596.0</td>\n",
       "    </tr>\n",
       "    <tr>\n",
       "      <th>7</th>\n",
       "      <td>impot_revenus</td>\n",
       "      <td>7</td>\n",
       "      <td>1351734.0</td>\n",
       "    </tr>\n",
       "    <tr>\n",
       "      <th>8</th>\n",
       "      <td>impot_revenus</td>\n",
       "      <td>8</td>\n",
       "      <td>340921.5</td>\n",
       "    </tr>\n",
       "    <tr>\n",
       "      <th>9</th>\n",
       "      <td>impot_revenus</td>\n",
       "      <td>9</td>\n",
       "      <td>658256.0</td>\n",
       "    </tr>\n",
       "    <tr>\n",
       "      <th>10</th>\n",
       "      <td>impot_revenus</td>\n",
       "      <td>10</td>\n",
       "      <td>809035.0</td>\n",
       "    </tr>\n",
       "    <tr>\n",
       "      <th>11</th>\n",
       "      <td>impot_revenus</td>\n",
       "      <td>11</td>\n",
       "      <td>39975.5</td>\n",
       "    </tr>\n",
       "    <tr>\n",
       "      <th>12</th>\n",
       "      <td>impot_revenus</td>\n",
       "      <td>12</td>\n",
       "      <td>-83565.5</td>\n",
       "    </tr>\n",
       "    <tr>\n",
       "      <th>13</th>\n",
       "      <td>impot_revenus</td>\n",
       "      <td>13</td>\n",
       "      <td>-55000.0</td>\n",
       "    </tr>\n",
       "    <tr>\n",
       "      <th>14</th>\n",
       "      <td>impot_revenus</td>\n",
       "      <td>14</td>\n",
       "      <td>85291.5</td>\n",
       "    </tr>\n",
       "    <tr>\n",
       "      <th>15</th>\n",
       "      <td>impot_revenus</td>\n",
       "      <td>15</td>\n",
       "      <td>0.0</td>\n",
       "    </tr>\n",
       "    <tr>\n",
       "      <th>16</th>\n",
       "      <td>impot_revenus</td>\n",
       "      <td>16</td>\n",
       "      <td>0.0</td>\n",
       "    </tr>\n",
       "    <tr>\n",
       "      <th>17</th>\n",
       "      <td>impot_revenus</td>\n",
       "      <td>18</td>\n",
       "      <td>0.0</td>\n",
       "    </tr>\n",
       "  </tbody>\n",
       "</table>\n",
       "</div>"
      ],
      "text/plain": [
       "          level_0  nombre_enfants          0\n",
       "0   impot_revenus               0 -6523310.0\n",
       "1   impot_revenus               1   331846.0\n",
       "2   impot_revenus               2    92437.5\n",
       "3   impot_revenus               3  -156704.0\n",
       "4   impot_revenus               4  1126430.0\n",
       "5   impot_revenus               5   223756.0\n",
       "6   impot_revenus               6  1723596.0\n",
       "7   impot_revenus               7  1351734.0\n",
       "8   impot_revenus               8   340921.5\n",
       "9   impot_revenus               9   658256.0\n",
       "10  impot_revenus              10   809035.0\n",
       "11  impot_revenus              11    39975.5\n",
       "12  impot_revenus              12   -83565.5\n",
       "13  impot_revenus              13   -55000.0\n",
       "14  impot_revenus              14    85291.5\n",
       "15  impot_revenus              15        0.0\n",
       "16  impot_revenus              16        0.0\n",
       "17  impot_revenus              18        0.0"
      ]
     },
     "execution_count": 42,
     "metadata": {},
     "output_type": "execute_result"
    }
   ],
   "source": [
    "scenario.compute_pivot_table(\n",
    "    aggfunc = 'sum', \n",
    "    values = ['impot_revenus'], \n",
    "    columns = ['nombre_enfants'],\n",
    "    period = 2017,\n",
    "    difference = True,\n",
    "    ).stack().reset_index()"
   ]
  },
  {
   "cell_type": "code",
   "execution_count": 44,
   "metadata": {
    "collapsed": false
   },
   "outputs": [
    {
     "data": {
      "text/plain": [
       "level_0           impot_revenusimpot_revenusimpot_revenusimpot_r...\n",
       "nombre_enfants                                                  154\n",
       "0                                                          -35300.5\n",
       "dtype: object"
      ]
     },
     "execution_count": 44,
     "metadata": {},
     "output_type": "execute_result"
    }
   ],
   "source": [
    "scenario.compute_pivot_table(\n",
    "    aggfunc = 'sum', \n",
    "    values = ['impot_revenus'], \n",
    "    columns = ['nombre_enfants'],\n",
    "    period = 2017,\n",
    "    difference = True,\n",
    "    ).stack().reset_index().sum()\n",
    "# The result is close to zéro and almost equal to the one computed above"
   ]
  },
  {
   "cell_type": "code",
   "execution_count": null,
   "metadata": {
    "collapsed": true
   },
   "outputs": [],
   "source": []
  }
 ],
 "metadata": {
  "kernelspec": {
   "display_name": "Python 2",
   "language": "python",
   "name": "python2"
  },
  "language_info": {
   "codemirror_mode": {
    "name": "ipython",
    "version": 2
   },
   "file_extension": ".py",
   "mimetype": "text/x-python",
   "name": "python",
   "nbconvert_exporter": "python",
   "pygments_lexer": "ipython2",
   "version": "2.7.14+"
  }
 },
 "nbformat": 4,
 "nbformat_minor": 2
}
