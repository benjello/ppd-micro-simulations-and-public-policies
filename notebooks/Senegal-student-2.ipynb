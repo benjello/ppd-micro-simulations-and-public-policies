{
 "cells": [
  {
   "cell_type": "markdown",
   "metadata": {},
   "source": [
    "# Exploring the senegalese tax-benefit-system with OpenFisca"
   ]
  },
  {
   "cell_type": "code",
   "execution_count": 1,
   "metadata": {},
   "outputs": [],
   "source": [
    "import matplotlib.pyplot as plt  # For graphics\n",
    "%matplotlib inline\n",
    "from openfisca_core import periods\n",
    "\n",
    "from openfisca_senegal import CountryTaxBenefitSystem as SenegalTaxBenefitSystem  # The Senegalese tax-benefits system\n",
    "from openfisca_senegal.scenarios import init_single_entity"
   ]
  },
  {
   "cell_type": "markdown",
   "metadata": {},
   "source": [
    "## The concepts"
   ]
  },
  {
   "cell_type": "markdown",
   "metadata": {},
   "source": [
    "### Tax Benefit System"
   ]
  },
  {
   "cell_type": "code",
   "execution_count": 2,
   "metadata": {},
   "outputs": [],
   "source": [
    "tax_benefit_system = SenegalTaxBenefitSystem()"
   ]
  },
  {
   "cell_type": "markdown",
   "metadata": {},
   "source": [
    "### Entities"
   ]
  },
  {
   "cell_type": "code",
   "execution_count": 3,
   "metadata": {},
   "outputs": [
    {
     "data": {
      "text/plain": [
       "[<openfisca_core.entities.group_entity.GroupEntity at 0x7f8c6431fcd0>,\n",
       " <openfisca_core.entities.entity.Entity at 0x7f8c6431fa30>]"
      ]
     },
     "execution_count": 3,
     "metadata": {},
     "output_type": "execute_result"
    }
   ],
   "source": [
    "tax_benefit_system.entities"
   ]
  },
  {
   "cell_type": "markdown",
   "metadata": {},
   "source": [
    "### Variables "
   ]
  },
  {
   "cell_type": "code",
   "execution_count": 4,
   "metadata": {},
   "outputs": [
    {
     "data": {
      "text/plain": [
       "{'household_weight': <140240953146720_-8319039739025498680_weights.household_weight at 0x7f8c642ea8e0>,\n",
       " 'person_weight': <140240953146720_-8319039739025498680_weights.person_weight at 0x7f8c64307bb0>,\n",
       " 'benefices_non_salarie': <140240953146720_-126135352679787849_revenus.benefices_non_salarie at 0x7f8c6431fdc0>,\n",
       " 'conjoint_a_des_revenus': <140240953146720_-126135352679787849_revenus.conjoint_a_des_revenus at 0x7f8c6431fdf0>,\n",
       " 'pension_retraite': <140240953146720_-126135352679787849_revenus.pension_retraite at 0x7f8c6431fac0>,\n",
       " 'salaire': <140240953146720_-126135352679787849_revenus.salaire at 0x7f8c64312550>,\n",
       " 'age': <140240953146720_-3348400637237634872_caracteristiques_socio_demographiques.age at 0x7f8c64307a60>,\n",
       " 'date_naissance': <140240953146720_-3348400637237634872_caracteristiques_socio_demographiques.date_naissance at 0x7f8c2076ea00>,\n",
       " 'est_celibataire': <140240953146720_-3348400637237634872_caracteristiques_socio_demographiques.est_celibataire at 0x7f8c2076e670>,\n",
       " 'est_divorce': <140240953146720_-3348400637237634872_caracteristiques_socio_demographiques.est_divorce at 0x7f8c2076e580>,\n",
       " 'est_marie': <140240953146720_-3348400637237634872_caracteristiques_socio_demographiques.est_marie at 0x7f8c2076e520>,\n",
       " 'est_veuf': <140240953146720_-3348400637237634872_caracteristiques_socio_demographiques.est_veuf at 0x7f8c2076e490>,\n",
       " 'nombre_enfants': <140240953146720_-3348400637237634872_caracteristiques_socio_demographiques.nombre_enfants at 0x7f8c2076e460>,\n",
       " 'statut_marital': <140240953146720_-3348400637237634872_caracteristiques_socio_demographiques.statut_marital at 0x7f8c2076e3a0>,\n",
       " 'impots_indirects': <140240953146720_7898094447039218681_impots_indirects.impots_indirects at 0x7f8c2076d7c0>,\n",
       " 'impot_avant_reduction_famille': <140240953146720_-5378385958713218004_impots_directs.impot_avant_reduction_famille at 0x7f8c2076d3d0>,\n",
       " 'impot_revenus': <140240953146720_-5378385958713218004_impots_directs.impot_revenus at 0x7f8c2076de50>,\n",
       " 'nombre_de_parts': <140240953146720_-5378385958713218004_impots_directs.nombre_de_parts at 0x7f8c2076d4c0>,\n",
       " 'reduction_impots_pour_charge_famille': <140240953146720_-5378385958713218004_impots_directs.reduction_impots_pour_charge_famille at 0x7f8c2076d520>}"
      ]
     },
     "execution_count": 4,
     "metadata": {},
     "output_type": "execute_result"
    }
   ],
   "source": [
    "tax_benefit_system.variables"
   ]
  },
  {
   "cell_type": "code",
   "execution_count": 5,
   "metadata": {},
   "outputs": [
    {
     "data": {
      "text/plain": [
       "['age',\n",
       " 'benefices_non_salarie',\n",
       " 'conjoint_a_des_revenus',\n",
       " 'date_naissance',\n",
       " 'est_celibataire',\n",
       " 'est_divorce',\n",
       " 'est_marie',\n",
       " 'est_veuf',\n",
       " 'household_weight',\n",
       " 'impot_avant_reduction_famille',\n",
       " 'impot_revenus',\n",
       " 'impots_indirects',\n",
       " 'nombre_de_parts',\n",
       " 'nombre_enfants',\n",
       " 'pension_retraite',\n",
       " 'person_weight',\n",
       " 'reduction_impots_pour_charge_famille',\n",
       " 'salaire',\n",
       " 'statut_marital']"
      ]
     },
     "execution_count": 5,
     "metadata": {},
     "output_type": "execute_result"
    }
   ],
   "source": [
    "sorted(tax_benefit_system.variables.keys())"
   ]
  },
  {
   "cell_type": "code",
   "execution_count": 6,
   "metadata": {},
   "outputs": [
    {
     "name": "stdout",
     "output_type": "stream",
     "text": [
      "age\n",
      "    def formula(individu, period, parameters):\n",
      "        date_naissance = individu('date_naissance', period)\n",
      "        birth_year = date_naissance.astype('datetime64[Y]').astype(int) + 1970\n",
      "        birth_month = date_naissance.astype('datetime64[M]').astype(int) % 12 + 1\n",
      "        birth_day = (date_naissance - date_naissance.astype('datetime64[M]') + 1).astype(int)\n",
      "\n",
      "        is_birthday_past = (\n",
      "            (birth_month < period.start.month) + (birth_month == period.start.month) * (birth_day <= period.start.day)\n",
      "            )\n",
      "        # If the birthday is not passed this year, subtract one year\n",
      "        return (period.start.year - birth_year) - where(is_birthday_past, 0, 1)\n",
      "\n",
      "\n",
      "benefices_non_salarie\n",
      "\n",
      "conjoint_a_des_revenus\n",
      "\n",
      "date_naissance\n",
      "\n",
      "est_celibataire\n",
      "    def formula(individu, period):\n",
      "        return individu('statut_marital', period) == TypesStatutMarital.celibataire\n",
      "\n",
      "\n",
      "est_divorce\n",
      "    def formula(individu, period):\n",
      "        return individu('statut_marital', period) == TypesStatutMarital.veuf_divorce\n",
      "\n",
      "\n",
      "est_marie\n",
      "    def formula(individu, period):\n",
      "        return individu('statut_marital', period) == TypesStatutMarital.marie\n",
      "\n",
      "\n",
      "est_veuf\n",
      "    def formula(individu, period):\n",
      "        return individu('statut_marital', period) == TypesStatutMarital.veuf_divorce\n",
      "\n",
      "\n",
      "household_weight\n",
      "\n",
      "impot_avant_reduction_famille\n",
      "    def formula(individu, period, legislation):\n",
      "        salaire = individu('salaire', period, options = [ADD])\n",
      "        salaire_abattement = min_(0.3 * salaire, 900000)\n",
      "        salaire_imposable = salaire - salaire_abattement\n",
      "\n",
      "        pension_retraite = individu('pension_retraite', period, options = [ADD])\n",
      "        pension_abbattement = max_(pension_retraite * 0.4, 1800000) * (pension_retraite > 0)\n",
      "        retraite_imposable = pension_retraite - pension_abbattement\n",
      "        benefices_non_salarie = individu('benefices_non_salarie', period, options = [ADD])\n",
      "        benefice_abattement = benefices_non_salarie * 0.15\n",
      "        benefices_imposable = benefices_non_salarie - benefice_abattement\n",
      "\n",
      "        revenus_arrondis = floor_divide(salaire_imposable + retraite_imposable + benefices_imposable, 1000) * 1000\n",
      "        revenus_imposable = max_(0, revenus_arrondis)\n",
      "\n",
      "        bareme_impot_progressif = legislation(period).prelevements_obligatoires.impots_directs.bareme_impot_progressif\n",
      "        return bareme_impot_progressif.calc(revenus_imposable)\n",
      "\n",
      "\n",
      "impot_revenus\n",
      "    def formula(individu, period):\n",
      "        impot_avant_reduction_famille = individu('impot_avant_reduction_famille', period)\n",
      "        reduction_impots_pour_charge_famille = individu('reduction_impots_pour_charge_famille', period)\n",
      "        impot_apres_reduction_famille = impot_avant_reduction_famille - reduction_impots_pour_charge_famille\n",
      "        return max_(0, impot_apres_reduction_famille)\n",
      "\n",
      "\n",
      "impots_indirects\n",
      "    def formula(menage, period):\n",
      "        return menage('tva', period)\n",
      "\n",
      "\n",
      "nombre_de_parts\n",
      "    def formula(individu, period, parameters):\n",
      "        nombre_de_parts_par_enfant = parameters(period).nombre_de_parts.par_enfant\n",
      "        limite_nombre_de_parts = parameters(period).nombre_de_parts.limite_max\n",
      "        repartition_marie_conjoint = parameters(period).nombre_de_parts.repartition_marie_conjoint\n",
      "        veuf_avec_enfant = parameters(period).nombre_de_parts.veuf_avec_enfant\n",
      "\n",
      "        est_marie = individu('est_marie', period)\n",
      "        est_veuf = individu('est_veuf', period)\n",
      "        nombre_enfants = individu('nombre_enfants', period)\n",
      "        parts_enfant_veuf = est_veuf * veuf_avec_enfant * min_(1, nombre_enfants)\n",
      "\n",
      "        nombre_de_parts_enfants = nombre_enfants * nombre_de_parts_par_enfant + parts_enfant_veuf\n",
      "        conjoint_a_des_revenus = individu('conjoint_a_des_revenus', period)\n",
      "        nombre_de_parts_conjoint = est_marie * repartition_marie_conjoint * (1 + not_(conjoint_a_des_revenus))\n",
      "\n",
      "        nombre_de_parts = 1 + nombre_de_parts_conjoint + nombre_de_parts_enfants\n",
      "\n",
      "        return min_(limite_nombre_de_parts, nombre_de_parts)\n",
      "\n",
      "\n",
      "nombre_enfants\n",
      "\n",
      "pension_retraite\n",
      "\n",
      "person_weight\n",
      "\n",
      "reduction_impots_pour_charge_famille\n",
      "    def formula(individu, period, legislation):\n",
      "        impot_avant_reduction_famille = individu('impot_avant_reduction_famille', period)\n",
      "\n",
      "        nombre_de_parts = individu('nombre_de_parts', period)\n",
      "        reductions_pour_charge_de_famille = legislation(period).prelevements_obligatoires.impots_directs.reductions_pour_charge_de_famille\n",
      "\n",
      "        taux = (nombre_de_parts == 1) * reductions_pour_charge_de_famille.taux_1 + \\\n",
      "            (nombre_de_parts == 1.5) * reductions_pour_charge_de_famille.taux_2 + \\\n",
      "            (nombre_de_parts == 2) * reductions_pour_charge_de_famille.taux_3 + \\\n",
      "            (nombre_de_parts == 2.5) * reductions_pour_charge_de_famille.taux_4 + \\\n",
      "            (nombre_de_parts == 3) * reductions_pour_charge_de_famille.taux_5 + \\\n",
      "            (nombre_de_parts == 3.5) * reductions_pour_charge_de_famille.taux_6 + \\\n",
      "            (nombre_de_parts == 4) * reductions_pour_charge_de_famille.taux_7 + \\\n",
      "            (nombre_de_parts == 4.5) * reductions_pour_charge_de_famille.taux_8 + \\\n",
      "            (nombre_de_parts == 5) * reductions_pour_charge_de_famille.taux_9\n",
      "        minimum = (nombre_de_parts == 1) * reductions_pour_charge_de_famille.min_1 + \\\n",
      "            (nombre_de_parts == 1.5) * reductions_pour_charge_de_famille.min_2 + \\\n",
      "            (nombre_de_parts == 2) * reductions_pour_charge_de_famille.min_3 + \\\n",
      "            (nombre_de_parts == 2.5) * reductions_pour_charge_de_famille.min_4 + \\\n",
      "            (nombre_de_parts == 3) * reductions_pour_charge_de_famille.min_5 + \\\n",
      "            (nombre_de_parts == 3.5) * reductions_pour_charge_de_famille.min_6 + \\\n",
      "            (nombre_de_parts == 4) * reductions_pour_charge_de_famille.min_7 + \\\n",
      "            (nombre_de_parts == 4.5) * reductions_pour_charge_de_famille.min_8 + \\\n",
      "            (nombre_de_parts == 5) * reductions_pour_charge_de_famille.min_9\n",
      "        maximum = (nombre_de_parts == 1) * reductions_pour_charge_de_famille.max_1 + \\\n",
      "            (nombre_de_parts == 1.5) * reductions_pour_charge_de_famille.max_2 + \\\n",
      "            (nombre_de_parts == 2) * reductions_pour_charge_de_famille.max_3 + \\\n",
      "            (nombre_de_parts == 2.5) * reductions_pour_charge_de_famille.max_4 + \\\n",
      "            (nombre_de_parts == 3) * reductions_pour_charge_de_famille.max_5 + \\\n",
      "            (nombre_de_parts == 3.5) * reductions_pour_charge_de_famille.max_6 + \\\n",
      "            (nombre_de_parts == 4) * reductions_pour_charge_de_famille.max_7 + \\\n",
      "            (nombre_de_parts == 4.5) * reductions_pour_charge_de_famille.max_8 + \\\n",
      "            (nombre_de_parts == 5) * reductions_pour_charge_de_famille.max_9\n",
      "\n",
      "        reduction_impot = clip(impot_avant_reduction_famille * taux, a_min = minimum, a_max = maximum)\n",
      "        return reduction_impot\n",
      "\n",
      "\n",
      "salaire\n",
      "\n",
      "statut_marital\n",
      "\n"
     ]
    }
   ],
   "source": [
    "import inspect\n",
    "for name, variable in sorted(tax_benefit_system.variables.items()):\n",
    "    print(name)\n",
    "    if not variable.is_input_variable():\n",
    "        formula = variable.get_formula('2017')\n",
    "        source_code = inspect.getsourcelines(formula)[0]\n",
    "        print(''.join(source_code))\n",
    "    print('')"
   ]
  },
  {
   "cell_type": "markdown",
   "metadata": {},
   "source": [
    "### Parameters"
   ]
  },
  {
   "cell_type": "code",
   "execution_count": 7,
   "metadata": {},
   "outputs": [
    {
     "name": "stdout",
     "output_type": "stream",
     "text": [
      "nombre_de_parts:\n",
      "  limite_max:\n",
      "    2013-01-01: 5\n",
      "  par_enfant:\n",
      "    2013-01-01: 0.5\n",
      "  repartition_marie_conjoint:\n",
      "    2013-01-01: 0.5\n",
      "  veuf_avec_enfant:\n",
      "    2013-01-01: 0.5\n",
      "prelevements_obligatoires:\n",
      "  impots_directs:\n",
      "    bareme_impot_progressif:\n",
      "      brackets:\n",
      "        - rate:\n",
      "            2013-01-01: 0.0\n",
      "          threshold:\n",
      "            2013-01-01: 0.0\n",
      "        - rate:\n",
      "            2013-01-01: 0.2\n",
      "          threshold:\n",
      "            2013-01-01: 630000.0\n",
      "        - rate:\n",
      "            2013-01-01: 0.3\n",
      "          threshold:\n",
      "            2013-01-01: 1500000.0\n",
      "        - rate:\n",
      "            2013-01-01: 0.35\n",
      "          threshold:\n",
      "            2013-01-01: 4000000.0\n",
      "        - rate:\n",
      "            2013-01-01: 0.37\n",
      "          threshold:\n",
      "            2013-01-01: 8000000.0\n",
      "        - rate:\n",
      "            2013-01-01: 0.4\n",
      "          threshold:\n",
      "            2013-01-01: 13500000.0\n",
      "    reductions_pour_charge_de_famille:\n",
      "      max_1:\n",
      "        2013-01-01: 0.0\n",
      "      max_2:\n",
      "        2013-01-01: 300000.0\n",
      "      max_3:\n",
      "        2013-01-01: 650000.0\n",
      "      max_4:\n",
      "        2013-01-01: 1100000.0\n",
      "      max_5:\n",
      "        2013-01-01: 1650000.0\n",
      "      max_6:\n",
      "        2013-01-01: 2030000.0\n",
      "      max_7:\n",
      "        2013-01-01: 2490000.0\n",
      "      max_8:\n",
      "        2013-01-01: 2755000.0\n",
      "      max_9:\n",
      "        2013-01-01: 3180000.0\n",
      "      min_1:\n",
      "        2013-01-01: 0.0\n",
      "      min_2:\n",
      "        2013-01-01: 100000.0\n",
      "      min_3:\n",
      "        2013-01-01: 200000.0\n",
      "      min_4:\n",
      "        2013-01-01: 300000.0\n",
      "      min_5:\n",
      "        2013-01-01: 400000.0\n",
      "      min_6:\n",
      "        2013-01-01: 500000.0\n",
      "      min_7:\n",
      "        2013-01-01: 600000.0\n",
      "      min_8:\n",
      "        2013-01-01: 700000.0\n",
      "      min_9:\n",
      "        2013-01-01: 800000.0\n",
      "      taux_1:\n",
      "        2013-01-01: 0.0\n",
      "      taux_2:\n",
      "        2013-01-01: 0.1\n",
      "      taux_3:\n",
      "        2013-01-01: 0.15\n",
      "      taux_4:\n",
      "        2013-01-01: 0.2\n",
      "      taux_5:\n",
      "        2013-01-01: 0.25\n",
      "      taux_6:\n",
      "        2013-01-01: 0.3\n",
      "      taux_7:\n",
      "        2013-01-01: 0.35\n",
      "      taux_8:\n",
      "        2013-01-01: 0.4\n",
      "      taux_9:\n",
      "        2013-01-01: 0.45\n",
      "  impots_indirects:\n",
      "    droits_douane:\n",
      "      biens_specifiques:\n",
      "        2007-01-01: 0.35\n",
      "      consommation_finale:\n",
      "        2007-01-01: 0.2\n",
      "      consommation_intermediaire:\n",
      "        2007-01-01: 0.1\n",
      "      equipements:\n",
      "        2007-01-01: 0.05\n",
      "      exonere:\n",
      "        2007-01-01: 0\n",
      "      prelevement_communautaire_de_solidarite:\n",
      "        2007-01-01: 0.01\n",
      "      redevance_statistique:\n",
      "        2007-01-01: 0.01\n",
      "    tva:\n",
      "      taux_normal:\n",
      "        2007-01-01: 0.18\n",
      "      taux_reduit:\n",
      "        2007-01-01: 0.1\n"
     ]
    }
   ],
   "source": [
    "print(tax_benefit_system.parameters)"
   ]
  },
  {
   "cell_type": "code",
   "execution_count": 8,
   "metadata": {},
   "outputs": [],
   "source": [
    "parameters = tax_benefit_system.parameters(2017)"
   ]
  },
  {
   "cell_type": "code",
   "execution_count": 9,
   "metadata": {},
   "outputs": [
    {
     "data": {
      "text/plain": [
       "  - threshold: 0.0\n",
       "    rate: 0.0\n",
       "  - threshold: 630000.0\n",
       "    rate: 0.2\n",
       "  - threshold: 1500000.0\n",
       "    rate: 0.3\n",
       "  - threshold: 4000000.0\n",
       "    rate: 0.35\n",
       "  - threshold: 8000000.0\n",
       "    rate: 0.37\n",
       "  - threshold: 13500000.0\n",
       "    rate: 0.4"
      ]
     },
     "execution_count": 9,
     "metadata": {},
     "output_type": "execute_result"
    }
   ],
   "source": [
    "parameters.prelevements_obligatoires.impots_directs.bareme_impot_progressif"
   ]
  },
  {
   "cell_type": "markdown",
   "metadata": {},
   "source": [
    "## A simple test case scenario"
   ]
  },
  {
   "cell_type": "markdown",
   "metadata": {},
   "source": [
    "### Basics"
   ]
  },
  {
   "cell_type": "code",
   "execution_count": 10,
   "metadata": {},
   "outputs": [],
   "source": [
    "scenario = tax_benefit_system.new_scenario()"
   ]
  },
  {
   "cell_type": "code",
   "execution_count": 11,
   "metadata": {},
   "outputs": [
    {
     "data": {
      "text/plain": [
       "<openfisca_core.taxbenefitsystems.tax_benefit_system.TaxBenefitSystem.new_scenario.<locals>.ScenarioAdapter at 0x7f8c20742940>"
      ]
     },
     "execution_count": 11,
     "metadata": {},
     "output_type": "execute_result"
    }
   ],
   "source": [
    "init_single_entity(\n",
    "    scenario,\n",
    "    parent1 = {\n",
    "        'salaire': 2800000,\n",
    "        'est_marie': True,\n",
    "        'conjoint_a_des_revenus': False,\n",
    "        'nombre_enfants': 1,\n",
    "        },\n",
    "    period = '2017',\n",
    "    )"
   ]
  },
  {
   "cell_type": "code",
   "execution_count": 12,
   "metadata": {},
   "outputs": [],
   "source": [
    "simulation = scenario.new_simulation()"
   ]
  },
  {
   "cell_type": "code",
   "execution_count": 13,
   "metadata": {},
   "outputs": [
    {
     "data": {
      "text/plain": [
       "array([2800000.], dtype=float32)"
      ]
     },
     "execution_count": 13,
     "metadata": {},
     "output_type": "execute_result"
    }
   ],
   "source": [
    "simulation.calculate('salaire', period = '2017')"
   ]
  },
  {
   "cell_type": "code",
   "execution_count": 14,
   "metadata": {},
   "outputs": [
    {
     "data": {
      "text/plain": [
       "array([11700.], dtype=float32)"
      ]
     },
     "execution_count": 14,
     "metadata": {},
     "output_type": "execute_result"
    }
   ],
   "source": [
    "simulation.calculate('impot_revenus', period = '2017')"
   ]
  },
  {
   "cell_type": "markdown",
   "metadata": {},
   "source": [
    "### Application: a simple function to compute the tax gain for having a child"
   ]
  },
  {
   "cell_type": "code",
   "execution_count": 15,
   "metadata": {},
   "outputs": [],
   "source": [
    "def tax_gain(salaire = 0, est_marie = False, conjoint_a_des_revenus = False, nombre_enfants = 0):\n",
    "    period = '2017'\n",
    "    parent1_before = {\n",
    "        'salaire': salaire,\n",
    "        'est_marie': est_marie,\n",
    "        'conjoint_a_des_revenus': conjoint_a_des_revenus,\n",
    "        'nombre_enfants': nombre_enfants,\n",
    "        }\n",
    "    simulation_before = init_single_entity(\n",
    "        tax_benefit_system.new_scenario(),\n",
    "        parent1 = parent1_before,\n",
    "        period = period,\n",
    "        ).new_simulation()\n",
    "    parent1_after = parent1_before.copy()\n",
    "    parent1_after['nombre_enfants'] += 1\n",
    "    simulation_after = init_single_entity(\n",
    "        tax_benefit_system.new_scenario(),\n",
    "        parent1 = parent1_after,\n",
    "        period = period,\n",
    "        ).new_simulation()\n",
    "    difference = simulation_after.calculate('impot_revenus', period) - simulation_before.calculate('impot_revenus', period)\n",
    "    return -difference\n",
    "                                                                                            "
   ]
  },
  {
   "cell_type": "code",
   "execution_count": 16,
   "metadata": {},
   "outputs": [
    {
     "data": {
      "text/plain": [
       "array([100000.], dtype=float32)"
      ]
     },
     "execution_count": 16,
     "metadata": {},
     "output_type": "execute_result"
    }
   ],
   "source": [
    "tax_gain(salaire = 2800000)"
   ]
  },
  {
   "cell_type": "code",
   "execution_count": 17,
   "metadata": {},
   "outputs": [
    {
     "data": {
      "text/plain": [
       "array([100000.], dtype=float32)"
      ]
     },
     "execution_count": 17,
     "metadata": {},
     "output_type": "execute_result"
    }
   ],
   "source": [
    "tax_gain(salaire = 2800000, nombre_enfants = 2)"
   ]
  },
  {
   "cell_type": "code",
   "execution_count": 18,
   "metadata": {},
   "outputs": [
    {
     "data": {
      "text/plain": [
       "[array([100000.], dtype=float32),\n",
       " array([100000.], dtype=float32),\n",
       " array([100000.], dtype=float32),\n",
       " array([11700.], dtype=float32),\n",
       " array([-0.], dtype=float32),\n",
       " array([-0.], dtype=float32),\n",
       " array([-0.], dtype=float32),\n",
       " array([-0.], dtype=float32)]"
      ]
     },
     "execution_count": 18,
     "metadata": {},
     "output_type": "execute_result"
    }
   ],
   "source": [
    "[tax_gain(salaire = 2800000, nombre_enfants = n) for n in range(8)]"
   ]
  },
  {
   "cell_type": "markdown",
   "metadata": {},
   "source": [
    "## More complex scenario: varying revenue "
   ]
  },
  {
   "cell_type": "markdown",
   "metadata": {},
   "source": [
    "### Basics"
   ]
  },
  {
   "cell_type": "code",
   "execution_count": 19,
   "metadata": {},
   "outputs": [],
   "source": [
    "year = 2017\n",
    "simulation = init_single_entity(\n",
    "    tax_benefit_system.new_scenario(),\n",
    "    parent1 = {\n",
    "        'est_marie': True,\n",
    "        'conjoint_a_des_revenus': False,\n",
    "        'nombre_enfants': 0,\n",
    "        },\n",
    "    period = year,\n",
    "    axes = [[\n",
    "        {\n",
    "            'count': 100,\n",
    "            'min': 0,\n",
    "            'max': 15e6,\n",
    "            'name': 'salaire',\n",
    "            }\n",
    "        ]],\n",
    "    ).new_simulation()\n",
    "\n",
    "\n",
    "salaire = simulation.calculate('salaire', period = year)\n",
    "reduction_impots_pour_charge_famille = simulation.calculate('reduction_impots_pour_charge_famille', period = year)\n",
    "impot_avant_reduction_famille = simulation.calculate('impot_avant_reduction_famille', period = year)\n",
    "impot_revenus = simulation.calculate('impot_revenus', period = year)"
   ]
  },
  {
   "cell_type": "code",
   "execution_count": 20,
   "metadata": {},
   "outputs": [
    {
     "data": {
      "text/plain": [
       "Text(0.5, 1.0, '0 enfants')"
      ]
     },
     "execution_count": 20,
     "metadata": {},
     "output_type": "execute_result"
    },
    {
     "data": {
      "image/png": "[encoded data removed]",
      "text/plain": [
       "<Figure size 864x576 with 1 Axes>"
      ]
     },
     "metadata": {
      "needs_background": "light"
     },
     "output_type": "display_data"
    }
   ],
   "source": [
    "plt.figure(figsize=(12, 8))\n",
    "plt.plot(salaire, impot_avant_reduction_famille, label='avant réduction famille')\n",
    "plt.plot(salaire, reduction_impots_pour_charge_famille, label='réduction famille')\n",
    "plt.plot(salaire, impot_revenus, label='impôt revenus')\n",
    "plt.xlabel('Salaire')\n",
    "plt.legend()\n",
    "plt.title('0 enfants', fontsize=20)"
   ]
  },
  {
   "cell_type": "markdown",
   "metadata": {},
   "source": [
    "### Application: by how much the tax gain for having a child varies with revenue"
   ]
  },
  {
   "cell_type": "code",
   "execution_count": 21,
   "metadata": {},
   "outputs": [],
   "source": [
    "def tax_gain_varying_revenue(max_salaire = 0, est_marie = False, conjoint_a_des_revenus = False, \n",
    "                             nombre_enfants = 0, count = 100):\n",
    "    period = '2017'\n",
    "    parent1_before = {\n",
    "        'est_marie': est_marie,\n",
    "        'conjoint_a_des_revenus': conjoint_a_des_revenus,\n",
    "        'nombre_enfants': nombre_enfants,\n",
    "        }\n",
    "    axes = [[\n",
    "            {\n",
    "                'count': count,\n",
    "                'min': 0,\n",
    "                'max': max_salaire,\n",
    "                'name': 'salaire',\n",
    "                }\n",
    "            ]]\n",
    "    simulation_before = init_single_entity(\n",
    "        tax_benefit_system.new_scenario(),\n",
    "        parent1 = parent1_before,\n",
    "        axes = axes,\n",
    "        period = period,\n",
    "        ).new_simulation()\n",
    "    parent1_after = parent1_before.copy()\n",
    "    parent1_after['nombre_enfants'] += 1\n",
    "    simulation_after = init_single_entity(\n",
    "        tax_benefit_system.new_scenario(),\n",
    "        parent1 = parent1_after,\n",
    "        axes = axes,\n",
    "        period = period,\n",
    "        ).new_simulation()\n",
    "    difference = simulation_after.calculate('impot_revenus', period) - simulation_before.calculate('impot_revenus', period)\n",
    "    salaire = simulation_after.calculate('salaire', period)\n",
    "    return salaire, -difference\n",
    "    "
   ]
  },
  {
   "cell_type": "code",
   "execution_count": 22,
   "metadata": {},
   "outputs": [],
   "source": [
    "salaire, gain = tax_gain_varying_revenue(max_salaire=15e6, count = 1000)"
   ]
  },
  {
   "cell_type": "code",
   "execution_count": 23,
   "metadata": {},
   "outputs": [
    {
     "data": {
      "text/plain": [
       "Text(0.5, 1.0, 'Gain fiscal au 1er enfant')"
      ]
     },
     "execution_count": 23,
     "metadata": {},
     "output_type": "execute_result"
    },
    {
     "data": {
      "image/png": "[encoded data removed]",
      "text/plain": [
       "<Figure size 864x576 with 1 Axes>"
      ]
     },
     "metadata": {
      "needs_background": "light"
     },
     "output_type": "display_data"
    }
   ],
   "source": [
    "plt.figure(figsize=(12, 8))\n",
    "plt.plot(salaire, gain, label='Gain fiscal')\n",
    "plt.xlabel('Salaire')\n",
    "plt.legend()\n",
    "plt.title('Gain fiscal au 1er enfant', fontsize=20)"
   ]
  },
  {
   "cell_type": "markdown",
   "metadata": {},
   "source": [
    "#### Exercice: Write a loop to plot the gain for several children"
   ]
  },
  {
   "cell_type": "code",
   "execution_count": null,
   "metadata": {},
   "outputs": [],
   "source": [
    "plt.figure(figsize=(12, 8))\n",
    "# TODO; write loop here plotting the different gain curves\n",
    "plt.xlabel('Salaire')\n",
    "plt.legend()\n",
    "plt.title(u\"Gain fiscal selon le rang de l'enfant\", fontsize=20)\n"
   ]
  },
  {
   "cell_type": "markdown",
   "metadata": {},
   "source": [
    "## Tax rates"
   ]
  },
  {
   "cell_type": "markdown",
   "metadata": {},
   "source": [
    "### Average tax rate"
   ]
  },
  {
   "cell_type": "code",
   "execution_count": null,
   "metadata": {},
   "outputs": [],
   "source": [
    "simulation = init_single_entity(\n",
    "    tax_benefit_system.new_scenario(),\n",
    "    parent1 = {\n",
    "        'est_marie': True,\n",
    "        'conjoint_a_des_revenus': False,\n",
    "        'nombre_enfants': 0,\n",
    "        },\n",
    "    period = year,\n",
    "    axes = [[\n",
    "        {\n",
    "            'count': 100,\n",
    "            'min': 0,\n",
    "            'max': 18e6,\n",
    "            'name': 'salaire',\n",
    "            }\n",
    "        ]],\n",
    "    ).new_simulation()\n",
    "salaire = simulation.calculate('salaire', period = year)\n",
    "impot = simulation.calculate('impot_revenus', period = year)"
   ]
  },
  {
   "cell_type": "code",
   "execution_count": null,
   "metadata": {},
   "outputs": [],
   "source": [
    "plt.plot(salaire, impot)\n",
    "plt.ylabel(u\"Impôt sur les revenus\")\n",
    "plt.xlabel(u\"Salaire\")"
   ]
  },
  {
   "cell_type": "code",
   "execution_count": null,
   "metadata": {},
   "outputs": [],
   "source": [
    "taux_moyen = impot / salaire  # Average tax rate"
   ]
  },
  {
   "cell_type": "code",
   "execution_count": null,
   "metadata": {},
   "outputs": [],
   "source": [
    "taux_moyen = impot / (salaire * (salaire != 0) + (salaire == 0) )  "
   ]
  },
  {
   "cell_type": "code",
   "execution_count": null,
   "metadata": {},
   "outputs": [],
   "source": [
    "plt.plot(salaire, taux_moyen)\n",
    "plt.ylabel(\"Taux moyen\")\n",
    "plt.xlabel(\"Salaire\")"
   ]
  },
  {
   "cell_type": "markdown",
   "metadata": {},
   "source": [
    "### Marginal tax rate"
   ]
  },
  {
   "cell_type": "code",
   "execution_count": null,
   "metadata": {},
   "outputs": [],
   "source": [
    "taux_marginal =  (impot[:-1] - impot[1:]) / (salaire[:-1] - salaire[1:] )  # We avoid the first point"
   ]
  },
  {
   "cell_type": "code",
   "execution_count": null,
   "metadata": {},
   "outputs": [],
   "source": [
    "plt.plot(salaire[:-1], taux_marginal)"
   ]
  },
  {
   "cell_type": "markdown",
   "metadata": {},
   "source": [
    "#### Exercice: how marginal and average tax rate compare at infinity"
   ]
  },
  {
   "cell_type": "markdown",
   "metadata": {},
   "source": [
    "### Add a new variable and use dedicated functions"
   ]
  },
  {
   "cell_type": "markdown",
   "metadata": {},
   "source": [
    "Add a disposable income variable to the tax-benefit-system"
   ]
  },
  {
   "cell_type": "code",
   "execution_count": null,
   "metadata": {},
   "outputs": [],
   "source": [
    "from openfisca_core.model_api import *\n",
    "from openfisca_senegal.entities import Person\n",
    "\n",
    "tax_benefit_system = SenegalTaxBenefitSystem()\n",
    "\n",
    "class revenu_disponible(Variable):\n",
    "    definition_period = YEAR\n",
    "    entity = Person\n",
    "    value_type = float\n",
    "\n",
    "    def formula(person, period):\n",
    "        salaire = person('salaire', period)\n",
    "        impot_revenus = person('impot_revenus', period)\n",
    "        return salaire - impot_revenus\n",
    "\n",
    "\n",
    "tax_benefit_system.add_variable(revenu_disponible)"
   ]
  },
  {
   "cell_type": "code",
   "execution_count": null,
   "metadata": {},
   "outputs": [],
   "source": [
    "simulation = init_single_entity(\n",
    "    tax_benefit_system.new_scenario(),\n",
    "    parent1 = {\n",
    "        'est_marie': True,\n",
    "        'conjoint_a_des_revenus': False,\n",
    "        'nombre_enfants': 0,\n",
    "        },\n",
    "    period = '2017',\n",
    "    axes = [[\n",
    "        {\n",
    "            'count': 100,\n",
    "            'min': 0,\n",
    "            'max': 18e6,\n",
    "            'name': 'salaire',\n",
    "            }\n",
    "        ]],\n",
    "    ).new_simulation()\n",
    "salaire = simulation.calculate('salaire', period = year)\n",
    "impot = simulation.calculate('impot_revenus', period = year)\n",
    "revenu_disponible = simulation.calculate('revenu_disponible', period = year)"
   ]
  },
  {
   "cell_type": "code",
   "execution_count": null,
   "metadata": {},
   "outputs": [],
   "source": [
    "from openfisca_core.rates import average_rate, marginal_rate\n",
    "plt.plot(salaire[1:], average_rate(revenu_disponible[1:], salaire[1:]))\n",
    "plt.plot(salaire[1:], marginal_rate(revenu_disponible, salaire))"
   ]
  },
  {
   "cell_type": "markdown",
   "metadata": {},
   "source": [
    "## Reforming the tax-benefit system"
   ]
  },
  {
   "cell_type": "markdown",
   "metadata": {},
   "source": [
    "### Parametric reform"
   ]
  },
  {
   "cell_type": "code",
   "execution_count": null,
   "metadata": {},
   "outputs": [],
   "source": [
    "def modify_parameters(parameters):\n",
    "    parameters.prelevements_obligatoires.impots_directs.bareme_impot_progressif[5].rate.update(period = period(year), value = .5)\n",
    "    return parameters\n",
    "    \n",
    "class tax_the_rich(Reform):\n",
    "    name = u\"Tax last bracket at 50%\"\n",
    "\n",
    "    def apply(self):\n",
    "        self.modify_parameters(modifier_function = modify_parameters)"
   ]
  },
  {
   "cell_type": "code",
   "execution_count": null,
   "metadata": {},
   "outputs": [],
   "source": [
    "reform = tax_the_rich(tax_benefit_system)"
   ]
  },
  {
   "cell_type": "code",
   "execution_count": null,
   "metadata": {},
   "outputs": [],
   "source": [
    "simulation = init_single_entity(\n",
    "    reform.new_scenario(),\n",
    "    parent1 = {\n",
    "        'est_marie': True,\n",
    "        'conjoint_a_des_revenus': False,\n",
    "        'nombre_enfants': 0,\n",
    "        },\n",
    "    period = year,\n",
    "    axes = [[\n",
    "        {\n",
    "            'count': 100,\n",
    "            'min': 0,\n",
    "            'max': 18e6,\n",
    "            'name': 'salaire',\n",
    "            }\n",
    "        ]],\n",
    "    ).new_simulation()\n",
    "salaire = simulation.calculate('salaire', period = year)\n",
    "impot = simulation.calculate('impot_revenus', period = year)\n",
    "taux_marginal =  (impot[:-1] - impot[1:]) / (salaire[:-1] - salaire[1:] )  # We avoid the first point\n",
    "plt.plot(salaire[:-1], taux_marginal)"
   ]
  },
  {
   "cell_type": "markdown",
   "metadata": {},
   "source": [
    "### Structural Reform"
   ]
  },
  {
   "cell_type": "markdown",
   "metadata": {},
   "source": [
    "#### Exercice: add a an amount threshold under which no tax is due"
   ]
  },
  {
   "cell_type": "code",
   "execution_count": null,
   "metadata": {},
   "outputs": [],
   "source": [
    "def build_structural_reform(seuil = 10000):    \n",
    "    tax_benefit_system = SenegalTaxBenefitSystem()\n",
    "    \n",
    "    class impot_revenus(Variable):\n",
    "        def formula(individu, period):\n",
    "            # TODO rewrite a new impot_revenus wich have a non-payment threshold (seuil)\n",
    "            \n",
    "    class revenu_disponible(Variable):\n",
    "        definition_period = YEAR\n",
    "        entity = Person\n",
    "        value_type = float\n",
    "\n",
    "        def formula(person, period):\n",
    "            salaire = person('salaire', period)\n",
    "            impot_revenus = person('impot_revenus', period)\n",
    "            return salaire - impot_revenus\n",
    "\n",
    "    class structural_reform(Reform):\n",
    "        name = u\"Seuil de non-versement: {}\".format(seuil)\n",
    "\n",
    "        def apply(self):\n",
    "            self.update_variable(impot_revenus)\n",
    "            self.add_variable(revenu_disponible)\n",
    "\n",
    "    return structural_reform(tax_benefit_system)"
   ]
  },
  {
   "cell_type": "code",
   "execution_count": null,
   "metadata": {},
   "outputs": [],
   "source": [
    "structural_reform = build_structural_reform(seuil = 100000)\n",
    "simulation = init_single_entity(\n",
    "    structural_reform.new_scenario(),\n",
    "    parent1 = {\n",
    "        'est_marie': True,\n",
    "        'conjoint_a_des_revenus': False,\n",
    "        'nombre_enfants': 0,\n",
    "        },\n",
    "    period = '2017',\n",
    "    axes = [[\n",
    "        {\n",
    "            'count': 100,\n",
    "            'min': 0,\n",
    "            'max': 18e6,\n",
    "            'name': 'salaire',\n",
    "            }\n",
    "        ]],\n",
    "    ).new_simulation()\n",
    "salaire = simulation.calculate('salaire', period = year)\n",
    "impot_verse = simulation.calculate('impot_revenus', period = year)\n",
    "revenu_disponible = simulation.calculate('revenu_disponible', period = year)"
   ]
  },
  {
   "cell_type": "code",
   "execution_count": null,
   "metadata": {},
   "outputs": [],
   "source": [
    "plt.plot(salaire, impot_verse)\n",
    "plt.ylabel(u\"Impôt sur les revenus\")\n",
    "plt.xlabel(u\"Salaire\")"
   ]
  },
  {
   "cell_type": "code",
   "execution_count": null,
   "metadata": {},
   "outputs": [],
   "source": [
    "plt.plot(salaire[1:], average_rate(revenu_disponible[1:], salaire[1:]))\n",
    "plt.plot(salaire[1:], marginal_rate(revenu_disponible, salaire))"
   ]
  }
 ],
 "metadata": {
  "kernelspec": {
   "display_name": "Python 3 (ipykernel)",
   "language": "python",
   "name": "python3"
  },
  "language_info": {
   "codemirror_mode": {
    "name": "ipython",
    "version": 3
   },
   "file_extension": ".py",
   "mimetype": "text/x-python",
   "name": "python",
   "nbconvert_exporter": "python",
   "pygments_lexer": "ipython3",
   "version": "3.9.2"
  }
 },
 "nbformat": 4,
 "nbformat_minor": 4
}
